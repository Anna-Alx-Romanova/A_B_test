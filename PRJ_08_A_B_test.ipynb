{
 "cells": [
  {
   "cell_type": "markdown",
   "metadata": {},
   "source": [
    "# Приоритизация гипотез и анализ А/В теста"
   ]
  },
  {
   "cell_type": "markdown",
   "metadata": {},
   "source": [
    "Описание проекта\n",
    "\n",
    "Совместно с отделом маркетинга интернет-магазина был подготовлен список гипотез для увеличения выручки.\n",
    "Необходимо приоритизировать гипетезы, запустить A/B-тест и проанализировать результаты."
   ]
  },
  {
   "cell_type": "markdown",
   "metadata": {},
   "source": [
    "### Часть 1. Приоритизация гипотез"
   ]
  },
  {
   "cell_type": "code",
   "execution_count": 1,
   "metadata": {},
   "outputs": [],
   "source": [
    "import pandas as pd\n",
    "import numpy as np\n",
    "import datetime as dt\n",
    "from matplotlib import pyplot as plt\n",
    "import seaborn as sns\n",
    "import scipy.stats as stats"
   ]
  },
  {
   "cell_type": "code",
   "execution_count": 3,
   "metadata": {},
   "outputs": [],
   "source": [
    "# Загрузска данных\n",
    "path = 'input/prj_08/'\n",
    "data = pd.read_csv(path + 'hypothesis.csv')"
   ]
  },
  {
   "cell_type": "code",
   "execution_count": 4,
   "metadata": {},
   "outputs": [
    {
     "data": {
      "text/html": [
       "<style type=\"text/css\">\n",
       "</style>\n",
       "<table id=\"T_4d2d1\">\n",
       "  <thead>\n",
       "    <tr>\n",
       "      <th class=\"blank level0\" >&nbsp;</th>\n",
       "      <th id=\"T_4d2d1_level0_col0\" class=\"col_heading level0 col0\" >Hypothesis</th>\n",
       "      <th id=\"T_4d2d1_level0_col1\" class=\"col_heading level0 col1\" >Reach</th>\n",
       "      <th id=\"T_4d2d1_level0_col2\" class=\"col_heading level0 col2\" >Impact</th>\n",
       "      <th id=\"T_4d2d1_level0_col3\" class=\"col_heading level0 col3\" >Confidence</th>\n",
       "      <th id=\"T_4d2d1_level0_col4\" class=\"col_heading level0 col4\" >Efforts</th>\n",
       "    </tr>\n",
       "  </thead>\n",
       "  <tbody>\n",
       "    <tr>\n",
       "      <th id=\"T_4d2d1_level0_row0\" class=\"row_heading level0 row0\" >0</th>\n",
       "      <td id=\"T_4d2d1_row0_col0\" class=\"data row0 col0\" >Добавить два новых канала привлечения трафика, что позволит привлекать на 30% больше пользователей</td>\n",
       "      <td id=\"T_4d2d1_row0_col1\" class=\"data row0 col1\" >3</td>\n",
       "      <td id=\"T_4d2d1_row0_col2\" class=\"data row0 col2\" >10</td>\n",
       "      <td id=\"T_4d2d1_row0_col3\" class=\"data row0 col3\" >8</td>\n",
       "      <td id=\"T_4d2d1_row0_col4\" class=\"data row0 col4\" >6</td>\n",
       "    </tr>\n",
       "    <tr>\n",
       "      <th id=\"T_4d2d1_level0_row1\" class=\"row_heading level0 row1\" >1</th>\n",
       "      <td id=\"T_4d2d1_row1_col0\" class=\"data row1 col0\" >Запустить собственную службу доставки, что сократит срок доставки заказов</td>\n",
       "      <td id=\"T_4d2d1_row1_col1\" class=\"data row1 col1\" >2</td>\n",
       "      <td id=\"T_4d2d1_row1_col2\" class=\"data row1 col2\" >5</td>\n",
       "      <td id=\"T_4d2d1_row1_col3\" class=\"data row1 col3\" >4</td>\n",
       "      <td id=\"T_4d2d1_row1_col4\" class=\"data row1 col4\" >10</td>\n",
       "    </tr>\n",
       "    <tr>\n",
       "      <th id=\"T_4d2d1_level0_row2\" class=\"row_heading level0 row2\" >2</th>\n",
       "      <td id=\"T_4d2d1_row2_col0\" class=\"data row2 col0\" >Добавить блоки рекомендаций товаров на сайт интернет магазина, чтобы повысить конверсию и средний чек заказа</td>\n",
       "      <td id=\"T_4d2d1_row2_col1\" class=\"data row2 col1\" >8</td>\n",
       "      <td id=\"T_4d2d1_row2_col2\" class=\"data row2 col2\" >3</td>\n",
       "      <td id=\"T_4d2d1_row2_col3\" class=\"data row2 col3\" >7</td>\n",
       "      <td id=\"T_4d2d1_row2_col4\" class=\"data row2 col4\" >3</td>\n",
       "    </tr>\n",
       "    <tr>\n",
       "      <th id=\"T_4d2d1_level0_row3\" class=\"row_heading level0 row3\" >3</th>\n",
       "      <td id=\"T_4d2d1_row3_col0\" class=\"data row3 col0\" >Изменить структура категорий, что увеличит конверсию, т.к. пользователи быстрее найдут нужный товар</td>\n",
       "      <td id=\"T_4d2d1_row3_col1\" class=\"data row3 col1\" >8</td>\n",
       "      <td id=\"T_4d2d1_row3_col2\" class=\"data row3 col2\" >3</td>\n",
       "      <td id=\"T_4d2d1_row3_col3\" class=\"data row3 col3\" >3</td>\n",
       "      <td id=\"T_4d2d1_row3_col4\" class=\"data row3 col4\" >8</td>\n",
       "    </tr>\n",
       "    <tr>\n",
       "      <th id=\"T_4d2d1_level0_row4\" class=\"row_heading level0 row4\" >4</th>\n",
       "      <td id=\"T_4d2d1_row4_col0\" class=\"data row4 col0\" >Изменить цвет фона главной страницы, чтобы увеличить вовлеченность пользователей</td>\n",
       "      <td id=\"T_4d2d1_row4_col1\" class=\"data row4 col1\" >3</td>\n",
       "      <td id=\"T_4d2d1_row4_col2\" class=\"data row4 col2\" >1</td>\n",
       "      <td id=\"T_4d2d1_row4_col3\" class=\"data row4 col3\" >1</td>\n",
       "      <td id=\"T_4d2d1_row4_col4\" class=\"data row4 col4\" >1</td>\n",
       "    </tr>\n",
       "    <tr>\n",
       "      <th id=\"T_4d2d1_level0_row5\" class=\"row_heading level0 row5\" >5</th>\n",
       "      <td id=\"T_4d2d1_row5_col0\" class=\"data row5 col0\" >Добавить страницу отзывов клиентов о магазине, что позволит увеличить количество заказов</td>\n",
       "      <td id=\"T_4d2d1_row5_col1\" class=\"data row5 col1\" >3</td>\n",
       "      <td id=\"T_4d2d1_row5_col2\" class=\"data row5 col2\" >2</td>\n",
       "      <td id=\"T_4d2d1_row5_col3\" class=\"data row5 col3\" >2</td>\n",
       "      <td id=\"T_4d2d1_row5_col4\" class=\"data row5 col4\" >3</td>\n",
       "    </tr>\n",
       "    <tr>\n",
       "      <th id=\"T_4d2d1_level0_row6\" class=\"row_heading level0 row6\" >6</th>\n",
       "      <td id=\"T_4d2d1_row6_col0\" class=\"data row6 col0\" >Показать на главной странице баннеры с актуальными акциями и распродажами, чтобы увеличить конверсию</td>\n",
       "      <td id=\"T_4d2d1_row6_col1\" class=\"data row6 col1\" >5</td>\n",
       "      <td id=\"T_4d2d1_row6_col2\" class=\"data row6 col2\" >3</td>\n",
       "      <td id=\"T_4d2d1_row6_col3\" class=\"data row6 col3\" >8</td>\n",
       "      <td id=\"T_4d2d1_row6_col4\" class=\"data row6 col4\" >3</td>\n",
       "    </tr>\n",
       "    <tr>\n",
       "      <th id=\"T_4d2d1_level0_row7\" class=\"row_heading level0 row7\" >7</th>\n",
       "      <td id=\"T_4d2d1_row7_col0\" class=\"data row7 col0\" >Добавить форму подписки на все основные страницы, чтобы собрать базу клиентов для email-рассылок</td>\n",
       "      <td id=\"T_4d2d1_row7_col1\" class=\"data row7 col1\" >10</td>\n",
       "      <td id=\"T_4d2d1_row7_col2\" class=\"data row7 col2\" >7</td>\n",
       "      <td id=\"T_4d2d1_row7_col3\" class=\"data row7 col3\" >8</td>\n",
       "      <td id=\"T_4d2d1_row7_col4\" class=\"data row7 col4\" >5</td>\n",
       "    </tr>\n",
       "    <tr>\n",
       "      <th id=\"T_4d2d1_level0_row8\" class=\"row_heading level0 row8\" >8</th>\n",
       "      <td id=\"T_4d2d1_row8_col0\" class=\"data row8 col0\" >Запустить акцию, дающую скидку на товар в день рождения</td>\n",
       "      <td id=\"T_4d2d1_row8_col1\" class=\"data row8 col1\" >1</td>\n",
       "      <td id=\"T_4d2d1_row8_col2\" class=\"data row8 col2\" >9</td>\n",
       "      <td id=\"T_4d2d1_row8_col3\" class=\"data row8 col3\" >9</td>\n",
       "      <td id=\"T_4d2d1_row8_col4\" class=\"data row8 col4\" >5</td>\n",
       "    </tr>\n",
       "  </tbody>\n",
       "</table>\n"
      ],
      "text/plain": [
       "<pandas.io.formats.style.Styler at 0x181441bc6a0>"
      ]
     },
     "execution_count": 4,
     "metadata": {},
     "output_type": "execute_result"
    }
   ],
   "source": [
    "data.style"
   ]
  },
  {
   "cell_type": "code",
   "execution_count": 5,
   "metadata": {},
   "outputs": [],
   "source": [
    "#Переведем все символы в заголовках к строчному типу\n",
    "data.columns = data.columns.str.lower()"
   ]
  },
  {
   "cell_type": "code",
   "execution_count": 6,
   "metadata": {},
   "outputs": [
    {
     "data": {
      "text/plain": [
       "Index(['hypothesis', 'reach', 'impact', 'confidence', 'efforts'], dtype='object')"
      ]
     },
     "execution_count": 6,
     "metadata": {},
     "output_type": "execute_result"
    }
   ],
   "source": [
    "# Проверим названия заголовков после изменения\n",
    "data.columns"
   ]
  },
  {
   "cell_type": "markdown",
   "metadata": {},
   "source": [
    "#### Задача 1.1. Применить фреймворк ICE для приоритизации гипотез. Отсортировать их по убыванию приоритета."
   ]
  },
  {
   "cell_type": "code",
   "execution_count": 7,
   "metadata": {},
   "outputs": [
    {
     "data": {
      "text/html": [
       "<style type=\"text/css\">\n",
       "</style>\n",
       "<table id=\"T_ce1a6\">\n",
       "  <thead>\n",
       "    <tr>\n",
       "      <th class=\"blank level0\" >&nbsp;</th>\n",
       "      <th id=\"T_ce1a6_level0_col0\" class=\"col_heading level0 col0\" >hypothesis</th>\n",
       "      <th id=\"T_ce1a6_level0_col1\" class=\"col_heading level0 col1\" >ICE</th>\n",
       "    </tr>\n",
       "  </thead>\n",
       "  <tbody>\n",
       "    <tr>\n",
       "      <th id=\"T_ce1a6_level0_row0\" class=\"row_heading level0 row0\" >8</th>\n",
       "      <td id=\"T_ce1a6_row0_col0\" class=\"data row0 col0\" >Запустить акцию, дающую скидку на товар в день рождения</td>\n",
       "      <td id=\"T_ce1a6_row0_col1\" class=\"data row0 col1\" >16.200000</td>\n",
       "    </tr>\n",
       "    <tr>\n",
       "      <th id=\"T_ce1a6_level0_row1\" class=\"row_heading level0 row1\" >0</th>\n",
       "      <td id=\"T_ce1a6_row1_col0\" class=\"data row1 col0\" >Добавить два новых канала привлечения трафика, что позволит привлекать на 30% больше пользователей</td>\n",
       "      <td id=\"T_ce1a6_row1_col1\" class=\"data row1 col1\" >13.333333</td>\n",
       "    </tr>\n",
       "    <tr>\n",
       "      <th id=\"T_ce1a6_level0_row2\" class=\"row_heading level0 row2\" >7</th>\n",
       "      <td id=\"T_ce1a6_row2_col0\" class=\"data row2 col0\" >Добавить форму подписки на все основные страницы, чтобы собрать базу клиентов для email-рассылок</td>\n",
       "      <td id=\"T_ce1a6_row2_col1\" class=\"data row2 col1\" >11.200000</td>\n",
       "    </tr>\n",
       "    <tr>\n",
       "      <th id=\"T_ce1a6_level0_row3\" class=\"row_heading level0 row3\" >6</th>\n",
       "      <td id=\"T_ce1a6_row3_col0\" class=\"data row3 col0\" >Показать на главной странице баннеры с актуальными акциями и распродажами, чтобы увеличить конверсию</td>\n",
       "      <td id=\"T_ce1a6_row3_col1\" class=\"data row3 col1\" >8.000000</td>\n",
       "    </tr>\n",
       "    <tr>\n",
       "      <th id=\"T_ce1a6_level0_row4\" class=\"row_heading level0 row4\" >2</th>\n",
       "      <td id=\"T_ce1a6_row4_col0\" class=\"data row4 col0\" >Добавить блоки рекомендаций товаров на сайт интернет магазина, чтобы повысить конверсию и средний чек заказа</td>\n",
       "      <td id=\"T_ce1a6_row4_col1\" class=\"data row4 col1\" >7.000000</td>\n",
       "    </tr>\n",
       "    <tr>\n",
       "      <th id=\"T_ce1a6_level0_row5\" class=\"row_heading level0 row5\" >1</th>\n",
       "      <td id=\"T_ce1a6_row5_col0\" class=\"data row5 col0\" >Запустить собственную службу доставки, что сократит срок доставки заказов</td>\n",
       "      <td id=\"T_ce1a6_row5_col1\" class=\"data row5 col1\" >2.000000</td>\n",
       "    </tr>\n",
       "    <tr>\n",
       "      <th id=\"T_ce1a6_level0_row6\" class=\"row_heading level0 row6\" >5</th>\n",
       "      <td id=\"T_ce1a6_row6_col0\" class=\"data row6 col0\" >Добавить страницу отзывов клиентов о магазине, что позволит увеличить количество заказов</td>\n",
       "      <td id=\"T_ce1a6_row6_col1\" class=\"data row6 col1\" >1.333333</td>\n",
       "    </tr>\n",
       "    <tr>\n",
       "      <th id=\"T_ce1a6_level0_row7\" class=\"row_heading level0 row7\" >3</th>\n",
       "      <td id=\"T_ce1a6_row7_col0\" class=\"data row7 col0\" >Изменить структура категорий, что увеличит конверсию, т.к. пользователи быстрее найдут нужный товар</td>\n",
       "      <td id=\"T_ce1a6_row7_col1\" class=\"data row7 col1\" >1.125000</td>\n",
       "    </tr>\n",
       "    <tr>\n",
       "      <th id=\"T_ce1a6_level0_row8\" class=\"row_heading level0 row8\" >4</th>\n",
       "      <td id=\"T_ce1a6_row8_col0\" class=\"data row8 col0\" >Изменить цвет фона главной страницы, чтобы увеличить вовлеченность пользователей</td>\n",
       "      <td id=\"T_ce1a6_row8_col1\" class=\"data row8 col1\" >1.000000</td>\n",
       "    </tr>\n",
       "  </tbody>\n",
       "</table>\n"
      ],
      "text/plain": [
       "<pandas.io.formats.style.Styler at 0x181443c5ca0>"
      ]
     },
     "execution_count": 7,
     "metadata": {},
     "output_type": "execute_result"
    }
   ],
   "source": [
    "data['ICE'] = (data['impact']*data['confidence'])/data['efforts']\n",
    "data[['hypothesis', 'ICE']].sort_values(by='ICE', ascending=False).style"
   ]
  },
  {
   "cell_type": "markdown",
   "metadata": {},
   "source": [
    "#### Задача 1.2. Применить фреймворк RICE для приоритизации гипотез. Отсортировать их по убыванию приоритета."
   ]
  },
  {
   "cell_type": "code",
   "execution_count": 8,
   "metadata": {},
   "outputs": [],
   "source": [
    "data['RICE'] = (data['reach']*data['impact']*data['confidence'])/data['efforts']"
   ]
  },
  {
   "cell_type": "code",
   "execution_count": 9,
   "metadata": {},
   "outputs": [
    {
     "data": {
      "text/html": [
       "<style type=\"text/css\">\n",
       "</style>\n",
       "<table id=\"T_d21db\">\n",
       "  <thead>\n",
       "    <tr>\n",
       "      <th class=\"blank level0\" >&nbsp;</th>\n",
       "      <th id=\"T_d21db_level0_col0\" class=\"col_heading level0 col0\" >hypothesis</th>\n",
       "      <th id=\"T_d21db_level0_col1\" class=\"col_heading level0 col1\" >ICE</th>\n",
       "      <th id=\"T_d21db_level0_col2\" class=\"col_heading level0 col2\" >RICE</th>\n",
       "    </tr>\n",
       "  </thead>\n",
       "  <tbody>\n",
       "    <tr>\n",
       "      <th id=\"T_d21db_level0_row0\" class=\"row_heading level0 row0\" >7</th>\n",
       "      <td id=\"T_d21db_row0_col0\" class=\"data row0 col0\" >Добавить форму подписки на все основные страницы, чтобы собрать базу клиентов для email-рассылок</td>\n",
       "      <td id=\"T_d21db_row0_col1\" class=\"data row0 col1\" >11.200000</td>\n",
       "      <td id=\"T_d21db_row0_col2\" class=\"data row0 col2\" >112.000000</td>\n",
       "    </tr>\n",
       "    <tr>\n",
       "      <th id=\"T_d21db_level0_row1\" class=\"row_heading level0 row1\" >2</th>\n",
       "      <td id=\"T_d21db_row1_col0\" class=\"data row1 col0\" >Добавить блоки рекомендаций товаров на сайт интернет магазина, чтобы повысить конверсию и средний чек заказа</td>\n",
       "      <td id=\"T_d21db_row1_col1\" class=\"data row1 col1\" >7.000000</td>\n",
       "      <td id=\"T_d21db_row1_col2\" class=\"data row1 col2\" >56.000000</td>\n",
       "    </tr>\n",
       "    <tr>\n",
       "      <th id=\"T_d21db_level0_row2\" class=\"row_heading level0 row2\" >0</th>\n",
       "      <td id=\"T_d21db_row2_col0\" class=\"data row2 col0\" >Добавить два новых канала привлечения трафика, что позволит привлекать на 30% больше пользователей</td>\n",
       "      <td id=\"T_d21db_row2_col1\" class=\"data row2 col1\" >13.333333</td>\n",
       "      <td id=\"T_d21db_row2_col2\" class=\"data row2 col2\" >40.000000</td>\n",
       "    </tr>\n",
       "    <tr>\n",
       "      <th id=\"T_d21db_level0_row3\" class=\"row_heading level0 row3\" >6</th>\n",
       "      <td id=\"T_d21db_row3_col0\" class=\"data row3 col0\" >Показать на главной странице баннеры с актуальными акциями и распродажами, чтобы увеличить конверсию</td>\n",
       "      <td id=\"T_d21db_row3_col1\" class=\"data row3 col1\" >8.000000</td>\n",
       "      <td id=\"T_d21db_row3_col2\" class=\"data row3 col2\" >40.000000</td>\n",
       "    </tr>\n",
       "    <tr>\n",
       "      <th id=\"T_d21db_level0_row4\" class=\"row_heading level0 row4\" >8</th>\n",
       "      <td id=\"T_d21db_row4_col0\" class=\"data row4 col0\" >Запустить акцию, дающую скидку на товар в день рождения</td>\n",
       "      <td id=\"T_d21db_row4_col1\" class=\"data row4 col1\" >16.200000</td>\n",
       "      <td id=\"T_d21db_row4_col2\" class=\"data row4 col2\" >16.200000</td>\n",
       "    </tr>\n",
       "    <tr>\n",
       "      <th id=\"T_d21db_level0_row5\" class=\"row_heading level0 row5\" >3</th>\n",
       "      <td id=\"T_d21db_row5_col0\" class=\"data row5 col0\" >Изменить структура категорий, что увеличит конверсию, т.к. пользователи быстрее найдут нужный товар</td>\n",
       "      <td id=\"T_d21db_row5_col1\" class=\"data row5 col1\" >1.125000</td>\n",
       "      <td id=\"T_d21db_row5_col2\" class=\"data row5 col2\" >9.000000</td>\n",
       "    </tr>\n",
       "    <tr>\n",
       "      <th id=\"T_d21db_level0_row6\" class=\"row_heading level0 row6\" >1</th>\n",
       "      <td id=\"T_d21db_row6_col0\" class=\"data row6 col0\" >Запустить собственную службу доставки, что сократит срок доставки заказов</td>\n",
       "      <td id=\"T_d21db_row6_col1\" class=\"data row6 col1\" >2.000000</td>\n",
       "      <td id=\"T_d21db_row6_col2\" class=\"data row6 col2\" >4.000000</td>\n",
       "    </tr>\n",
       "    <tr>\n",
       "      <th id=\"T_d21db_level0_row7\" class=\"row_heading level0 row7\" >5</th>\n",
       "      <td id=\"T_d21db_row7_col0\" class=\"data row7 col0\" >Добавить страницу отзывов клиентов о магазине, что позволит увеличить количество заказов</td>\n",
       "      <td id=\"T_d21db_row7_col1\" class=\"data row7 col1\" >1.333333</td>\n",
       "      <td id=\"T_d21db_row7_col2\" class=\"data row7 col2\" >4.000000</td>\n",
       "    </tr>\n",
       "    <tr>\n",
       "      <th id=\"T_d21db_level0_row8\" class=\"row_heading level0 row8\" >4</th>\n",
       "      <td id=\"T_d21db_row8_col0\" class=\"data row8 col0\" >Изменить цвет фона главной страницы, чтобы увеличить вовлеченность пользователей</td>\n",
       "      <td id=\"T_d21db_row8_col1\" class=\"data row8 col1\" >1.000000</td>\n",
       "      <td id=\"T_d21db_row8_col2\" class=\"data row8 col2\" >3.000000</td>\n",
       "    </tr>\n",
       "  </tbody>\n",
       "</table>\n"
      ],
      "text/plain": [
       "<pandas.io.formats.style.Styler at 0x181443c5dc0>"
      ]
     },
     "execution_count": 9,
     "metadata": {},
     "output_type": "execute_result"
    }
   ],
   "source": [
    "data[['hypothesis', 'ICE','RICE']].sort_values(by='RICE', ascending=False).style"
   ]
  },
  {
   "cell_type": "markdown",
   "metadata": {},
   "source": [
    "#### Задача 1.3. Указать, как изменилась приоритизация гипотез при применении RICE вместо ICE. Объяснить, почему так произошло"
   ]
  },
  {
   "cell_type": "markdown",
   "metadata": {},
   "source": [
    "Наиболее перспективные гипотезы по ICE:\n",
    "*  — Запустить акцию, дающую скидку на товар в день рождения\n",
    "*  — Добавить два новых канала привлечения трафика, что позволит привлекать на 30% больше пользователей\n",
    "*  — Добавить форму подписки на все основные страницы, чтобы собрать базу клиентов для email-рассылок\n",
    "*  — Показать на главной странице баннеры с актуальными акциями и распродажами, чтобы увеличить конверсию"
   ]
  },
  {
   "cell_type": "markdown",
   "metadata": {},
   "source": [
    "Наиболее перспективные гипотезы по RICE:\n",
    "*  — Добавить форму подписки на все основные страницы, чтобы собрать базу клиентов для email-рассылок (3-я позиция по ICE)\n",
    "*  — Добавить блоки рекомендаций товаров на сайт интернет магазина, чтобы повысить конверсию и средний чек заказа (5-я позиция по ICE)\n",
    "*  — Добавить два новых канала привлечения трафика, что позволит привлекать на 30% больше пользователей (2-я позиция по ICE)\n",
    "*  — Показать на главной странице баннеры с актуальными акциями и распродажами, чтобы увеличить конверсию (4-я позиция по ICE)"
   ]
  },
  {
   "cell_type": "markdown",
   "metadata": {},
   "source": [
    "Выводы: приоритизация гипотез изменилась после учета охвата пользователей (параметр Reach). Например гипотеза, которая заняла первую позицию по ICE (Запустить акцию, дающую скидку на товар в день рождения) надежная, оказывает сильное влияние на охваченных пользователей, однако, охватывает небольшую группу пользователей, поэтому она заняла только 5-ю позицию по RICE."
   ]
  },
  {
   "cell_type": "markdown",
   "metadata": {},
   "source": [
    "### Часть 2. Анализ A/B-теста"
   ]
  },
  {
   "cell_type": "markdown",
   "metadata": {},
   "source": [
    "Был проведен A/B-тест и получены результаты, которые описаны в 2-х файлах: orders.csv и visitors.csv.\n",
    "\n",
    "Задача: проанализировать A/B-тест:"
   ]
  },
  {
   "cell_type": "code",
   "execution_count": 10,
   "metadata": {},
   "outputs": [],
   "source": [
    "# Загрузска данных\n",
    "path = 'input/prj_08/'\n",
    "orders = pd.read_csv(path + 'orders.csv')\n",
    "visitors = pd.read_csv(path + 'visitors.csv')"
   ]
  },
  {
   "cell_type": "code",
   "execution_count": 11,
   "metadata": {},
   "outputs": [
    {
     "data": {
      "text/html": [
       "<div>\n",
       "<style scoped>\n",
       "    .dataframe tbody tr th:only-of-type {\n",
       "        vertical-align: middle;\n",
       "    }\n",
       "\n",
       "    .dataframe tbody tr th {\n",
       "        vertical-align: top;\n",
       "    }\n",
       "\n",
       "    .dataframe thead th {\n",
       "        text-align: right;\n",
       "    }\n",
       "</style>\n",
       "<table border=\"1\" class=\"dataframe\">\n",
       "  <thead>\n",
       "    <tr style=\"text-align: right;\">\n",
       "      <th></th>\n",
       "      <th>transactionId</th>\n",
       "      <th>visitorId</th>\n",
       "      <th>date</th>\n",
       "      <th>revenue</th>\n",
       "      <th>group</th>\n",
       "    </tr>\n",
       "  </thead>\n",
       "  <tbody>\n",
       "    <tr>\n",
       "      <th>0</th>\n",
       "      <td>3667963787</td>\n",
       "      <td>3312258926</td>\n",
       "      <td>2019-08-15</td>\n",
       "      <td>1650</td>\n",
       "      <td>B</td>\n",
       "    </tr>\n",
       "    <tr>\n",
       "      <th>1</th>\n",
       "      <td>2804400009</td>\n",
       "      <td>3642806036</td>\n",
       "      <td>2019-08-15</td>\n",
       "      <td>730</td>\n",
       "      <td>B</td>\n",
       "    </tr>\n",
       "    <tr>\n",
       "      <th>2</th>\n",
       "      <td>2961555356</td>\n",
       "      <td>4069496402</td>\n",
       "      <td>2019-08-15</td>\n",
       "      <td>400</td>\n",
       "      <td>A</td>\n",
       "    </tr>\n",
       "  </tbody>\n",
       "</table>\n",
       "</div>"
      ],
      "text/plain": [
       "   transactionId   visitorId        date  revenue group\n",
       "0     3667963787  3312258926  2019-08-15     1650     B\n",
       "1     2804400009  3642806036  2019-08-15      730     B\n",
       "2     2961555356  4069496402  2019-08-15      400     A"
      ]
     },
     "execution_count": 11,
     "metadata": {},
     "output_type": "execute_result"
    }
   ],
   "source": [
    "orders.head(3)"
   ]
  },
  {
   "cell_type": "markdown",
   "metadata": {},
   "source": [
    "###### Описание данных orders\n",
    "* `transactionId` — идентификатор заказа;\n",
    "* `visitorId` — идентификатор пользователя, совершившего заказ;\n",
    "* `date` — дата, когда был совершён заказ;\n",
    "* `revenue` — выручка заказа;\n",
    "* `group` — группа A/B-теста, в которую попал заказ."
   ]
  },
  {
   "cell_type": "code",
   "execution_count": 12,
   "metadata": {},
   "outputs": [
    {
     "data": {
      "text/html": [
       "<div>\n",
       "<style scoped>\n",
       "    .dataframe tbody tr th:only-of-type {\n",
       "        vertical-align: middle;\n",
       "    }\n",
       "\n",
       "    .dataframe tbody tr th {\n",
       "        vertical-align: top;\n",
       "    }\n",
       "\n",
       "    .dataframe thead th {\n",
       "        text-align: right;\n",
       "    }\n",
       "</style>\n",
       "<table border=\"1\" class=\"dataframe\">\n",
       "  <thead>\n",
       "    <tr style=\"text-align: right;\">\n",
       "      <th></th>\n",
       "      <th>date</th>\n",
       "      <th>group</th>\n",
       "      <th>visitors</th>\n",
       "    </tr>\n",
       "  </thead>\n",
       "  <tbody>\n",
       "    <tr>\n",
       "      <th>0</th>\n",
       "      <td>2019-08-01</td>\n",
       "      <td>A</td>\n",
       "      <td>719</td>\n",
       "    </tr>\n",
       "    <tr>\n",
       "      <th>1</th>\n",
       "      <td>2019-08-02</td>\n",
       "      <td>A</td>\n",
       "      <td>619</td>\n",
       "    </tr>\n",
       "    <tr>\n",
       "      <th>2</th>\n",
       "      <td>2019-08-03</td>\n",
       "      <td>A</td>\n",
       "      <td>507</td>\n",
       "    </tr>\n",
       "  </tbody>\n",
       "</table>\n",
       "</div>"
      ],
      "text/plain": [
       "         date group  visitors\n",
       "0  2019-08-01     A       719\n",
       "1  2019-08-02     A       619\n",
       "2  2019-08-03     A       507"
      ]
     },
     "execution_count": 12,
     "metadata": {},
     "output_type": "execute_result"
    }
   ],
   "source": [
    "visitors.head(3)"
   ]
  },
  {
   "cell_type": "markdown",
   "metadata": {},
   "source": [
    "###### Описание данных visitors\n",
    "* `date` — дата;\n",
    "* `group` — группа A/B-теста;\n",
    "* `visitors` — количество пользователей в указанную дату в указанной группе A/B-теста."
   ]
  },
  {
   "cell_type": "code",
   "execution_count": 13,
   "metadata": {},
   "outputs": [
    {
     "data": {
      "text/plain": [
       "0"
      ]
     },
     "execution_count": 13,
     "metadata": {},
     "output_type": "execute_result"
    }
   ],
   "source": [
    "# проверка на отсутствие дубликатов в orders\n",
    "orders.duplicated().sum()"
   ]
  },
  {
   "cell_type": "code",
   "execution_count": 14,
   "metadata": {},
   "outputs": [
    {
     "data": {
      "text/plain": [
       "0"
      ]
     },
     "execution_count": 14,
     "metadata": {},
     "output_type": "execute_result"
    }
   ],
   "source": [
    "# проверка на отсутствие дубликатов в visitors\n",
    "visitors.duplicated().sum()"
   ]
  },
  {
   "cell_type": "code",
   "execution_count": 15,
   "metadata": {},
   "outputs": [
    {
     "name": "stdout",
     "output_type": "stream",
     "text": [
      "<class 'pandas.core.frame.DataFrame'>\n",
      "RangeIndex: 1197 entries, 0 to 1196\n",
      "Data columns (total 5 columns):\n",
      " #   Column         Non-Null Count  Dtype \n",
      "---  ------         --------------  ----- \n",
      " 0   transactionId  1197 non-null   int64 \n",
      " 1   visitorId      1197 non-null   int64 \n",
      " 2   date           1197 non-null   object\n",
      " 3   revenue        1197 non-null   int64 \n",
      " 4   group          1197 non-null   object\n",
      "dtypes: int64(3), object(2)\n",
      "memory usage: 46.9+ KB\n"
     ]
    }
   ],
   "source": [
    "# получение общей информации о данных в таблице\n",
    "orders.info()"
   ]
  },
  {
   "cell_type": "code",
   "execution_count": 16,
   "metadata": {},
   "outputs": [
    {
     "name": "stdout",
     "output_type": "stream",
     "text": [
      "<class 'pandas.core.frame.DataFrame'>\n",
      "RangeIndex: 62 entries, 0 to 61\n",
      "Data columns (total 3 columns):\n",
      " #   Column    Non-Null Count  Dtype \n",
      "---  ------    --------------  ----- \n",
      " 0   date      62 non-null     object\n",
      " 1   group     62 non-null     object\n",
      " 2   visitors  62 non-null     int64 \n",
      "dtypes: int64(1), object(2)\n",
      "memory usage: 1.6+ KB\n"
     ]
    }
   ],
   "source": [
    "# получение общей информации о данных в таблице\n",
    "visitors.info()"
   ]
  },
  {
   "cell_type": "code",
   "execution_count": 17,
   "metadata": {},
   "outputs": [],
   "source": [
    "# преобразование данных о времени\n",
    "orders['date'] = orders['date'].map(lambda x: dt.datetime.strptime(x, '%Y-%m-%d'))\n",
    "visitors['date'] = visitors['date'].map(lambda x: dt.datetime.strptime(x, '%Y-%m-%d'))"
   ]
  },
  {
   "cell_type": "code",
   "execution_count": 18,
   "metadata": {},
   "outputs": [
    {
     "name": "stdout",
     "output_type": "stream",
     "text": [
      "<class 'pandas.core.frame.DataFrame'>\n",
      "RangeIndex: 62 entries, 0 to 61\n",
      "Data columns (total 3 columns):\n",
      " #   Column    Non-Null Count  Dtype         \n",
      "---  ------    --------------  -----         \n",
      " 0   date      62 non-null     datetime64[ns]\n",
      " 1   group     62 non-null     object        \n",
      " 2   visitors  62 non-null     int64         \n",
      "dtypes: datetime64[ns](1), int64(1), object(1)\n",
      "memory usage: 1.6+ KB\n"
     ]
    }
   ],
   "source": [
    "visitors.info()"
   ]
  },
  {
   "cell_type": "code",
   "execution_count": 19,
   "metadata": {},
   "outputs": [
    {
     "name": "stdout",
     "output_type": "stream",
     "text": [
      "<class 'pandas.core.frame.DataFrame'>\n",
      "RangeIndex: 1197 entries, 0 to 1196\n",
      "Data columns (total 5 columns):\n",
      " #   Column         Non-Null Count  Dtype         \n",
      "---  ------         --------------  -----         \n",
      " 0   transactionId  1197 non-null   int64         \n",
      " 1   visitorId      1197 non-null   int64         \n",
      " 2   date           1197 non-null   datetime64[ns]\n",
      " 3   revenue        1197 non-null   int64         \n",
      " 4   group          1197 non-null   object        \n",
      "dtypes: datetime64[ns](1), int64(3), object(1)\n",
      "memory usage: 46.9+ KB\n"
     ]
    }
   ],
   "source": [
    "orders.info()"
   ]
  },
  {
   "cell_type": "markdown",
   "metadata": {},
   "source": [
    "#### Задача 2.1: Построить график кумулятивной выручки по группам. Сделать выводы и предположения"
   ]
  },
  {
   "cell_type": "code",
   "execution_count": 20,
   "metadata": {},
   "outputs": [],
   "source": [
    "# создаем массив уникальных пар значений дат и групп теста\n",
    "datesGroups = orders[['date','group']].drop_duplicates()"
   ]
  },
  {
   "cell_type": "code",
   "execution_count": 21,
   "metadata": {},
   "outputs": [
    {
     "data": {
      "text/html": [
       "<div>\n",
       "<style scoped>\n",
       "    .dataframe tbody tr th:only-of-type {\n",
       "        vertical-align: middle;\n",
       "    }\n",
       "\n",
       "    .dataframe tbody tr th {\n",
       "        vertical-align: top;\n",
       "    }\n",
       "\n",
       "    .dataframe thead th {\n",
       "        text-align: right;\n",
       "    }\n",
       "</style>\n",
       "<table border=\"1\" class=\"dataframe\">\n",
       "  <thead>\n",
       "    <tr style=\"text-align: right;\">\n",
       "      <th></th>\n",
       "      <th>date</th>\n",
       "      <th>group</th>\n",
       "    </tr>\n",
       "  </thead>\n",
       "  <tbody>\n",
       "    <tr>\n",
       "      <th>0</th>\n",
       "      <td>2019-08-15</td>\n",
       "      <td>B</td>\n",
       "    </tr>\n",
       "    <tr>\n",
       "      <th>2</th>\n",
       "      <td>2019-08-15</td>\n",
       "      <td>A</td>\n",
       "    </tr>\n",
       "    <tr>\n",
       "      <th>45</th>\n",
       "      <td>2019-08-16</td>\n",
       "      <td>A</td>\n",
       "    </tr>\n",
       "  </tbody>\n",
       "</table>\n",
       "</div>"
      ],
      "text/plain": [
       "         date group\n",
       "0  2019-08-15     B\n",
       "2  2019-08-15     A\n",
       "45 2019-08-16     A"
      ]
     },
     "execution_count": 21,
     "metadata": {},
     "output_type": "execute_result"
    }
   ],
   "source": [
    "datesGroups.head(3)"
   ]
  },
  {
   "cell_type": "code",
   "execution_count": 22,
   "metadata": {},
   "outputs": [],
   "source": [
    "# получаем агрегированные кумулятивные по дням данные о заказах \n",
    "ordersAggregated = datesGroups.apply(lambda x: orders[np.logical_and(orders['date'] <= x['date'], orders['group'] == x['group'])].agg({'date' : 'max', 'group' : 'max', 'transactionId' : 'nunique', 'visitorId' : 'nunique', 'revenue' : 'sum'}), axis=1).sort_values(by=['date','group'])"
   ]
  },
  {
   "cell_type": "code",
   "execution_count": 23,
   "metadata": {},
   "outputs": [
    {
     "data": {
      "text/html": [
       "<div>\n",
       "<style scoped>\n",
       "    .dataframe tbody tr th:only-of-type {\n",
       "        vertical-align: middle;\n",
       "    }\n",
       "\n",
       "    .dataframe tbody tr th {\n",
       "        vertical-align: top;\n",
       "    }\n",
       "\n",
       "    .dataframe thead th {\n",
       "        text-align: right;\n",
       "    }\n",
       "</style>\n",
       "<table border=\"1\" class=\"dataframe\">\n",
       "  <thead>\n",
       "    <tr style=\"text-align: right;\">\n",
       "      <th></th>\n",
       "      <th>date</th>\n",
       "      <th>group</th>\n",
       "      <th>transactionId</th>\n",
       "      <th>visitorId</th>\n",
       "      <th>revenue</th>\n",
       "    </tr>\n",
       "  </thead>\n",
       "  <tbody>\n",
       "    <tr>\n",
       "      <th>55</th>\n",
       "      <td>2019-08-01</td>\n",
       "      <td>A</td>\n",
       "      <td>24</td>\n",
       "      <td>20</td>\n",
       "      <td>148579</td>\n",
       "    </tr>\n",
       "    <tr>\n",
       "      <th>66</th>\n",
       "      <td>2019-08-01</td>\n",
       "      <td>B</td>\n",
       "      <td>21</td>\n",
       "      <td>20</td>\n",
       "      <td>101217</td>\n",
       "    </tr>\n",
       "    <tr>\n",
       "      <th>175</th>\n",
       "      <td>2019-08-02</td>\n",
       "      <td>A</td>\n",
       "      <td>44</td>\n",
       "      <td>38</td>\n",
       "      <td>242401</td>\n",
       "    </tr>\n",
       "  </tbody>\n",
       "</table>\n",
       "</div>"
      ],
      "text/plain": [
       "          date group  transactionId  visitorId  revenue\n",
       "55  2019-08-01     A             24         20   148579\n",
       "66  2019-08-01     B             21         20   101217\n",
       "175 2019-08-02     A             44         38   242401"
      ]
     },
     "execution_count": 23,
     "metadata": {},
     "output_type": "execute_result"
    }
   ],
   "source": [
    "ordersAggregated.head(3)"
   ]
  },
  {
   "cell_type": "code",
   "execution_count": 24,
   "metadata": {},
   "outputs": [],
   "source": [
    "# получаем агрегированные кумулятивные по дням данные о посетителях интернет-магазина \n",
    "visitorsAggregated = datesGroups.apply(lambda x: visitors[np.logical_and(visitors['date'] <= x['date'], visitors['group'] == x['group'])].agg({'date' : 'max', 'group' : 'max', 'visitors' : 'sum'}), axis=1).sort_values(by=['date','group'])"
   ]
  },
  {
   "cell_type": "code",
   "execution_count": 25,
   "metadata": {},
   "outputs": [
    {
     "data": {
      "text/html": [
       "<div>\n",
       "<style scoped>\n",
       "    .dataframe tbody tr th:only-of-type {\n",
       "        vertical-align: middle;\n",
       "    }\n",
       "\n",
       "    .dataframe tbody tr th {\n",
       "        vertical-align: top;\n",
       "    }\n",
       "\n",
       "    .dataframe thead th {\n",
       "        text-align: right;\n",
       "    }\n",
       "</style>\n",
       "<table border=\"1\" class=\"dataframe\">\n",
       "  <thead>\n",
       "    <tr style=\"text-align: right;\">\n",
       "      <th></th>\n",
       "      <th>date</th>\n",
       "      <th>group</th>\n",
       "      <th>visitors</th>\n",
       "    </tr>\n",
       "  </thead>\n",
       "  <tbody>\n",
       "    <tr>\n",
       "      <th>55</th>\n",
       "      <td>2019-08-01</td>\n",
       "      <td>A</td>\n",
       "      <td>719</td>\n",
       "    </tr>\n",
       "    <tr>\n",
       "      <th>66</th>\n",
       "      <td>2019-08-01</td>\n",
       "      <td>B</td>\n",
       "      <td>713</td>\n",
       "    </tr>\n",
       "    <tr>\n",
       "      <th>175</th>\n",
       "      <td>2019-08-02</td>\n",
       "      <td>A</td>\n",
       "      <td>1338</td>\n",
       "    </tr>\n",
       "  </tbody>\n",
       "</table>\n",
       "</div>"
      ],
      "text/plain": [
       "          date group  visitors\n",
       "55  2019-08-01     A       719\n",
       "66  2019-08-01     B       713\n",
       "175 2019-08-02     A      1338"
      ]
     },
     "execution_count": 25,
     "metadata": {},
     "output_type": "execute_result"
    }
   ],
   "source": [
    "visitorsAggregated.head(3)"
   ]
  },
  {
   "cell_type": "code",
   "execution_count": 26,
   "metadata": {},
   "outputs": [],
   "source": [
    "# объединяем кумулятивные данные в одной таблице и присваиваем ее столбцам понятные названия\n",
    "cumulativeData = ordersAggregated.merge(visitorsAggregated, left_on=['date', 'group'], right_on=['date', 'group'])\n",
    "cumulativeData.columns = ['date', 'group', 'orders', 'buyers', 'revenue', 'visitors']"
   ]
  },
  {
   "cell_type": "code",
   "execution_count": 27,
   "metadata": {},
   "outputs": [
    {
     "data": {
      "text/html": [
       "<div>\n",
       "<style scoped>\n",
       "    .dataframe tbody tr th:only-of-type {\n",
       "        vertical-align: middle;\n",
       "    }\n",
       "\n",
       "    .dataframe tbody tr th {\n",
       "        vertical-align: top;\n",
       "    }\n",
       "\n",
       "    .dataframe thead th {\n",
       "        text-align: right;\n",
       "    }\n",
       "</style>\n",
       "<table border=\"1\" class=\"dataframe\">\n",
       "  <thead>\n",
       "    <tr style=\"text-align: right;\">\n",
       "      <th></th>\n",
       "      <th>date</th>\n",
       "      <th>group</th>\n",
       "      <th>orders</th>\n",
       "      <th>buyers</th>\n",
       "      <th>revenue</th>\n",
       "      <th>visitors</th>\n",
       "    </tr>\n",
       "  </thead>\n",
       "  <tbody>\n",
       "    <tr>\n",
       "      <th>0</th>\n",
       "      <td>2019-08-01</td>\n",
       "      <td>A</td>\n",
       "      <td>24</td>\n",
       "      <td>20</td>\n",
       "      <td>148579</td>\n",
       "      <td>719</td>\n",
       "    </tr>\n",
       "    <tr>\n",
       "      <th>1</th>\n",
       "      <td>2019-08-01</td>\n",
       "      <td>B</td>\n",
       "      <td>21</td>\n",
       "      <td>20</td>\n",
       "      <td>101217</td>\n",
       "      <td>713</td>\n",
       "    </tr>\n",
       "    <tr>\n",
       "      <th>2</th>\n",
       "      <td>2019-08-02</td>\n",
       "      <td>A</td>\n",
       "      <td>44</td>\n",
       "      <td>38</td>\n",
       "      <td>242401</td>\n",
       "      <td>1338</td>\n",
       "    </tr>\n",
       "    <tr>\n",
       "      <th>3</th>\n",
       "      <td>2019-08-02</td>\n",
       "      <td>B</td>\n",
       "      <td>45</td>\n",
       "      <td>43</td>\n",
       "      <td>266748</td>\n",
       "      <td>1294</td>\n",
       "    </tr>\n",
       "    <tr>\n",
       "      <th>4</th>\n",
       "      <td>2019-08-03</td>\n",
       "      <td>A</td>\n",
       "      <td>68</td>\n",
       "      <td>62</td>\n",
       "      <td>354874</td>\n",
       "      <td>1845</td>\n",
       "    </tr>\n",
       "  </tbody>\n",
       "</table>\n",
       "</div>"
      ],
      "text/plain": [
       "        date group  orders  buyers  revenue  visitors\n",
       "0 2019-08-01     A      24      20   148579       719\n",
       "1 2019-08-01     B      21      20   101217       713\n",
       "2 2019-08-02     A      44      38   242401      1338\n",
       "3 2019-08-02     B      45      43   266748      1294\n",
       "4 2019-08-03     A      68      62   354874      1845"
      ]
     },
     "execution_count": 27,
     "metadata": {},
     "output_type": "execute_result"
    }
   ],
   "source": [
    "cumulativeData.head(5)"
   ]
  },
  {
   "cell_type": "markdown",
   "metadata": {},
   "source": [
    "Построим графики кумулятивной выручки по дням и группам A/B-тестирования:"
   ]
  },
  {
   "cell_type": "code",
   "execution_count": 28,
   "metadata": {},
   "outputs": [
    {
     "data": {
      "image/png": "[encoded data removed]",
      "text/plain": [
       "<Figure size 1152x576 with 1 Axes>"
      ]
     },
     "metadata": {
      "needs_background": "light"
     },
     "output_type": "display_data"
    }
   ],
   "source": [
    "# датафрейм с кумулятивным количеством заказов и кумулятивной выручкой по дням в группе А\n",
    "cumulativeRevenueA = cumulativeData[cumulativeData['group']=='A'][['date','revenue', 'orders']]\n",
    "\n",
    "# датафрейм с кумулятивным количеством заказов и кумулятивной выручкой по дням в группе B\n",
    "cumulativeRevenueB = cumulativeData[cumulativeData['group']=='B'][['date','revenue', 'orders']]\n",
    "\n",
    "plt.figure(figsize=(16,8))\n",
    "# Строим график выручки группы А\n",
    "plt.plot(cumulativeRevenueA['date'], cumulativeRevenueA['revenue'], label='A')\n",
    "\n",
    "# Строим график выручки группы B\n",
    "plt.plot(cumulativeRevenueB['date'], cumulativeRevenueB['revenue'], label='B')\n",
    "plt.xlabel('date')\n",
    "plt.ylabel('Cumulative Revenue')\n",
    "plt.grid()\n",
    "plt.title('Кумулятивная выручка по дням')\n",
    "plt.legend(); "
   ]
  },
  {
   "cell_type": "markdown",
   "metadata": {},
   "source": [
    "Выручка увеличивается в течении всего теста. Для группы А - выручка растет практически равномерно, а для группы В - имеется резкий рост. Это может говорить о всплеске числа заказов, либо о появлении очень дорогих заказов в выборке."
   ]
  },
  {
   "cell_type": "markdown",
   "metadata": {},
   "source": [
    "#### Задача 2.2: Построить график кумулятивного среднего чека по группам. Сделать выводы и предположения"
   ]
  },
  {
   "cell_type": "markdown",
   "metadata": {},
   "source": [
    "Построим графики среднего чека по группам — разделим кумулятивную выручку на кумулятивное число заказов:"
   ]
  },
  {
   "cell_type": "code",
   "execution_count": 29,
   "metadata": {},
   "outputs": [
    {
     "data": {
      "image/png": "[encoded data removed]",
      "text/plain": [
       "<Figure size 1152x576 with 1 Axes>"
      ]
     },
     "metadata": {
      "needs_background": "light"
     },
     "output_type": "display_data"
    }
   ],
   "source": [
    "plt.figure(figsize=(16,8))\n",
    "plt.plot(cumulativeRevenueA['date'], cumulativeRevenueA['revenue']/cumulativeRevenueA['orders'], label='A')\n",
    "plt.plot(cumulativeRevenueB['date'], cumulativeRevenueB['revenue']/cumulativeRevenueB['orders'], label='B')\n",
    "plt.xlabel('date')\n",
    "plt.ylabel('Cumulative Average Revenue per order')\n",
    "plt.grid()\n",
    "plt.title('Кумулятивный средний чек заказа')\n",
    "plt.legend();"
   ]
  },
  {
   "cell_type": "markdown",
   "metadata": {},
   "source": [
    "Всплески в начале теста (первая половина месяца) говорят о чувствительности среднего кумулятивного чека к величине чека при малом количестве заказов. При малом количестве данных в начале теста - на графие имеются всплески в обоих группах. \n",
    "\n",
    "Средний чек становится равномерным начиная со второй середины августа (второй половины времени проведения теста). С момента стабилизации (середина месяца) средний кумулятивный чек для группы А чек стабилизируется около значения 7000. Для группы В средний кумулятивный чек начинает падать."
   ]
  },
  {
   "cell_type": "markdown",
   "metadata": {},
   "source": [
    "#### Задача 2.3: Построить график относительного изменения кумулятивного среднего чека группы B к группе A. Сделать выводы и предположения"
   ]
  },
  {
   "cell_type": "markdown",
   "metadata": {},
   "source": [
    "Построим график относительного различия для среднего чекая:"
   ]
  },
  {
   "cell_type": "code",
   "execution_count": 30,
   "metadata": {},
   "outputs": [
    {
     "data": {
      "image/png": "[encoded data removed]",
      "text/plain": [
       "<Figure size 1152x576 with 1 Axes>"
      ]
     },
     "metadata": {
      "needs_background": "light"
     },
     "output_type": "display_data"
    }
   ],
   "source": [
    "# собираем данные в одном датафрейме\n",
    "mergedCumulativeRevenue = cumulativeRevenueA.merge(cumulativeRevenueB, left_on='date', right_on='date', how='left', suffixes=['A', 'B'])\n",
    "\n",
    "plt.figure(figsize=(16,8))\n",
    "# cтроим отношение средних чеков\n",
    "plt.plot(mergedCumulativeRevenue['date'], (mergedCumulativeRevenue['revenueB']/mergedCumulativeRevenue['ordersB'])/(mergedCumulativeRevenue['revenueA']/mergedCumulativeRevenue['ordersA'])-1)\n",
    "\n",
    "# добавляем ось X\n",
    "plt.axhline(y=0, color='black', linestyle='--')\n",
    "plt.xlabel('date')\n",
    "plt.ylabel('Cumulative Average Revenue Ratio (B/A)')\n",
    "plt.title('Относительное изменение кумулятивного среднего чека группы B к группе A')\n",
    "plt.grid();"
   ]
  },
  {
   "cell_type": "markdown",
   "metadata": {},
   "source": [
    "В нескольких точках график различия между сегментами резко «скачет». Это говорит о наличии крупных заказов в данных (выбросы) "
   ]
  },
  {
   "cell_type": "markdown",
   "metadata": {},
   "source": [
    "#### Задача 2.4:\tПостроить график кумулятивной конверсии по группам. Сделать выводы и предположения"
   ]
  },
  {
   "cell_type": "markdown",
   "metadata": {},
   "source": [
    "Проанализируем график кумулятивной конверсии. Зададим масштаб осей, для этого передадим ему минимальное и максимальное значения оси x: минимальное и максимальное значения оси y — [\"2019-08-18\", '2019-09-01', 0, 0.015].\n",
    "\n",
    "Временой промежуток 2019/08/18 - 2019/09/01 выбран по причине того, что на этом промежутке стабилизировалось поведение комулятивного среднего чека (см. Задача 2.2)\n"
   ]
  },
  {
   "cell_type": "code",
   "execution_count": 31,
   "metadata": {},
   "outputs": [
    {
     "data": {
      "image/png": "[encoded data removed]",
      "text/plain": [
       "<Figure size 1152x576 with 1 Axes>"
      ]
     },
     "metadata": {
      "needs_background": "light"
     },
     "output_type": "display_data"
    }
   ],
   "source": [
    "# считаем кумулятивную конверсию\n",
    "cumulativeData['conversion'] = cumulativeData['orders']/cumulativeData['visitors']\n",
    "\n",
    "# отделяем данные по группе A\n",
    "cumulativeDataA = cumulativeData[cumulativeData['group']=='A']\n",
    "\n",
    "# отделяем данные по группе B\n",
    "cumulativeDataB = cumulativeData[cumulativeData['group']=='B']\n",
    "\n",
    "# строим графики\n",
    "plt.figure(figsize=(16,8))\n",
    "plt.plot(cumulativeDataA['date'], cumulativeDataA['conversion'], label='A')\n",
    "plt.plot(cumulativeDataB['date'], cumulativeDataB['conversion'], label='B')\n",
    "plt.title('Кумулятивная конверсия')\n",
    "plt.legend()\n",
    "\n",
    "# задаем масштаб осей\n",
    "plt.axis([dt.datetime(2019, 8, 18), dt.datetime(2019, 9, 1), 0, 0.05])\n",
    "plt.grid();"
   ]
  },
  {
   "cell_type": "markdown",
   "metadata": {},
   "source": [
    "Кумулятивная конверсия для обоих групп установилась около одного своего среднего значения: для группы А - 3%, для группы В - 3.5%.  Конверсия группы В стабильно выше конверсии группы А на анализируемом промежутке."
   ]
  },
  {
   "cell_type": "markdown",
   "metadata": {},
   "source": [
    "#### Задача 2.5:\tПостроить график относительного изменения кумулятивной конверсии группы B к группе A. Сделать выводы и предположения"
   ]
  },
  {
   "cell_type": "markdown",
   "metadata": {},
   "source": [
    "Построим график относительного различия кумулятивных конверсий. Времянной промежуток выбирем такой же как и в предыдущей задаче."
   ]
  },
  {
   "cell_type": "code",
   "execution_count": 32,
   "metadata": {},
   "outputs": [
    {
     "data": {
      "image/png": "[encoded data removed]",
      "text/plain": [
       "<Figure size 1152x576 with 1 Axes>"
      ]
     },
     "metadata": {
      "needs_background": "light"
     },
     "output_type": "display_data"
    }
   ],
   "source": [
    "mergedCumulativeConversions = cumulativeDataA[['date','conversion']].merge(cumulativeDataB[['date','conversion']], left_on='date', right_on='date', how='left', suffixes=['A', 'B'])\n",
    "plt.figure(figsize=(16,8))\n",
    "plt.plot(mergedCumulativeConversions['date'], mergedCumulativeConversions['conversionB']/mergedCumulativeConversions['conversionA']-1, label=\"Относительный прирост конверсии группы B относительно группы A\")\n",
    "plt.legend()\n",
    "\n",
    "plt.axhline(y=0, color='black', linestyle='--')\n",
    "plt.axhline(y=0.12, color='grey', linestyle='--')\n",
    "plt.axis([dt.datetime(2019, 8, 18), dt.datetime(2019, 9, 1), -0.3, 0.3])\n",
    "plt.title('Относительное изменение кумулятивной конверсии группы B к группе A')\n",
    "plt.grid();"
   ]
  },
  {
   "cell_type": "markdown",
   "metadata": {},
   "source": [
    "На анализируемом промежутке времени группа В лидирует по конверсии. С 18 по 23 августа относительная кумулятивная конверсия чуть снижается и далее, кумулятивная конверсия групп В установилась около прироста в 11% относительно группы А.  "
   ]
  },
  {
   "cell_type": "markdown",
   "metadata": {},
   "source": [
    "#### Задача 2.6:\tПостроить точечный график количества заказов по пользователям. Сделать выводы и предположения"
   ]
  },
  {
   "cell_type": "markdown",
   "metadata": {},
   "source": [
    "Построим точечный график количества заказов по пользователям."
   ]
  },
  {
   "cell_type": "code",
   "execution_count": 33,
   "metadata": {},
   "outputs": [],
   "source": [
    "# создадим таблицу с количеством заказов для каждого пользователя\n",
    "ordersByUsers = (orders.groupby('visitorId', as_index=False).agg({'transactionId': 'nunique'}))\n",
    "ordersByUsers.columns = ['visitorId', 'orders']"
   ]
  },
  {
   "cell_type": "code",
   "execution_count": 34,
   "metadata": {},
   "outputs": [
    {
     "data": {
      "text/html": [
       "<div>\n",
       "<style scoped>\n",
       "    .dataframe tbody tr th:only-of-type {\n",
       "        vertical-align: middle;\n",
       "    }\n",
       "\n",
       "    .dataframe tbody tr th {\n",
       "        vertical-align: top;\n",
       "    }\n",
       "\n",
       "    .dataframe thead th {\n",
       "        text-align: right;\n",
       "    }\n",
       "</style>\n",
       "<table border=\"1\" class=\"dataframe\">\n",
       "  <thead>\n",
       "    <tr style=\"text-align: right;\">\n",
       "      <th></th>\n",
       "      <th>visitorId</th>\n",
       "      <th>orders</th>\n",
       "    </tr>\n",
       "  </thead>\n",
       "  <tbody>\n",
       "    <tr>\n",
       "      <th>1023</th>\n",
       "      <td>4256040402</td>\n",
       "      <td>11</td>\n",
       "    </tr>\n",
       "    <tr>\n",
       "      <th>591</th>\n",
       "      <td>2458001652</td>\n",
       "      <td>11</td>\n",
       "    </tr>\n",
       "    <tr>\n",
       "      <th>569</th>\n",
       "      <td>2378935119</td>\n",
       "      <td>9</td>\n",
       "    </tr>\n",
       "    <tr>\n",
       "      <th>487</th>\n",
       "      <td>2038680547</td>\n",
       "      <td>8</td>\n",
       "    </tr>\n",
       "    <tr>\n",
       "      <th>44</th>\n",
       "      <td>199603092</td>\n",
       "      <td>5</td>\n",
       "    </tr>\n",
       "  </tbody>\n",
       "</table>\n",
       "</div>"
      ],
      "text/plain": [
       "       visitorId  orders\n",
       "1023  4256040402      11\n",
       "591   2458001652      11\n",
       "569   2378935119       9\n",
       "487   2038680547       8\n",
       "44     199603092       5"
      ]
     },
     "execution_count": 34,
     "metadata": {},
     "output_type": "execute_result"
    }
   ],
   "source": [
    "# Отсортируем таблицу по количеству заказов\n",
    "ordersByUsers.sort_values(by='orders', ascending=False).head(5)"
   ]
  },
  {
   "cell_type": "code",
   "execution_count": 35,
   "metadata": {},
   "outputs": [
    {
     "data": {
      "image/png": "[encoded data removed]",
      "text/plain": [
       "<Figure size 1152x576 with 1 Axes>"
      ]
     },
     "metadata": {
      "needs_background": "light"
     },
     "output_type": "display_data"
    }
   ],
   "source": [
    "# серия из чисел от 0 до количества наблюдений в ordersByUsers\n",
    "x_values = pd.Series(range(0, len(ordersByUsers)))\n",
    "plt.figure(figsize=(16,8))\n",
    "plt.scatter(x_values, ordersByUsers['orders'],alpha=0.3)\n",
    "plt.title('Точечный график количества заказов по пользователям')\n",
    "plt.grid(); "
   ]
  },
  {
   "cell_type": "markdown",
   "metadata": {},
   "source": [
    "Из графика видно, что большинство пользователей делают по одному заказу. Не редкие случаи, когда пользователь делает по 2 заказа. Но более 4х заказов - уже редкость. Максимальное количесвто заказов среди собранных данных - 11 заказов. Таких случаев всего 2."
   ]
  },
  {
   "cell_type": "markdown",
   "metadata": {},
   "source": [
    "#### Задача 2.7: Посчитайть 95-й и 99-й перцентили количества заказов на пользователя. Выбрать границу для определения аномальных пользователей"
   ]
  },
  {
   "cell_type": "markdown",
   "metadata": {},
   "source": [
    "Построим гистограмму количества заказов с добавлением графика плотности ядра."
   ]
  },
  {
   "cell_type": "code",
   "execution_count": 36,
   "metadata": {},
   "outputs": [
    {
     "data": {
      "image/png": "[encoded data removed]",
      "text/plain": [
       "<Figure size 432x288 with 1 Axes>"
      ]
     },
     "metadata": {
      "needs_background": "light"
     },
     "output_type": "display_data"
    }
   ],
   "source": [
    "sns.histplot(data=ordersByUsers, x=\"orders\", binwidth=3,discrete=True,kde=True)\n",
    "plt.ylim(0, 1000)\n",
    "plt.title('Гистограмма количества заказов')\n",
    "plt.grid();"
   ]
  },
  {
   "cell_type": "markdown",
   "metadata": {},
   "source": [
    "Теперь определим какое максимальное количество заказов делают 95 и 99% пользователей"
   ]
  },
  {
   "cell_type": "code",
   "execution_count": 37,
   "metadata": {},
   "outputs": [
    {
     "data": {
      "text/plain": [
       "array([2., 4.])"
      ]
     },
     "execution_count": 37,
     "metadata": {},
     "output_type": "execute_result"
    }
   ],
   "source": [
    "np.percentile(ordersByUsers['orders'], [95, 99])"
   ]
  },
  {
   "cell_type": "markdown",
   "metadata": {},
   "source": [
    "Выводы: \n",
    "\n",
    "95% пользователей делают от 1 до 2 заказов, т.е только 5% пользователей делают более 2х заказов.\n",
    "\n",
    "99% пользователей делают до 5 заказов, т.е только 1% пользователей делают более 4х заказов."
   ]
  },
  {
   "cell_type": "markdown",
   "metadata": {},
   "source": [
    "Будем считать, что количество заказов более 2х - аномальные значения. Т.е граница определения аномальных пользователей - 95-й перцентиль"
   ]
  },
  {
   "cell_type": "markdown",
   "metadata": {},
   "source": [
    "Обозначим пороговое значение максимального количество заказов на пользователя как order_th_max: "
   ]
  },
  {
   "cell_type": "code",
   "execution_count": 38,
   "metadata": {},
   "outputs": [],
   "source": [
    "order_th_max = np.percentile(ordersByUsers['orders'], [95, 99])[0]"
   ]
  },
  {
   "cell_type": "code",
   "execution_count": 39,
   "metadata": {},
   "outputs": [
    {
     "data": {
      "text/plain": [
       "2.0"
      ]
     },
     "execution_count": 39,
     "metadata": {},
     "output_type": "execute_result"
    }
   ],
   "source": [
    "# Пороговое значение количества заказов на пользователя\n",
    "order_th_max"
   ]
  },
  {
   "cell_type": "markdown",
   "metadata": {},
   "source": [
    "#### Задача 2.8: Построить точечный график стоимостей заказов. Сделать выводы и предположения"
   ]
  },
  {
   "cell_type": "code",
   "execution_count": 40,
   "metadata": {},
   "outputs": [
    {
     "data": {
      "text/html": [
       "<div>\n",
       "<style scoped>\n",
       "    .dataframe tbody tr th:only-of-type {\n",
       "        vertical-align: middle;\n",
       "    }\n",
       "\n",
       "    .dataframe tbody tr th {\n",
       "        vertical-align: top;\n",
       "    }\n",
       "\n",
       "    .dataframe thead th {\n",
       "        text-align: right;\n",
       "    }\n",
       "</style>\n",
       "<table border=\"1\" class=\"dataframe\">\n",
       "  <thead>\n",
       "    <tr style=\"text-align: right;\">\n",
       "      <th></th>\n",
       "      <th>transactionId</th>\n",
       "      <th>visitorId</th>\n",
       "      <th>date</th>\n",
       "      <th>revenue</th>\n",
       "      <th>group</th>\n",
       "    </tr>\n",
       "  </thead>\n",
       "  <tbody>\n",
       "    <tr>\n",
       "      <th>425</th>\n",
       "      <td>590470918</td>\n",
       "      <td>1920142716</td>\n",
       "      <td>2019-08-19</td>\n",
       "      <td>1294500</td>\n",
       "      <td>B</td>\n",
       "    </tr>\n",
       "    <tr>\n",
       "      <th>1196</th>\n",
       "      <td>3936777065</td>\n",
       "      <td>2108080724</td>\n",
       "      <td>2019-08-15</td>\n",
       "      <td>202740</td>\n",
       "      <td>B</td>\n",
       "    </tr>\n",
       "    <tr>\n",
       "      <th>858</th>\n",
       "      <td>192721366</td>\n",
       "      <td>1316129916</td>\n",
       "      <td>2019-08-27</td>\n",
       "      <td>93940</td>\n",
       "      <td>A</td>\n",
       "    </tr>\n",
       "    <tr>\n",
       "      <th>1136</th>\n",
       "      <td>666610489</td>\n",
       "      <td>1307669133</td>\n",
       "      <td>2019-08-13</td>\n",
       "      <td>92550</td>\n",
       "      <td>A</td>\n",
       "    </tr>\n",
       "    <tr>\n",
       "      <th>744</th>\n",
       "      <td>3668308183</td>\n",
       "      <td>888512513</td>\n",
       "      <td>2019-08-27</td>\n",
       "      <td>86620</td>\n",
       "      <td>B</td>\n",
       "    </tr>\n",
       "    <tr>\n",
       "      <th>682</th>\n",
       "      <td>1216533772</td>\n",
       "      <td>4266935830</td>\n",
       "      <td>2019-08-29</td>\n",
       "      <td>78990</td>\n",
       "      <td>B</td>\n",
       "    </tr>\n",
       "    <tr>\n",
       "      <th>662</th>\n",
       "      <td>1811671147</td>\n",
       "      <td>4266935830</td>\n",
       "      <td>2019-08-29</td>\n",
       "      <td>78990</td>\n",
       "      <td>A</td>\n",
       "    </tr>\n",
       "    <tr>\n",
       "      <th>743</th>\n",
       "      <td>3603576309</td>\n",
       "      <td>4133034833</td>\n",
       "      <td>2019-08-09</td>\n",
       "      <td>67990</td>\n",
       "      <td>A</td>\n",
       "    </tr>\n",
       "    <tr>\n",
       "      <th>1103</th>\n",
       "      <td>1348774318</td>\n",
       "      <td>1164614297</td>\n",
       "      <td>2019-08-12</td>\n",
       "      <td>66350</td>\n",
       "      <td>A</td>\n",
       "    </tr>\n",
       "    <tr>\n",
       "      <th>1099</th>\n",
       "      <td>316924019</td>\n",
       "      <td>148427295</td>\n",
       "      <td>2019-08-12</td>\n",
       "      <td>65710</td>\n",
       "      <td>A</td>\n",
       "    </tr>\n",
       "  </tbody>\n",
       "</table>\n",
       "</div>"
      ],
      "text/plain": [
       "      transactionId   visitorId       date  revenue group\n",
       "425       590470918  1920142716 2019-08-19  1294500     B\n",
       "1196     3936777065  2108080724 2019-08-15   202740     B\n",
       "858       192721366  1316129916 2019-08-27    93940     A\n",
       "1136      666610489  1307669133 2019-08-13    92550     A\n",
       "744      3668308183   888512513 2019-08-27    86620     B\n",
       "682      1216533772  4266935830 2019-08-29    78990     B\n",
       "662      1811671147  4266935830 2019-08-29    78990     A\n",
       "743      3603576309  4133034833 2019-08-09    67990     A\n",
       "1103     1348774318  1164614297 2019-08-12    66350     A\n",
       "1099      316924019   148427295 2019-08-12    65710     A"
      ]
     },
     "execution_count": 40,
     "metadata": {},
     "output_type": "execute_result"
    }
   ],
   "source": [
    "# Отсортируем таблицу по убыванию стоимости заказа\n",
    "orders.sort_values(by='revenue', ascending=False).head(10)"
   ]
  },
  {
   "cell_type": "code",
   "execution_count": 41,
   "metadata": {},
   "outputs": [
    {
     "data": {
      "image/png": "[encoded data removed]",
      "text/plain": [
       "<Figure size 1152x576 with 1 Axes>"
      ]
     },
     "metadata": {
      "needs_background": "light"
     },
     "output_type": "display_data"
    }
   ],
   "source": [
    "# Построим точечный график величины чека пользователей (в логарифмической шкале по оси y)\n",
    "x_values = pd.Series(range(0, len(orders['revenue'])))\n",
    "plt.figure(figsize=(16,8))\n",
    "plt.yscale('log')\n",
    "axes = plt.gca()\n",
    "plt.scatter(x_values, orders['revenue'],alpha=0.3)\n",
    "plt.axhline(y=orders['revenue'].median(), color='red', linestyle='--')\n",
    "plt.ylabel('Revenue')\n",
    "plt.title('Точечный график стоимостей заказов')\n",
    "plt.grid(); "
   ]
  },
  {
   "cell_type": "code",
   "execution_count": 42,
   "metadata": {},
   "outputs": [
    {
     "name": "stdout",
     "output_type": "stream",
     "text": [
      "Величина максимального чека: 1294500,\n",
      "Величина минимального чека: 50,\n",
      "Медианное значение величины стоимости заказа: 2978.0\n"
     ]
    }
   ],
   "source": [
    "print(f'Величина максимального чека: {orders[\"revenue\"].max()},\\nВеличина минимального чека: {orders[\"revenue\"].min()},\\nМедианное значение величины стоимости заказа: {orders[\"revenue\"].median()}')"
   ]
  },
  {
   "cell_type": "markdown",
   "metadata": {},
   "source": [
    "Из графика видно, что большинство чеков пользователей находится в интервале от 100 до 100 000. Значения вне этого интервала выглядят выбросами."
   ]
  },
  {
   "cell_type": "markdown",
   "metadata": {},
   "source": [
    "#### Задача 2.9: Посчитать 95-й и 99-й перцентили стоимости заказов. Выбрать границу для определения аномальных заказов"
   ]
  },
  {
   "cell_type": "markdown",
   "metadata": {},
   "source": [
    "Определим 95 и 99 перцентили стоимости заказов в выборке:"
   ]
  },
  {
   "cell_type": "code",
   "execution_count": 43,
   "metadata": {},
   "outputs": [
    {
     "data": {
      "text/plain": [
       "array([28000. , 58233.2])"
      ]
     },
     "execution_count": 43,
     "metadata": {},
     "output_type": "execute_result"
    }
   ],
   "source": [
    "np.percentile(orders['revenue'], [95, 99])"
   ]
  },
  {
   "cell_type": "markdown",
   "metadata": {},
   "source": [
    "Определим 1 и 5 перцентили стоимости заказов в выборке:"
   ]
  },
  {
   "cell_type": "code",
   "execution_count": 44,
   "metadata": {},
   "outputs": [
    {
     "data": {
      "text/plain": [
       "array([100., 300.])"
      ]
     },
     "execution_count": 44,
     "metadata": {},
     "output_type": "execute_result"
    }
   ],
   "source": [
    "np.percentile(orders['revenue'], [1, 5])"
   ]
  },
  {
   "cell_type": "markdown",
   "metadata": {},
   "source": [
    "Построим гистограмму стоимости заказов (с логарифмической шкалой величины чека) и отметим вертикальными линиями 5 и 95 перцентили зеленой линией, а 1 и 99 - красной"
   ]
  },
  {
   "cell_type": "code",
   "execution_count": 45,
   "metadata": {},
   "outputs": [
    {
     "data": {
      "image/png": "[encoded data removed]",
      "text/plain": [
       "<Figure size 1152x576 with 1 Axes>"
      ]
     },
     "metadata": {
      "needs_background": "light"
     },
     "output_type": "display_data"
    }
   ],
   "source": [
    "plt.figure(figsize=(16,8))\n",
    "plt.hist(orders[['revenue']],range=[0,80000],bins=1000)\n",
    "plt.axvline(x=np.percentile(orders['revenue'], [1, 5, 95, 99])[1], color='green', linestyle='--')\n",
    "plt.axvline(x=np.percentile(orders['revenue'], [1, 5, 95, 99])[2], color='green', linestyle='--')\n",
    "plt.axvline(x=np.percentile(orders['revenue'], [1, 5, 95, 99])[0], color='red', linestyle='--')\n",
    "plt.axvline(x=np.percentile(orders['revenue'], [1, 5, 95, 99])[3], color='red', linestyle='--')\n",
    "plt.title('Гистограмма стоимости заказов')\n",
    "plt.xscale('log')\n",
    "plt.grid();"
   ]
  },
  {
   "cell_type": "code",
   "execution_count": 46,
   "metadata": {},
   "outputs": [
    {
     "name": "stdout",
     "output_type": "stream",
     "text": [
      "Неболее, чем у 5% пользователей заказ дороже 28000 и неболее, чем у 1% пользователей заказ дороже 58233\n"
     ]
    }
   ],
   "source": [
    "print(f'Неболее, чем у 5% пользователей заказ дороже {np.percentile(orders[\"revenue\"], [95, 99])[0]:.0f} и неболее, чем у 1% пользователей заказ дороже {np.percentile(orders[\"revenue\"], [95, 99])[1]:.0f}')"
   ]
  },
  {
   "cell_type": "code",
   "execution_count": 47,
   "metadata": {},
   "outputs": [
    {
     "name": "stdout",
     "output_type": "stream",
     "text": [
      "Можно сделать вывод, что у 90% пользователей величина чека находится в интервале от 300 до 28000. Примем, что значения величины чека за пределами этого интервала - выбросы\n"
     ]
    }
   ],
   "source": [
    "print(f'Можно сделать вывод, что у 90% пользователей величина чека находится в интервале от {np.percentile(orders[\"revenue\"], [5])[0]:.0f} до {np.percentile(orders[\"revenue\"], [95])[0]:.0f}. Примем, что значения величины чека за пределами этого интервала - выбросы')"
   ]
  },
  {
   "cell_type": "markdown",
   "metadata": {},
   "source": [
    "Обозначим пороговое значение максимального чека как revenue_th_max (величина чека больше этого значения будет считаться выбросом):"
   ]
  },
  {
   "cell_type": "code",
   "execution_count": 48,
   "metadata": {},
   "outputs": [],
   "source": [
    "revenue_th_max = np.percentile(orders[\"revenue\"], [95])[0]"
   ]
  },
  {
   "cell_type": "code",
   "execution_count": 49,
   "metadata": {},
   "outputs": [
    {
     "data": {
      "text/plain": [
       "28000.000000000004"
      ]
     },
     "execution_count": 49,
     "metadata": {},
     "output_type": "execute_result"
    }
   ],
   "source": [
    "revenue_th_max"
   ]
  },
  {
   "cell_type": "markdown",
   "metadata": {},
   "source": [
    "Замечание: несмотря на то, что заказ меньше 300 ед. является выбросом - мы не будем исключать эти данные из анализа в дальнейшем, т.к влияние этой величина на анализ - незначительно"
   ]
  },
  {
   "cell_type": "markdown",
   "metadata": {},
   "source": [
    "#### Задача 2.10: Посчитать статистическую значимость различий в конверсии между группами по «сырым» данным. Сделать выводы и предположения"
   ]
  },
  {
   "cell_type": "markdown",
   "metadata": {},
   "source": [
    "Посчитаем статистическую значимость различия конверсии. Примем за нулевую гипотезу, что конверсии не отличаются, а за альтернативную: конверсии выборок А и B - отличаются. Воспользуемся «U-критерием Манна-Уитни» для оценки различий между двумя группами. Примем уровень значимости: 0.05."
   ]
  },
  {
   "cell_type": "code",
   "execution_count": 50,
   "metadata": {},
   "outputs": [
    {
     "name": "stdout",
     "output_type": "stream",
     "text": [
      "        date  visitorsPerDateA\n",
      "0 2019-08-01               719\n",
      "1 2019-08-02               619\n",
      "2 2019-08-03               507\n",
      "---- \n",
      "         date  visitorsPerDateB\n",
      "31 2019-08-01               713\n",
      "32 2019-08-02               581\n",
      "33 2019-08-03               509\n"
     ]
    }
   ],
   "source": [
    "# Определим количество посетителей по дням:\n",
    "# для группы А\n",
    "visitorsADaily = visitors[visitors['group'] == 'A'][['date', 'visitors']]\n",
    "visitorsADaily.columns = ['date', 'visitorsPerDateA']\n",
    "\n",
    "# для группы B\n",
    "visitorsBDaily = visitors[visitors['group'] == 'B'][['date', 'visitors']]\n",
    "visitorsBDaily.columns = ['date', 'visitorsPerDateB']\n",
    "\n",
    "print(visitorsADaily.head(3))\n",
    "print('---- ')\n",
    "print(visitorsBDaily.head(3))"
   ]
  },
  {
   "cell_type": "code",
   "execution_count": 51,
   "metadata": {},
   "outputs": [
    {
     "name": "stdout",
     "output_type": "stream",
     "text": [
      "        date  visitorsCummulativeA\n",
      "0 2019-08-01                   719\n",
      "1 2019-08-02                  1338\n",
      "2 2019-08-03                  1845\n",
      " ------- \n",
      "         date  visitorsCummulativeB\n",
      "31 2019-08-01                   713\n",
      "32 2019-08-02                  1294\n",
      "33 2019-08-03                  1803\n"
     ]
    }
   ],
   "source": [
    "# Посчитаем кумулятивное число посетитилей по дням:\n",
    "#для группы А\n",
    "visitorsACummulative = visitorsADaily.apply(lambda x: visitorsADaily[visitorsADaily['date'] <= x['date']].agg(\n",
    "        {'date': 'max', 'visitorsPerDateA': 'sum'}), axis=1,)\n",
    "\n",
    "visitorsACummulative.columns = ['date', 'visitorsCummulativeA']\n",
    "\n",
    "#для группы B\n",
    "visitorsBCummulative = visitorsBDaily.apply(lambda x: visitorsBDaily[visitorsBDaily['date'] <= x['date']].agg(\n",
    "        {'date': 'max', 'visitorsPerDateB': 'sum'}), axis=1,)\n",
    "\n",
    "visitorsBCummulative.columns = ['date', 'visitorsCummulativeB']\n",
    "\n",
    "print(visitorsACummulative.head(3))\n",
    "print(' ------- ')\n",
    "print(visitorsBCummulative.head(3))"
   ]
  },
  {
   "cell_type": "code",
   "execution_count": 52,
   "metadata": {},
   "outputs": [
    {
     "name": "stdout",
     "output_type": "stream",
     "text": [
      "        date  ordersPerDateA  revenuePerDateA\n",
      "0 2019-08-01              24           148579\n",
      "1 2019-08-02              20            93822\n",
      "2 2019-08-03              24           112473\n",
      " ----- \n",
      "        date  ordersPerDateB  revenuePerDateB\n",
      "0 2019-08-01              21           101217\n",
      "1 2019-08-02              24           165531\n",
      "2 2019-08-03              16           114248\n"
     ]
    }
   ],
   "source": [
    "# Посчитаем количество и сумму заказов по дням:\n",
    "# для группы А\n",
    "ordersADaily = (\n",
    "    orders[orders['group'] == 'A'][['date', 'transactionId', 'visitorId', 'revenue']]\n",
    "    .groupby('date', as_index=False)\n",
    "    .agg({'transactionId': pd.Series.nunique, 'revenue': 'sum'})\n",
    ")\n",
    "ordersADaily.columns = ['date', 'ordersPerDateA', 'revenuePerDateA']\n",
    "\n",
    "# для группы B\n",
    "ordersBDaily = (\n",
    "    orders[orders['group'] == 'B'][['date', 'transactionId', 'visitorId', 'revenue']]\n",
    "    .groupby('date', as_index=False)\n",
    "    .agg({'transactionId': pd.Series.nunique, 'revenue': 'sum'})\n",
    ")\n",
    "ordersBDaily.columns = ['date', 'ordersPerDateB', 'revenuePerDateB']\n",
    "\n",
    "print(ordersADaily.head(3))\n",
    "print(' ----- ')\n",
    "print(ordersBDaily.head(3))"
   ]
  },
  {
   "cell_type": "code",
   "execution_count": 53,
   "metadata": {},
   "outputs": [
    {
     "name": "stdout",
     "output_type": "stream",
     "text": [
      "        date  ordersCummulativeA  revenueCummulativeA\n",
      "0 2019-08-01                  24               148579\n",
      "1 2019-08-02                  44               242401\n",
      "2 2019-08-03                  68               354874\n",
      " ----- \n",
      "        date  ordersCummulativeB  revenueCummulativeB\n",
      "0 2019-08-01                  21               101217\n",
      "1 2019-08-02                  45               266748\n",
      "2 2019-08-03                  61               380996\n"
     ]
    }
   ],
   "source": [
    "# Посчитаем кумулятивное количество и сумму заказов по дням:\n",
    "# для группы А\n",
    "ordersACummulative = ordersADaily.apply(\n",
    "    lambda x: ordersADaily[ordersADaily['date'] <= x['date']].agg(\n",
    "        {'date': 'max', 'ordersPerDateA': 'sum', 'revenuePerDateA': 'sum'}\n",
    "    ),\n",
    "    axis=1,\n",
    ").sort_values(by=['date'])\n",
    "ordersACummulative.columns = [\n",
    "    'date',\n",
    "    'ordersCummulativeA',\n",
    "    'revenueCummulativeA',\n",
    "]\n",
    "\n",
    "# для группы B\n",
    "ordersBCummulative = ordersBDaily.apply(\n",
    "    lambda x: ordersBDaily[ordersBDaily['date'] <= x['date']].agg(\n",
    "        {'date': 'max', 'ordersPerDateB': 'sum', 'revenuePerDateB': 'sum'}\n",
    "    ),\n",
    "    axis=1,\n",
    ").sort_values(by=['date'])\n",
    "ordersBCummulative.columns = [\n",
    "    'date',\n",
    "    'ordersCummulativeB',\n",
    "    'revenueCummulativeB',\n",
    "]\n",
    "\n",
    "print(ordersACummulative.head(3))\n",
    "print(' ----- ')\n",
    "print(ordersBCummulative.head(3))"
   ]
  },
  {
   "cell_type": "code",
   "execution_count": 54,
   "metadata": {},
   "outputs": [],
   "source": [
    "# Объеденим данные в одной таблице\n",
    "data_init = (\n",
    "    ordersADaily.merge(\n",
    "        ordersBDaily, left_on='date', right_on='date', how='left'\n",
    "    )\n",
    "    .merge(ordersACummulative, left_on='date', right_on='date', how='left')\n",
    "    .merge(ordersBCummulative, left_on='date', right_on='date', how='left')\n",
    "    .merge(visitorsADaily, left_on='date', right_on='date', how='left')\n",
    "    .merge(visitorsBDaily, left_on='date', right_on='date', how='left')\n",
    "    .merge(visitorsACummulative, left_on='date', right_on='date', how='left')\n",
    "    .merge(visitorsBCummulative, left_on='date', right_on='date', how='left')\n",
    ")"
   ]
  },
  {
   "cell_type": "code",
   "execution_count": 55,
   "metadata": {},
   "outputs": [
    {
     "data": {
      "text/html": [
       "<div>\n",
       "<style scoped>\n",
       "    .dataframe tbody tr th:only-of-type {\n",
       "        vertical-align: middle;\n",
       "    }\n",
       "\n",
       "    .dataframe tbody tr th {\n",
       "        vertical-align: top;\n",
       "    }\n",
       "\n",
       "    .dataframe thead th {\n",
       "        text-align: right;\n",
       "    }\n",
       "</style>\n",
       "<table border=\"1\" class=\"dataframe\">\n",
       "  <thead>\n",
       "    <tr style=\"text-align: right;\">\n",
       "      <th></th>\n",
       "      <th>date</th>\n",
       "      <th>ordersPerDateA</th>\n",
       "      <th>revenuePerDateA</th>\n",
       "      <th>ordersPerDateB</th>\n",
       "      <th>revenuePerDateB</th>\n",
       "      <th>ordersCummulativeA</th>\n",
       "      <th>revenueCummulativeA</th>\n",
       "      <th>ordersCummulativeB</th>\n",
       "      <th>revenueCummulativeB</th>\n",
       "      <th>visitorsPerDateA</th>\n",
       "      <th>visitorsPerDateB</th>\n",
       "      <th>visitorsCummulativeA</th>\n",
       "      <th>visitorsCummulativeB</th>\n",
       "    </tr>\n",
       "  </thead>\n",
       "  <tbody>\n",
       "    <tr>\n",
       "      <th>0</th>\n",
       "      <td>2019-08-01</td>\n",
       "      <td>24</td>\n",
       "      <td>148579</td>\n",
       "      <td>21</td>\n",
       "      <td>101217</td>\n",
       "      <td>24</td>\n",
       "      <td>148579</td>\n",
       "      <td>21</td>\n",
       "      <td>101217</td>\n",
       "      <td>719</td>\n",
       "      <td>713</td>\n",
       "      <td>719</td>\n",
       "      <td>713</td>\n",
       "    </tr>\n",
       "    <tr>\n",
       "      <th>1</th>\n",
       "      <td>2019-08-02</td>\n",
       "      <td>20</td>\n",
       "      <td>93822</td>\n",
       "      <td>24</td>\n",
       "      <td>165531</td>\n",
       "      <td>44</td>\n",
       "      <td>242401</td>\n",
       "      <td>45</td>\n",
       "      <td>266748</td>\n",
       "      <td>619</td>\n",
       "      <td>581</td>\n",
       "      <td>1338</td>\n",
       "      <td>1294</td>\n",
       "    </tr>\n",
       "    <tr>\n",
       "      <th>2</th>\n",
       "      <td>2019-08-03</td>\n",
       "      <td>24</td>\n",
       "      <td>112473</td>\n",
       "      <td>16</td>\n",
       "      <td>114248</td>\n",
       "      <td>68</td>\n",
       "      <td>354874</td>\n",
       "      <td>61</td>\n",
       "      <td>380996</td>\n",
       "      <td>507</td>\n",
       "      <td>509</td>\n",
       "      <td>1845</td>\n",
       "      <td>1803</td>\n",
       "    </tr>\n",
       "    <tr>\n",
       "      <th>3</th>\n",
       "      <td>2019-08-04</td>\n",
       "      <td>16</td>\n",
       "      <td>70825</td>\n",
       "      <td>17</td>\n",
       "      <td>108571</td>\n",
       "      <td>84</td>\n",
       "      <td>425699</td>\n",
       "      <td>78</td>\n",
       "      <td>489567</td>\n",
       "      <td>717</td>\n",
       "      <td>770</td>\n",
       "      <td>2562</td>\n",
       "      <td>2573</td>\n",
       "    </tr>\n",
       "    <tr>\n",
       "      <th>4</th>\n",
       "      <td>2019-08-05</td>\n",
       "      <td>25</td>\n",
       "      <td>124218</td>\n",
       "      <td>23</td>\n",
       "      <td>92428</td>\n",
       "      <td>109</td>\n",
       "      <td>549917</td>\n",
       "      <td>101</td>\n",
       "      <td>581995</td>\n",
       "      <td>756</td>\n",
       "      <td>707</td>\n",
       "      <td>3318</td>\n",
       "      <td>3280</td>\n",
       "    </tr>\n",
       "  </tbody>\n",
       "</table>\n",
       "</div>"
      ],
      "text/plain": [
       "        date  ordersPerDateA  revenuePerDateA  ordersPerDateB  \\\n",
       "0 2019-08-01              24           148579              21   \n",
       "1 2019-08-02              20            93822              24   \n",
       "2 2019-08-03              24           112473              16   \n",
       "3 2019-08-04              16            70825              17   \n",
       "4 2019-08-05              25           124218              23   \n",
       "\n",
       "   revenuePerDateB  ordersCummulativeA  revenueCummulativeA  \\\n",
       "0           101217                  24               148579   \n",
       "1           165531                  44               242401   \n",
       "2           114248                  68               354874   \n",
       "3           108571                  84               425699   \n",
       "4            92428                 109               549917   \n",
       "\n",
       "   ordersCummulativeB  revenueCummulativeB  visitorsPerDateA  \\\n",
       "0                  21               101217               719   \n",
       "1                  45               266748               619   \n",
       "2                  61               380996               507   \n",
       "3                  78               489567               717   \n",
       "4                 101               581995               756   \n",
       "\n",
       "   visitorsPerDateB  visitorsCummulativeA  visitorsCummulativeB  \n",
       "0               713                   719                   713  \n",
       "1               581                  1338                  1294  \n",
       "2               509                  1845                  1803  \n",
       "3               770                  2562                  2573  \n",
       "4               707                  3318                  3280  "
      ]
     },
     "execution_count": 55,
     "metadata": {},
     "output_type": "execute_result"
    }
   ],
   "source": [
    "data_init.head()"
   ]
  },
  {
   "cell_type": "code",
   "execution_count": 56,
   "metadata": {},
   "outputs": [],
   "source": [
    "# Добавим в таблицу колонки с конверсией (в том числе кумулятивной) для группы А и В\n",
    "# считаем конверсию для группы А\n",
    "data_init['conversionPerDateA'] = data_init['ordersPerDateA']/data_init['visitorsPerDateA']\n",
    "# считаем конверсию для группы B\n",
    "data_init['conversionPerDateB'] = data_init['ordersPerDateB']/data_init['visitorsPerDateB']\n",
    "\n",
    "# считаем кумулятивную конверсию для группы А\n",
    "data_init['cumul_conversionPerDateA'] = data_init['ordersCummulativeA']/data_init['visitorsCummulativeA']\n",
    "# считаем кумулятивную конверсию для группы B\n",
    "data_init['cumul_conversionPerDateB'] = data_init['ordersCummulativeB']/data_init['visitorsCummulativeB']"
   ]
  },
  {
   "cell_type": "code",
   "execution_count": 57,
   "metadata": {},
   "outputs": [
    {
     "data": {
      "text/html": [
       "<div>\n",
       "<style scoped>\n",
       "    .dataframe tbody tr th:only-of-type {\n",
       "        vertical-align: middle;\n",
       "    }\n",
       "\n",
       "    .dataframe tbody tr th {\n",
       "        vertical-align: top;\n",
       "    }\n",
       "\n",
       "    .dataframe thead th {\n",
       "        text-align: right;\n",
       "    }\n",
       "</style>\n",
       "<table border=\"1\" class=\"dataframe\">\n",
       "  <thead>\n",
       "    <tr style=\"text-align: right;\">\n",
       "      <th></th>\n",
       "      <th>date</th>\n",
       "      <th>ordersPerDateA</th>\n",
       "      <th>revenuePerDateA</th>\n",
       "      <th>ordersPerDateB</th>\n",
       "      <th>revenuePerDateB</th>\n",
       "      <th>ordersCummulativeA</th>\n",
       "      <th>revenueCummulativeA</th>\n",
       "      <th>ordersCummulativeB</th>\n",
       "      <th>revenueCummulativeB</th>\n",
       "      <th>visitorsPerDateA</th>\n",
       "      <th>visitorsPerDateB</th>\n",
       "      <th>visitorsCummulativeA</th>\n",
       "      <th>visitorsCummulativeB</th>\n",
       "      <th>conversionPerDateA</th>\n",
       "      <th>conversionPerDateB</th>\n",
       "      <th>cumul_conversionPerDateA</th>\n",
       "      <th>cumul_conversionPerDateB</th>\n",
       "    </tr>\n",
       "  </thead>\n",
       "  <tbody>\n",
       "    <tr>\n",
       "      <th>0</th>\n",
       "      <td>2019-08-01</td>\n",
       "      <td>24</td>\n",
       "      <td>148579</td>\n",
       "      <td>21</td>\n",
       "      <td>101217</td>\n",
       "      <td>24</td>\n",
       "      <td>148579</td>\n",
       "      <td>21</td>\n",
       "      <td>101217</td>\n",
       "      <td>719</td>\n",
       "      <td>713</td>\n",
       "      <td>719</td>\n",
       "      <td>713</td>\n",
       "      <td>0.033380</td>\n",
       "      <td>0.029453</td>\n",
       "      <td>0.033380</td>\n",
       "      <td>0.029453</td>\n",
       "    </tr>\n",
       "    <tr>\n",
       "      <th>1</th>\n",
       "      <td>2019-08-02</td>\n",
       "      <td>20</td>\n",
       "      <td>93822</td>\n",
       "      <td>24</td>\n",
       "      <td>165531</td>\n",
       "      <td>44</td>\n",
       "      <td>242401</td>\n",
       "      <td>45</td>\n",
       "      <td>266748</td>\n",
       "      <td>619</td>\n",
       "      <td>581</td>\n",
       "      <td>1338</td>\n",
       "      <td>1294</td>\n",
       "      <td>0.032310</td>\n",
       "      <td>0.041308</td>\n",
       "      <td>0.032885</td>\n",
       "      <td>0.034776</td>\n",
       "    </tr>\n",
       "    <tr>\n",
       "      <th>2</th>\n",
       "      <td>2019-08-03</td>\n",
       "      <td>24</td>\n",
       "      <td>112473</td>\n",
       "      <td>16</td>\n",
       "      <td>114248</td>\n",
       "      <td>68</td>\n",
       "      <td>354874</td>\n",
       "      <td>61</td>\n",
       "      <td>380996</td>\n",
       "      <td>507</td>\n",
       "      <td>509</td>\n",
       "      <td>1845</td>\n",
       "      <td>1803</td>\n",
       "      <td>0.047337</td>\n",
       "      <td>0.031434</td>\n",
       "      <td>0.036856</td>\n",
       "      <td>0.033833</td>\n",
       "    </tr>\n",
       "    <tr>\n",
       "      <th>3</th>\n",
       "      <td>2019-08-04</td>\n",
       "      <td>16</td>\n",
       "      <td>70825</td>\n",
       "      <td>17</td>\n",
       "      <td>108571</td>\n",
       "      <td>84</td>\n",
       "      <td>425699</td>\n",
       "      <td>78</td>\n",
       "      <td>489567</td>\n",
       "      <td>717</td>\n",
       "      <td>770</td>\n",
       "      <td>2562</td>\n",
       "      <td>2573</td>\n",
       "      <td>0.022315</td>\n",
       "      <td>0.022078</td>\n",
       "      <td>0.032787</td>\n",
       "      <td>0.030315</td>\n",
       "    </tr>\n",
       "    <tr>\n",
       "      <th>4</th>\n",
       "      <td>2019-08-05</td>\n",
       "      <td>25</td>\n",
       "      <td>124218</td>\n",
       "      <td>23</td>\n",
       "      <td>92428</td>\n",
       "      <td>109</td>\n",
       "      <td>549917</td>\n",
       "      <td>101</td>\n",
       "      <td>581995</td>\n",
       "      <td>756</td>\n",
       "      <td>707</td>\n",
       "      <td>3318</td>\n",
       "      <td>3280</td>\n",
       "      <td>0.033069</td>\n",
       "      <td>0.032532</td>\n",
       "      <td>0.032851</td>\n",
       "      <td>0.030793</td>\n",
       "    </tr>\n",
       "  </tbody>\n",
       "</table>\n",
       "</div>"
      ],
      "text/plain": [
       "        date  ordersPerDateA  revenuePerDateA  ordersPerDateB  \\\n",
       "0 2019-08-01              24           148579              21   \n",
       "1 2019-08-02              20            93822              24   \n",
       "2 2019-08-03              24           112473              16   \n",
       "3 2019-08-04              16            70825              17   \n",
       "4 2019-08-05              25           124218              23   \n",
       "\n",
       "   revenuePerDateB  ordersCummulativeA  revenueCummulativeA  \\\n",
       "0           101217                  24               148579   \n",
       "1           165531                  44               242401   \n",
       "2           114248                  68               354874   \n",
       "3           108571                  84               425699   \n",
       "4            92428                 109               549917   \n",
       "\n",
       "   ordersCummulativeB  revenueCummulativeB  visitorsPerDateA  \\\n",
       "0                  21               101217               719   \n",
       "1                  45               266748               619   \n",
       "2                  61               380996               507   \n",
       "3                  78               489567               717   \n",
       "4                 101               581995               756   \n",
       "\n",
       "   visitorsPerDateB  visitorsCummulativeA  visitorsCummulativeB  \\\n",
       "0               713                   719                   713   \n",
       "1               581                  1338                  1294   \n",
       "2               509                  1845                  1803   \n",
       "3               770                  2562                  2573   \n",
       "4               707                  3318                  3280   \n",
       "\n",
       "   conversionPerDateA  conversionPerDateB  cumul_conversionPerDateA  \\\n",
       "0            0.033380            0.029453                  0.033380   \n",
       "1            0.032310            0.041308                  0.032885   \n",
       "2            0.047337            0.031434                  0.036856   \n",
       "3            0.022315            0.022078                  0.032787   \n",
       "4            0.033069            0.032532                  0.032851   \n",
       "\n",
       "   cumul_conversionPerDateB  \n",
       "0                  0.029453  \n",
       "1                  0.034776  \n",
       "2                  0.033833  \n",
       "3                  0.030315  \n",
       "4                  0.030793  "
      ]
     },
     "execution_count": 57,
     "metadata": {},
     "output_type": "execute_result"
    }
   ],
   "source": [
    "data_init.head()"
   ]
  },
  {
   "cell_type": "code",
   "execution_count": 58,
   "metadata": {},
   "outputs": [],
   "source": [
    "# Создадим таблицы для пользователей, которые заказывали хотя бы 1 раз и укажем число совершённых заказов\n",
    "ordersByUsersA = (\n",
    "    orders[orders['group'] == 'A']\n",
    "    .groupby('visitorId', as_index=False)\n",
    "    .agg({'transactionId': pd.Series.nunique})\n",
    ")\n",
    "ordersByUsersA.columns = ['visitorId', 'orders']\n",
    "\n",
    "ordersByUsersB = (\n",
    "    orders[orders['group'] == 'B']\n",
    "    .groupby('visitorId', as_index=False)\n",
    "    .agg({'transactionId': pd.Series.nunique})\n",
    ")\n",
    "ordersByUsersB.columns = ['visitorId', 'orders']"
   ]
  },
  {
   "cell_type": "markdown",
   "metadata": {},
   "source": [
    "Объявим переменные sampleA и sampleB, в которых пользователям из разных групп будет соответствовать количество заказов."
   ]
  },
  {
   "cell_type": "code",
   "execution_count": 59,
   "metadata": {},
   "outputs": [],
   "source": [
    "sampleA = pd.concat([ordersByUsersA['orders'],pd.Series(0, index=np.arange(data_init['visitorsPerDateA'].sum() - len(ordersByUsersA['orders'])), name='orders')],axis=0)\n",
    "\n",
    "sampleB = pd.concat([ordersByUsersB['orders'],pd.Series(0, index=np.arange(data_init['visitorsPerDateB'].sum() - len(ordersByUsersB['orders'])), name='orders')],axis=0)"
   ]
  },
  {
   "cell_type": "markdown",
   "metadata": {},
   "source": [
    "Статистическая значимость различия конверсии по результатам месячного теста с применением теста Манна-Уитни:"
   ]
  },
  {
   "cell_type": "code",
   "execution_count": 60,
   "metadata": {},
   "outputs": [
    {
     "name": "stdout",
     "output_type": "stream",
     "text": [
      "0.01679\n"
     ]
    }
   ],
   "source": [
    "print(\"{0:.5f}\".format(stats.mannwhitneyu(sampleA, sampleB)[1]))"
   ]
  },
  {
   "cell_type": "code",
   "execution_count": 61,
   "metadata": {},
   "outputs": [
    {
     "name": "stdout",
     "output_type": "stream",
     "text": [
      "0.138\n"
     ]
    }
   ],
   "source": [
    "# Относительное различие в конверсии между группами:\n",
    "print(\"{0:.3f}\".format(sampleB.mean() / sampleA.mean() - 1))"
   ]
  },
  {
   "cell_type": "markdown",
   "metadata": {},
   "source": [
    "Вывод: P-value меньше 0,05, поэтому нулевую гипотезу отвергаем: конверсия групп А и В - отличается по \"сырым\" данным. Относительный прирост конверсии группы В к конверсии группы A равен 14%."
   ]
  },
  {
   "cell_type": "markdown",
   "metadata": {},
   "source": [
    "#### Задача 2.11: Посчитать статистическую значимость различий в среднем чеке заказа между группами по «сырым» данным. Сделать выводы и предположения"
   ]
  },
  {
   "cell_type": "markdown",
   "metadata": {},
   "source": [
    "Посчитаем статистическую значимость различия средних чеков между группами. Примем за нулевую гипотезу, что средний чек не отличается между двумя группами, за альтернативную - отличается."
   ]
  },
  {
   "cell_type": "code",
   "execution_count": 62,
   "metadata": {},
   "outputs": [
    {
     "name": "stdout",
     "output_type": "stream",
     "text": [
      "0.729\n"
     ]
    }
   ],
   "source": [
    "print('{0:.3f}'.format(stats.mannwhitneyu(orders[orders['group']=='A']['revenue'], orders[orders['group']=='B']['revenue'])[1]))"
   ]
  },
  {
   "cell_type": "markdown",
   "metadata": {},
   "source": [
    "Посчитаем относительный прирост среднего чека группы В:"
   ]
  },
  {
   "cell_type": "code",
   "execution_count": 63,
   "metadata": {},
   "outputs": [
    {
     "name": "stdout",
     "output_type": "stream",
     "text": [
      "0.259\n"
     ]
    }
   ],
   "source": [
    "print('{0:.3f}'.format(orders[orders['group']=='B']['revenue'].mean()/orders[orders['group']=='A']['revenue'].mean()-1))"
   ]
  },
  {
   "cell_type": "markdown",
   "metadata": {},
   "source": [
    "Вывод: P-value больше 0,05, следовательно, статистически значимых отличий в среднем чеке между группами нет. Однако, относительное различие среднего чека между группами составляет 26%."
   ]
  },
  {
   "cell_type": "markdown",
   "metadata": {},
   "source": [
    "#### Задача 2.12: Посчитать статистическую значимость различий в конверсии между группами по «очищенным» данным. Сделать выводы и предположения"
   ]
  },
  {
   "cell_type": "code",
   "execution_count": 64,
   "metadata": {},
   "outputs": [
    {
     "data": {
      "text/plain": [
       "2.0"
      ]
     },
     "execution_count": 64,
     "metadata": {},
     "output_type": "execute_result"
    }
   ],
   "source": [
    "# Покажем ранее определенное пороговое значения количества заказов на пользователя\n",
    "order_th_max"
   ]
  },
  {
   "cell_type": "code",
   "execution_count": 65,
   "metadata": {},
   "outputs": [
    {
     "data": {
      "text/plain": [
       "28000.000000000004"
      ]
     },
     "execution_count": 65,
     "metadata": {},
     "output_type": "execute_result"
    }
   ],
   "source": [
    "# Покажем ранее определенное пороговое значение величины чека\n",
    "revenue_th_max"
   ]
  },
  {
   "cell_type": "code",
   "execution_count": 66,
   "metadata": {},
   "outputs": [
    {
     "name": "stdout",
     "output_type": "stream",
     "text": [
      "Примим за аномальных пользователей тех, кто совершил более 2 заказов, или совершил заказ на сумму свыше 28000 рублей.\n",
      "Так мы исключим 5% пользователей с наибольшим числом заказов и 5% заказов с наибольшей стоимостью.\n"
     ]
    }
   ],
   "source": [
    "print(f'Примим за аномальных пользователей тех, кто совершил более {order_th_max:.0f} заказов, или совершил заказ на сумму свыше {revenue_th_max :.0f} рублей.\\nТак мы исключим 5% пользователей с наибольшим числом заказов и 5% заказов с наибольшей стоимостью.')"
   ]
  },
  {
   "cell_type": "code",
   "execution_count": 67,
   "metadata": {},
   "outputs": [],
   "source": [
    "# Срез пользователей, совершивших более order_th_max заказов\n",
    "usersWithManyOrders = pd.concat(\n",
    "    [\n",
    "        ordersByUsersA[ordersByUsersA['orders'] > order_th_max]['visitorId'],\n",
    "        ordersByUsersB[ordersByUsersB['orders'] > order_th_max]['visitorId'],\n",
    "    ],\n",
    "    axis=0,\n",
    ")"
   ]
  },
  {
   "cell_type": "code",
   "execution_count": 68,
   "metadata": {},
   "outputs": [
    {
     "data": {
      "text/plain": [
       "18    199603092\n",
       "23    237748145\n",
       "68    611059232\n",
       "Name: visitorId, dtype: int64"
      ]
     },
     "execution_count": 68,
     "metadata": {},
     "output_type": "execute_result"
    }
   ],
   "source": [
    "usersWithManyOrders.head(3)"
   ]
  },
  {
   "cell_type": "code",
   "execution_count": 69,
   "metadata": {},
   "outputs": [],
   "source": [
    "# Срез пользователей, совершивших заказы дороже revenue_th_max\n",
    "usersWithExpensiveOrders = orders[orders['revenue'] > revenue_th_max]['visitorId']"
   ]
  },
  {
   "cell_type": "code",
   "execution_count": 70,
   "metadata": {},
   "outputs": [
    {
     "data": {
      "text/plain": [
       "60    4256040402\n",
       "73    2947100995\n",
       "77     787824685\n",
       "Name: visitorId, dtype: int64"
      ]
     },
     "execution_count": 70,
     "metadata": {},
     "output_type": "execute_result"
    }
   ],
   "source": [
    "usersWithExpensiveOrders.head(3)"
   ]
  },
  {
   "cell_type": "code",
   "execution_count": 71,
   "metadata": {},
   "outputs": [],
   "source": [
    "# Объединим две таблицы \n",
    "abnormalUsers = (\n",
    "    pd.concat([usersWithManyOrders, usersWithExpensiveOrders], axis=0)\n",
    "    .drop_duplicates()\n",
    "    .sort_values()\n",
    ")"
   ]
  },
  {
   "cell_type": "code",
   "execution_count": 72,
   "metadata": {},
   "outputs": [
    {
     "data": {
      "text/plain": [
       "1099    148427295\n",
       "18      199603092\n",
       "928     204675465\n",
       "Name: visitorId, dtype: int64"
      ]
     },
     "execution_count": 72,
     "metadata": {},
     "output_type": "execute_result"
    }
   ],
   "source": [
    "abnormalUsers.head(3)"
   ]
  },
  {
   "cell_type": "markdown",
   "metadata": {},
   "source": [
    "Посчитаем статистическую значимость различия конверсии после удаления аномальных пользователей. Примем за нулевую гипотезу, что конверсии не отличаются, а за альтернативную: конверсии выборок А и B - отличаются."
   ]
  },
  {
   "cell_type": "code",
   "execution_count": 73,
   "metadata": {},
   "outputs": [],
   "source": [
    "# Очищенные данные о заказах группы А (не включая аномальных пользователей)\n",
    "sampleAFiltered = pd.concat(\n",
    "    [\n",
    "        ordersByUsersA[\n",
    "            np.logical_not(ordersByUsersA['visitorId'].isin(abnormalUsers))\n",
    "        ]['orders'],\n",
    "        pd.Series(\n",
    "            0,\n",
    "            index=np.arange(\n",
    "                data_init['visitorsPerDateA'].sum() - len(ordersByUsersA['orders'])\n",
    "            ),\n",
    "            name='orders',\n",
    "        ),\n",
    "    ],\n",
    "    axis=0,\n",
    ")"
   ]
  },
  {
   "cell_type": "code",
   "execution_count": 74,
   "metadata": {},
   "outputs": [],
   "source": [
    "# Очищенные данные о заказах группы В (не включая аномальных пользователей)\n",
    "sampleBFiltered = pd.concat(\n",
    "    [\n",
    "        ordersByUsersB[\n",
    "            np.logical_not(ordersByUsersB['visitorId'].isin(abnormalUsers))\n",
    "        ]['orders'],\n",
    "        pd.Series(\n",
    "            0,\n",
    "            index=np.arange(\n",
    "                data_init['visitorsPerDateB'].sum() - len(ordersByUsersB['orders'])\n",
    "            ),\n",
    "            name='orders',\n",
    "        ),\n",
    "    ],\n",
    "    axis=0,\n",
    ")"
   ]
  },
  {
   "cell_type": "code",
   "execution_count": 75,
   "metadata": {},
   "outputs": [
    {
     "name": "stdout",
     "output_type": "stream",
     "text": [
      "0.01304\n"
     ]
    }
   ],
   "source": [
    "# Статистическая значимость различия конверсии по очищенным результатам месячного теста:\n",
    "print('{0:.5f}'.format(stats.mannwhitneyu(sampleAFiltered, sampleBFiltered)[1]))"
   ]
  },
  {
   "cell_type": "code",
   "execution_count": 76,
   "metadata": {},
   "outputs": [
    {
     "name": "stdout",
     "output_type": "stream",
     "text": [
      "0.173\n"
     ]
    }
   ],
   "source": [
    "# Относительное различие в конверсии между группами:\n",
    "print('{0:.3f}'.format(sampleBFiltered.mean()/sampleAFiltered.mean()-1))"
   ]
  },
  {
   "cell_type": "markdown",
   "metadata": {},
   "source": [
    "Вывод: P-value меньше 0,05 (как и по \"сырым\" данным), поэтому нулевую гипотезу отвергаем: конверсия групп А и В - отличается по очищенным данным. Относительный прирост конверсии группы В к конверсии группы A равен 17% (что выше, чем по \"сырым\" данным, где было 14%).\n",
    "\n",
    "Таким образом, сегмент В значительно лучше сегмента А."
   ]
  },
  {
   "cell_type": "markdown",
   "metadata": {},
   "source": [
    "#### Задача 2.13: Посчитать статистическую значимость различий в среднем чеке заказа между группами по «очищенным» данным. Сделать выводы и предположения"
   ]
  },
  {
   "cell_type": "markdown",
   "metadata": {},
   "source": [
    "Посчитаем статистическую значимость различия средних чеков между группами по очищенным данным. Примем за нулевую гипотезу, что средний чек не отличается между двумя группами, за альтернативную - отличается."
   ]
  },
  {
   "cell_type": "code",
   "execution_count": 77,
   "metadata": {},
   "outputs": [
    {
     "name": "stdout",
     "output_type": "stream",
     "text": [
      "0.738\n"
     ]
    }
   ],
   "source": [
    "print(\n",
    "    '{0:.3f}'.format(\n",
    "        stats.mannwhitneyu(\n",
    "            orders[\n",
    "                np.logical_and(\n",
    "                    orders['group'] == 'A',\n",
    "                    np.logical_not(orders['visitorId'].isin(abnormalUsers)),\n",
    "                )\n",
    "            ]['revenue'],\n",
    "            orders[\n",
    "                np.logical_and(\n",
    "                    orders['group'] == 'B',\n",
    "                    np.logical_not(orders['visitorId'].isin(abnormalUsers)),\n",
    "                )\n",
    "            ]['revenue'],\n",
    "        )[1]\n",
    "    )\n",
    ")"
   ]
  },
  {
   "cell_type": "markdown",
   "metadata": {},
   "source": [
    "Посчитаем относительный прирост среднего чека группы В:"
   ]
  },
  {
   "cell_type": "code",
   "execution_count": 78,
   "metadata": {},
   "outputs": [
    {
     "name": "stdout",
     "output_type": "stream",
     "text": [
      "-0.020\n"
     ]
    }
   ],
   "source": [
    "print(\n",
    "    \"{0:.3f}\".format(\n",
    "        orders[\n",
    "            np.logical_and(\n",
    "                orders['group'] == 'B',\n",
    "                np.logical_not(orders['visitorId'].isin(abnormalUsers)),\n",
    "            )\n",
    "        ]['revenue'].mean()\n",
    "        / orders[\n",
    "            np.logical_and(\n",
    "                orders['group'] == 'A',\n",
    "                np.logical_not(orders['visitorId'].isin(abnormalUsers)),\n",
    "            )\n",
    "        ]['revenue'].mean()\n",
    "        - 1\n",
    "    )\n",
    ")"
   ]
  },
  {
   "cell_type": "markdown",
   "metadata": {},
   "source": [
    "Вывод: P-value больше 0,05 (0.738 по очищенным данным и 0.729 по \"сырым\" данным), следовательно, статистически значимых отличий в среднем чеке между группами нет. \n",
    "\n",
    "По чищенным данным относительное различие среднего чека между группами составляет: -2% (по \"сырым\" данным было +26%).\n",
    "\n",
    "Таким образом, даже после удаления выбросов P-value значительно выше 0.05. Т.е мы не смогли опровергнуть нулевую гипотезу. Из этого можно сделать вывод что средний чек в двух группах не оличается. \n",
    "\n",
    "После очищения данных отличие по выручке снизилось с 26% до -2% и это отличие не стало статистически значимым."
   ]
  },
  {
   "cell_type": "markdown",
   "metadata": {},
   "source": [
    "#### Задача 2.14: Принять решение по результатам теста и объяснить его. Варианты решений: 1. Остановить тест, зафиксировать победу одной из групп. 2. Остановить тест, зафиксировать отсутствие различий между группами. 3. Продолжить тест"
   ]
  },
  {
   "cell_type": "markdown",
   "metadata": {},
   "source": [
    "Для визуализации изменений после фильтрации данных построим на одном графике кумулятивную конверсию до и после фильтрации и также, на одном графике величину кумулятивного среднего чека по группам."
   ]
  },
  {
   "cell_type": "code",
   "execution_count": 79,
   "metadata": {},
   "outputs": [],
   "source": [
    "# отфильтрованные данные по заказам\n",
    "orders_f = orders.query(\"visitorId not in @abnormalUsers\")"
   ]
  },
  {
   "cell_type": "code",
   "execution_count": 80,
   "metadata": {},
   "outputs": [],
   "source": [
    "# Создадим таблицу для отфильтрованных данных с кумулятивной конверсией по группам:\n",
    "# Посчитаем количество и сумму заказов по дням:\n",
    "# для группы А\n",
    "ordersADaily_f = (\n",
    "    orders_f[orders_f['group'] == 'A'][['date', 'transactionId', 'visitorId', 'revenue']]\n",
    "    .groupby('date', as_index=False)\n",
    "    .agg({'transactionId': pd.Series.nunique, 'revenue': 'sum'})\n",
    ")\n",
    "ordersADaily_f.columns = ['date', 'ordersPerDateA', 'revenuePerDateA']\n",
    "\n",
    "# для группы B\n",
    "ordersBDaily_f = (\n",
    "    orders_f[orders_f['group'] == 'B'][['date', 'transactionId', 'visitorId', 'revenue']]\n",
    "    .groupby('date', as_index=False)\n",
    "    .agg({'transactionId': pd.Series.nunique, 'revenue': 'sum'})\n",
    ")\n",
    "ordersBDaily_f.columns = ['date', 'ordersPerDateB', 'revenuePerDateB']\n",
    "\n",
    "\n",
    "# Посчитаем кумулятивное количество и сумму заказов по дням:\n",
    "# для группы А\n",
    "ordersACummulative_f = ordersADaily_f.apply(\n",
    "    lambda x: ordersADaily_f[ordersADaily_f['date'] <= x['date']].agg(\n",
    "        {'date': 'max', 'ordersPerDateA': 'sum', 'revenuePerDateA': 'sum'}\n",
    "    ),\n",
    "    axis=1,\n",
    ").sort_values(by=['date'])\n",
    "ordersACummulative_f.columns = [\n",
    "    'date',\n",
    "    'ordersCummulativeA',\n",
    "    'revenueCummulativeA',\n",
    "]\n",
    "\n",
    "# для группы B\n",
    "ordersBCummulative_f = ordersBDaily_f.apply(\n",
    "    lambda x: ordersBDaily_f[ordersBDaily_f['date'] <= x['date']].agg(\n",
    "        {'date': 'max', 'ordersPerDateB': 'sum', 'revenuePerDateB': 'sum'}\n",
    "    ),\n",
    "    axis=1,\n",
    ").sort_values(by=['date'])\n",
    "ordersBCummulative_f.columns = [\n",
    "    'date',\n",
    "    'ordersCummulativeB',\n",
    "    'revenueCummulativeB',\n",
    "]\n",
    "\n",
    "\n",
    "# Объеденим данные в одной таблице\n",
    "data_init_f = (\n",
    "    ordersADaily_f.merge(\n",
    "        ordersBDaily_f, left_on='date', right_on='date', how='left'\n",
    "    )\n",
    "    .merge(ordersACummulative_f, left_on='date', right_on='date', how='left')\n",
    "    .merge(ordersBCummulative_f, left_on='date', right_on='date', how='left')\n",
    "    .merge(visitorsADaily, left_on='date', right_on='date', how='left')\n",
    "    .merge(visitorsBDaily, left_on='date', right_on='date', how='left')\n",
    "    .merge(visitorsACummulative, left_on='date', right_on='date', how='left')\n",
    "    .merge(visitorsBCummulative, left_on='date', right_on='date', how='left')\n",
    ")"
   ]
  },
  {
   "cell_type": "code",
   "execution_count": 81,
   "metadata": {},
   "outputs": [],
   "source": [
    "# Добавим в таблицу колонки с конверсией (в том числе кумулятивной) для группы А и В\n",
    "# считаем конверсию для группы А\n",
    "data_init_f['conversionPerDateA'] = data_init_f['ordersPerDateA']/data_init_f['visitorsPerDateA']\n",
    "# считаем конверсию для группы B\n",
    "data_init_f['conversionPerDateB'] = data_init_f['ordersPerDateB']/data_init_f['visitorsPerDateB']\n",
    "\n",
    "# считаем кумулятивную конверсию для группы А\n",
    "data_init_f['cumul_conversionPerDateA'] = data_init_f['ordersCummulativeA']/data_init_f['visitorsCummulativeA']\n",
    "# считаем кумулятивную конверсию для группы B\n",
    "data_init_f['cumul_conversionPerDateB'] = data_init_f['ordersCummulativeB']/data_init_f['visitorsCummulativeB']"
   ]
  },
  {
   "cell_type": "code",
   "execution_count": 82,
   "metadata": {},
   "outputs": [
    {
     "data": {
      "text/html": [
       "<div>\n",
       "<style scoped>\n",
       "    .dataframe tbody tr th:only-of-type {\n",
       "        vertical-align: middle;\n",
       "    }\n",
       "\n",
       "    .dataframe tbody tr th {\n",
       "        vertical-align: top;\n",
       "    }\n",
       "\n",
       "    .dataframe thead th {\n",
       "        text-align: right;\n",
       "    }\n",
       "</style>\n",
       "<table border=\"1\" class=\"dataframe\">\n",
       "  <thead>\n",
       "    <tr style=\"text-align: right;\">\n",
       "      <th></th>\n",
       "      <th>date</th>\n",
       "      <th>ordersPerDateA</th>\n",
       "      <th>revenuePerDateA</th>\n",
       "      <th>ordersPerDateB</th>\n",
       "      <th>revenuePerDateB</th>\n",
       "      <th>ordersCummulativeA</th>\n",
       "      <th>revenueCummulativeA</th>\n",
       "      <th>ordersCummulativeB</th>\n",
       "      <th>revenueCummulativeB</th>\n",
       "      <th>visitorsPerDateA</th>\n",
       "      <th>visitorsPerDateB</th>\n",
       "      <th>visitorsCummulativeA</th>\n",
       "      <th>visitorsCummulativeB</th>\n",
       "      <th>conversionPerDateA</th>\n",
       "      <th>conversionPerDateB</th>\n",
       "      <th>cumul_conversionPerDateA</th>\n",
       "      <th>cumul_conversionPerDateB</th>\n",
       "    </tr>\n",
       "  </thead>\n",
       "  <tbody>\n",
       "    <tr>\n",
       "      <th>0</th>\n",
       "      <td>2019-08-01</td>\n",
       "      <td>16</td>\n",
       "      <td>54351</td>\n",
       "      <td>19</td>\n",
       "      <td>78258</td>\n",
       "      <td>16</td>\n",
       "      <td>54351</td>\n",
       "      <td>19</td>\n",
       "      <td>78258</td>\n",
       "      <td>719</td>\n",
       "      <td>713</td>\n",
       "      <td>719</td>\n",
       "      <td>713</td>\n",
       "      <td>0.022253</td>\n",
       "      <td>0.026648</td>\n",
       "      <td>0.022253</td>\n",
       "      <td>0.026648</td>\n",
       "    </tr>\n",
       "    <tr>\n",
       "      <th>1</th>\n",
       "      <td>2019-08-02</td>\n",
       "      <td>19</td>\n",
       "      <td>92132</td>\n",
       "      <td>21</td>\n",
       "      <td>93234</td>\n",
       "      <td>35</td>\n",
       "      <td>146483</td>\n",
       "      <td>40</td>\n",
       "      <td>171492</td>\n",
       "      <td>619</td>\n",
       "      <td>581</td>\n",
       "      <td>1338</td>\n",
       "      <td>1294</td>\n",
       "      <td>0.030695</td>\n",
       "      <td>0.036145</td>\n",
       "      <td>0.026158</td>\n",
       "      <td>0.030912</td>\n",
       "    </tr>\n",
       "    <tr>\n",
       "      <th>2</th>\n",
       "      <td>2019-08-03</td>\n",
       "      <td>24</td>\n",
       "      <td>112473</td>\n",
       "      <td>16</td>\n",
       "      <td>114248</td>\n",
       "      <td>59</td>\n",
       "      <td>258956</td>\n",
       "      <td>56</td>\n",
       "      <td>285740</td>\n",
       "      <td>507</td>\n",
       "      <td>509</td>\n",
       "      <td>1845</td>\n",
       "      <td>1803</td>\n",
       "      <td>0.047337</td>\n",
       "      <td>0.031434</td>\n",
       "      <td>0.031978</td>\n",
       "      <td>0.031059</td>\n",
       "    </tr>\n",
       "  </tbody>\n",
       "</table>\n",
       "</div>"
      ],
      "text/plain": [
       "        date  ordersPerDateA  revenuePerDateA  ordersPerDateB  \\\n",
       "0 2019-08-01              16            54351              19   \n",
       "1 2019-08-02              19            92132              21   \n",
       "2 2019-08-03              24           112473              16   \n",
       "\n",
       "   revenuePerDateB  ordersCummulativeA  revenueCummulativeA  \\\n",
       "0            78258                  16                54351   \n",
       "1            93234                  35               146483   \n",
       "2           114248                  59               258956   \n",
       "\n",
       "   ordersCummulativeB  revenueCummulativeB  visitorsPerDateA  \\\n",
       "0                  19                78258               719   \n",
       "1                  40               171492               619   \n",
       "2                  56               285740               507   \n",
       "\n",
       "   visitorsPerDateB  visitorsCummulativeA  visitorsCummulativeB  \\\n",
       "0               713                   719                   713   \n",
       "1               581                  1338                  1294   \n",
       "2               509                  1845                  1803   \n",
       "\n",
       "   conversionPerDateA  conversionPerDateB  cumul_conversionPerDateA  \\\n",
       "0            0.022253            0.026648                  0.022253   \n",
       "1            0.030695            0.036145                  0.026158   \n",
       "2            0.047337            0.031434                  0.031978   \n",
       "\n",
       "   cumul_conversionPerDateB  \n",
       "0                  0.026648  \n",
       "1                  0.030912  \n",
       "2                  0.031059  "
      ]
     },
     "execution_count": 82,
     "metadata": {},
     "output_type": "execute_result"
    }
   ],
   "source": [
    "data_init_f.head(3)"
   ]
  },
  {
   "cell_type": "code",
   "execution_count": 83,
   "metadata": {},
   "outputs": [
    {
     "data": {
      "image/png": "[encoded data removed]",
      "text/plain": [
       "<Figure size 1152x576 with 1 Axes>"
      ]
     },
     "metadata": {
      "needs_background": "light"
     },
     "output_type": "display_data"
    }
   ],
   "source": [
    "# Построим график кумулятивной конверсии по группам для \"сырых\" и отфильтрованных данных\n",
    "plt.figure(figsize=(16,8))\n",
    "\n",
    "plt.plot(data_init['date'], data_init['cumul_conversionPerDateA'],color='b', label='A')\n",
    "plt.plot(data_init_f['date'], data_init_f['cumul_conversionPerDateA'],'b--', label='A_f')\n",
    "plt.plot(data_init['date'], data_init['cumul_conversionPerDateB'],color='r', label='B')\n",
    "plt.plot(data_init_f['date'], data_init_f['cumul_conversionPerDateB'],'r--', label='B_f')\n",
    "plt.legend()\n",
    "plt.title('Кумулятивная конверсия')\n",
    "plt.grid()\n",
    "plt.show();"
   ]
  },
  {
   "cell_type": "code",
   "execution_count": 84,
   "metadata": {},
   "outputs": [
    {
     "data": {
      "image/png": "[encoded data removed]",
      "text/plain": [
       "<Figure size 1152x576 with 1 Axes>"
      ]
     },
     "metadata": {
      "needs_background": "light"
     },
     "output_type": "display_data"
    }
   ],
   "source": [
    "#Построим график относительного различия кумулятивных конверсий для \"сырых\" и отфильтрованных данных\n",
    "plt.figure(figsize=(16,8))\n",
    "plt.plot(data_init['date'], data_init['cumul_conversionPerDateB']/data_init['cumul_conversionPerDateA']-1, label=\"Относительный прирост конверсии группы B относительно группы A (сырые данные)\")\n",
    "plt.plot(data_init['date'], data_init_f['cumul_conversionPerDateB']/data_init_f['cumul_conversionPerDateA']-1, label=\"Относительный прирост конверсии группы B относительно группы A (отфильтрованные данные)\")\n",
    "plt.legend()\n",
    "\n",
    "plt.axhline(y=0.17, color='red', linestyle='--')\n",
    "plt.axhline(y=0.14, color='grey', linestyle='--')\n",
    "plt.axis([dt.datetime(2019, 8, 18), dt.datetime(2019, 9, 1), 0, 0.3])\n",
    "plt.title('Относительное изменение кумулятивной конверсии группы B к группе A')\n",
    "plt.grid();"
   ]
  },
  {
   "cell_type": "code",
   "execution_count": 85,
   "metadata": {},
   "outputs": [
    {
     "data": {
      "image/png": "[encoded data removed]",
      "text/plain": [
       "<Figure size 1152x576 with 1 Axes>"
      ]
     },
     "metadata": {
      "needs_background": "light"
     },
     "output_type": "display_data"
    }
   ],
   "source": [
    "# Построим графики среднего чека по группам  для \"сырых\" и отфильтрованных данных\n",
    "plt.figure(figsize=(16,8))\n",
    "plt.plot(data_init['date'], data_init['revenueCummulativeA']/data_init['ordersCummulativeA'],'b', label='A')\n",
    "plt.plot(data_init['date'], data_init_f['revenueCummulativeA']/data_init_f['ordersCummulativeA'],'b--', label='A_f')\n",
    "plt.plot(data_init['date'], data_init['revenueCummulativeB']/data_init['ordersCummulativeB'],'r', label='B')\n",
    "plt.plot(data_init['date'], data_init_f['revenueCummulativeB']/data_init_f['ordersCummulativeB'],'r--', label='B_f')\n",
    "plt.xlabel('date')\n",
    "plt.ylabel('Average Cumulative Revenue')\n",
    "plt.title('Кумулятивный средний чек заказа')\n",
    "plt.grid()\n",
    "plt.legend();"
   ]
  },
  {
   "cell_type": "code",
   "execution_count": 86,
   "metadata": {},
   "outputs": [
    {
     "data": {
      "image/png": "[encoded data removed]",
      "text/plain": [
       "<Figure size 1152x576 with 1 Axes>"
      ]
     },
     "metadata": {
      "needs_background": "light"
     },
     "output_type": "display_data"
    }
   ],
   "source": [
    "# Построим график относительного различия для среднего чекая для \"сырых\" и отфильтрованных данных\n",
    "plt.figure(figsize=(16,8))\n",
    "# cтроим отношение средних чеков\n",
    "plt.plot(data_init['date'], (data_init['revenueCummulativeB']/data_init['ordersCummulativeB'])/(data_init['revenueCummulativeA']/data_init['ordersCummulativeA'])-1,\n",
    "        label=\"Относительное различие для среднего чекая группы B относительно группы A (сырые данные)\")\n",
    "plt.plot(data_init['date'], (data_init_f['revenueCummulativeB']/data_init_f['ordersCummulativeB'])/(data_init_f['revenueCummulativeA']/data_init_f['ordersCummulativeA'])-1,\n",
    "        label=\"Относительное различие для среднего чекая группы B относительно группы A(отфильтрованные данные)\")\n",
    "\n",
    "plt.legend()\n",
    "# добавляем ось X\n",
    "plt.axhline(y=0, color='black', linestyle='--')\n",
    "plt.xlabel('date')\n",
    "plt.ylabel('Average Cumulative Revenue Ratio (B/A)')\n",
    "plt.title('Относительное изменение кумулятивного среднего чека группы B к группе A')\n",
    "plt.grid();"
   ]
  },
  {
   "cell_type": "markdown",
   "metadata": {},
   "source": [
    "Выводы: по результатам проведенных расчетов можно сделать следующие заключения:\n",
    "\n",
    "Есть статистически значимое различие по конверсии между группами как по сырым данным, так и после фильтрации аномалий. Конверсия группы В больше конверсии группы А на 17% на конец теста по отфильтрованным данным.\n",
    "\n",
    "Как по сырым данным так и после фильтрации нет статистически значимого различия по среднему чеку между группами. \n",
    "\n",
    "Так как конверсия значительно выросла, хотя средний чек не изменился, можно признать тест успешным и остановить его."
   ]
  }
 ],
 "metadata": {
  "ExecuteTimeLog": [
   {
    "duration": 1320,
    "start_time": "2022-05-30T10:08:28.237Z"
   },
   {
    "duration": 56,
    "start_time": "2022-05-30T10:16:28.367Z"
   },
   {
    "duration": 3,
    "start_time": "2022-05-30T10:29:26.543Z"
   },
   {
    "duration": 4,
    "start_time": "2022-05-30T10:30:43.667Z"
   },
   {
    "duration": 27,
    "start_time": "2022-05-30T10:30:43.889Z"
   },
   {
    "duration": 3,
    "start_time": "2022-05-30T10:31:41.220Z"
   },
   {
    "duration": 25,
    "start_time": "2022-05-30T10:31:41.488Z"
   },
   {
    "duration": 3,
    "start_time": "2022-05-30T10:35:03.836Z"
   },
   {
    "duration": 28,
    "start_time": "2022-05-30T10:35:12.229Z"
   },
   {
    "duration": 19,
    "start_time": "2022-05-30T10:35:20.648Z"
   },
   {
    "duration": 105,
    "start_time": "2022-05-30T10:37:31.540Z"
   },
   {
    "duration": 3,
    "start_time": "2022-05-30T10:37:38.588Z"
   },
   {
    "duration": 6,
    "start_time": "2022-05-30T10:37:51.996Z"
   },
   {
    "duration": 415,
    "start_time": "2022-05-30T10:38:08.043Z"
   },
   {
    "duration": 14,
    "start_time": "2022-05-30T10:40:16.651Z"
   },
   {
    "duration": 393,
    "start_time": "2022-05-30T10:42:24.206Z"
   },
   {
    "duration": 9,
    "start_time": "2022-05-30T10:42:45.327Z"
   },
   {
    "duration": 7,
    "start_time": "2022-05-30T10:42:58.611Z"
   },
   {
    "duration": 12,
    "start_time": "2022-05-30T10:43:24.268Z"
   },
   {
    "duration": 10,
    "start_time": "2022-05-30T10:43:29.776Z"
   },
   {
    "duration": 8,
    "start_time": "2022-05-30T10:43:54.313Z"
   },
   {
    "duration": 8,
    "start_time": "2022-05-30T10:44:08.150Z"
   },
   {
    "duration": 25,
    "start_time": "2022-05-30T10:44:28.890Z"
   },
   {
    "duration": 6,
    "start_time": "2022-05-30T10:44:29.915Z"
   },
   {
    "duration": 4,
    "start_time": "2022-05-30T10:44:31.805Z"
   },
   {
    "duration": 13,
    "start_time": "2022-05-30T10:44:39.091Z"
   },
   {
    "duration": 40,
    "start_time": "2022-05-30T10:44:46.440Z"
   },
   {
    "duration": 9,
    "start_time": "2022-05-30T10:44:47.386Z"
   },
   {
    "duration": 4,
    "start_time": "2022-05-30T10:44:48.712Z"
   },
   {
    "duration": 5,
    "start_time": "2022-05-30T10:44:49.384Z"
   },
   {
    "duration": 18,
    "start_time": "2022-05-30T10:44:51.545Z"
   },
   {
    "duration": 6,
    "start_time": "2022-05-30T10:44:56.905Z"
   },
   {
    "duration": 9,
    "start_time": "2022-05-30T10:44:57.528Z"
   },
   {
    "duration": 54,
    "start_time": "2022-05-30T10:53:55.218Z"
   },
   {
    "duration": 200,
    "start_time": "2022-05-30T11:15:04.442Z"
   },
   {
    "duration": 9,
    "start_time": "2022-05-30T11:15:27.770Z"
   },
   {
    "duration": 10,
    "start_time": "2022-05-30T11:15:47.427Z"
   },
   {
    "duration": 9,
    "start_time": "2022-05-30T11:16:29.826Z"
   },
   {
    "duration": 6,
    "start_time": "2022-05-30T11:16:41.524Z"
   },
   {
    "duration": 5,
    "start_time": "2022-05-30T11:17:19.206Z"
   },
   {
    "duration": 2,
    "start_time": "2022-05-30T11:49:57.312Z"
   },
   {
    "duration": 3,
    "start_time": "2022-05-30T11:50:11.133Z"
   },
   {
    "duration": 24,
    "start_time": "2022-05-30T11:50:12.055Z"
   },
   {
    "duration": 7,
    "start_time": "2022-05-30T11:50:12.771Z"
   },
   {
    "duration": 3,
    "start_time": "2022-05-30T11:50:13.562Z"
   },
   {
    "duration": 4,
    "start_time": "2022-05-30T11:50:14.104Z"
   },
   {
    "duration": 9,
    "start_time": "2022-05-30T11:50:14.879Z"
   },
   {
    "duration": 5,
    "start_time": "2022-05-30T11:50:15.592Z"
   },
   {
    "duration": 9,
    "start_time": "2022-05-30T11:50:15.963Z"
   },
   {
    "duration": 56,
    "start_time": "2022-05-30T11:50:21.331Z"
   },
   {
    "duration": 9,
    "start_time": "2022-05-30T11:50:21.635Z"
   },
   {
    "duration": 8,
    "start_time": "2022-05-30T11:50:22.490Z"
   },
   {
    "duration": 7,
    "start_time": "2022-05-30T11:50:24.758Z"
   },
   {
    "duration": 6,
    "start_time": "2022-05-30T11:50:25.368Z"
   },
   {
    "duration": 12,
    "start_time": "2022-05-30T11:50:41.364Z"
   },
   {
    "duration": 10,
    "start_time": "2022-05-30T11:50:48.996Z"
   },
   {
    "duration": 217,
    "start_time": "2022-05-30T11:52:34.154Z"
   },
   {
    "duration": 2,
    "start_time": "2022-05-30T11:53:30.603Z"
   },
   {
    "duration": 25,
    "start_time": "2022-05-30T11:53:31.471Z"
   },
   {
    "duration": 7,
    "start_time": "2022-05-30T11:53:31.775Z"
   },
   {
    "duration": 5,
    "start_time": "2022-05-30T11:53:32.048Z"
   },
   {
    "duration": 4,
    "start_time": "2022-05-30T11:53:32.268Z"
   },
   {
    "duration": 9,
    "start_time": "2022-05-30T11:53:32.692Z"
   },
   {
    "duration": 5,
    "start_time": "2022-05-30T11:53:33.129Z"
   },
   {
    "duration": 9,
    "start_time": "2022-05-30T11:53:33.385Z"
   },
   {
    "duration": 74,
    "start_time": "2022-05-30T11:53:35.296Z"
   },
   {
    "duration": 8,
    "start_time": "2022-05-30T11:53:35.804Z"
   },
   {
    "duration": 11,
    "start_time": "2022-05-30T11:53:36.315Z"
   },
   {
    "duration": 7,
    "start_time": "2022-05-30T11:53:36.834Z"
   },
   {
    "duration": 5,
    "start_time": "2022-05-30T11:53:37.474Z"
   },
   {
    "duration": 10,
    "start_time": "2022-05-30T11:53:37.970Z"
   },
   {
    "duration": 15,
    "start_time": "2022-05-30T11:53:38.675Z"
   },
   {
    "duration": 15,
    "start_time": "2022-05-30T11:53:39.636Z"
   },
   {
    "duration": 11,
    "start_time": "2022-05-30T11:53:49.366Z"
   },
   {
    "duration": 12,
    "start_time": "2022-05-30T11:53:59.665Z"
   },
   {
    "duration": 7,
    "start_time": "2022-05-30T11:59:40.957Z"
   },
   {
    "duration": 10,
    "start_time": "2022-05-30T11:59:46.261Z"
   },
   {
    "duration": 31,
    "start_time": "2022-05-30T12:00:22.996Z"
   },
   {
    "duration": 8,
    "start_time": "2022-05-30T12:01:50.282Z"
   },
   {
    "duration": 163,
    "start_time": "2022-05-30T12:02:57.292Z"
   },
   {
    "duration": 8,
    "start_time": "2022-05-30T12:03:27.069Z"
   },
   {
    "duration": 202,
    "start_time": "2022-05-30T12:04:03.091Z"
   },
   {
    "duration": 9,
    "start_time": "2022-05-30T12:04:11.222Z"
   },
   {
    "duration": 9,
    "start_time": "2022-05-30T12:04:38.793Z"
   },
   {
    "duration": 11,
    "start_time": "2022-05-30T12:04:45.212Z"
   },
   {
    "duration": 728,
    "start_time": "2022-05-30T12:07:26.230Z"
   },
   {
    "duration": 172,
    "start_time": "2022-05-30T12:07:33.320Z"
   },
   {
    "duration": 266,
    "start_time": "2022-05-30T12:08:18.721Z"
   },
   {
    "duration": 223,
    "start_time": "2022-05-30T12:08:34.737Z"
   },
   {
    "duration": 225,
    "start_time": "2022-05-30T12:11:26.710Z"
   },
   {
    "duration": 223,
    "start_time": "2022-05-30T12:11:32.729Z"
   },
   {
    "duration": 225,
    "start_time": "2022-05-30T12:12:53.182Z"
   },
   {
    "duration": 238,
    "start_time": "2022-05-30T12:12:59.452Z"
   },
   {
    "duration": 229,
    "start_time": "2022-05-30T12:17:10.100Z"
   },
   {
    "duration": 210,
    "start_time": "2022-05-30T12:17:16.384Z"
   },
   {
    "duration": 329,
    "start_time": "2022-05-30T12:17:33.103Z"
   },
   {
    "duration": 9,
    "start_time": "2022-05-30T12:18:25.425Z"
   },
   {
    "duration": 236,
    "start_time": "2022-05-30T12:19:34.075Z"
   },
   {
    "duration": 355,
    "start_time": "2022-05-30T12:30:05.150Z"
   },
   {
    "duration": 313,
    "start_time": "2022-05-30T12:37:40.106Z"
   },
   {
    "duration": 29,
    "start_time": "2022-05-30T12:38:02.321Z"
   },
   {
    "duration": 323,
    "start_time": "2022-05-30T12:38:09.057Z"
   },
   {
    "duration": 307,
    "start_time": "2022-05-30T12:38:27.692Z"
   },
   {
    "duration": 328,
    "start_time": "2022-05-30T12:39:37.868Z"
   },
   {
    "duration": 214,
    "start_time": "2022-05-30T13:05:48.669Z"
   },
   {
    "duration": 170,
    "start_time": "2022-05-30T13:06:52.702Z"
   },
   {
    "duration": 211,
    "start_time": "2022-05-30T13:07:10.629Z"
   },
   {
    "duration": 211,
    "start_time": "2022-05-30T13:07:21.829Z"
   },
   {
    "duration": 198,
    "start_time": "2022-05-30T13:07:26.415Z"
   },
   {
    "duration": 213,
    "start_time": "2022-05-30T13:07:31.355Z"
   },
   {
    "duration": 291,
    "start_time": "2022-05-30T13:07:35.518Z"
   },
   {
    "duration": 204,
    "start_time": "2022-05-30T13:07:43.876Z"
   },
   {
    "duration": 193,
    "start_time": "2022-05-30T13:07:53.208Z"
   },
   {
    "duration": 199,
    "start_time": "2022-05-30T13:07:56.614Z"
   },
   {
    "duration": 243,
    "start_time": "2022-05-30T13:08:01.802Z"
   },
   {
    "duration": 217,
    "start_time": "2022-05-30T13:08:05.792Z"
   },
   {
    "duration": 47,
    "start_time": "2022-05-30T13:08:17.971Z"
   },
   {
    "duration": 214,
    "start_time": "2022-05-30T13:08:20.559Z"
   },
   {
    "duration": 1285,
    "start_time": "2022-05-30T16:22:40.365Z"
   },
   {
    "duration": 73,
    "start_time": "2022-05-30T16:22:41.651Z"
   },
   {
    "duration": 101,
    "start_time": "2022-05-30T16:22:42.329Z"
   },
   {
    "duration": 3,
    "start_time": "2022-05-30T16:22:43.159Z"
   },
   {
    "duration": 4,
    "start_time": "2022-05-30T16:22:43.537Z"
   },
   {
    "duration": 9,
    "start_time": "2022-05-30T16:22:44.427Z"
   },
   {
    "duration": 4,
    "start_time": "2022-05-30T16:22:45.303Z"
   },
   {
    "duration": 10,
    "start_time": "2022-05-30T16:22:45.751Z"
   },
   {
    "duration": 148,
    "start_time": "2022-05-30T16:22:49.911Z"
   },
   {
    "duration": 10,
    "start_time": "2022-05-30T16:22:50.715Z"
   },
   {
    "duration": 8,
    "start_time": "2022-05-30T16:22:51.308Z"
   },
   {
    "duration": 5,
    "start_time": "2022-05-30T16:22:51.885Z"
   },
   {
    "duration": 7,
    "start_time": "2022-05-30T16:22:52.274Z"
   },
   {
    "duration": 9,
    "start_time": "2022-05-30T16:22:52.676Z"
   },
   {
    "duration": 13,
    "start_time": "2022-05-30T16:22:53.110Z"
   },
   {
    "duration": 18,
    "start_time": "2022-05-30T16:22:53.519Z"
   },
   {
    "duration": 12,
    "start_time": "2022-05-30T16:22:54.144Z"
   },
   {
    "duration": 11,
    "start_time": "2022-05-30T16:22:54.785Z"
   },
   {
    "duration": 5,
    "start_time": "2022-05-30T16:22:55.936Z"
   },
   {
    "duration": 7,
    "start_time": "2022-05-30T16:22:56.436Z"
   },
   {
    "duration": 156,
    "start_time": "2022-05-30T16:22:56.960Z"
   },
   {
    "duration": 8,
    "start_time": "2022-05-30T16:22:57.569Z"
   },
   {
    "duration": 113,
    "start_time": "2022-05-30T16:22:57.959Z"
   },
   {
    "duration": 9,
    "start_time": "2022-05-30T16:22:58.254Z"
   },
   {
    "duration": 6,
    "start_time": "2022-05-30T16:22:58.507Z"
   },
   {
    "duration": 8,
    "start_time": "2022-05-30T16:22:58.735Z"
   },
   {
    "duration": 310,
    "start_time": "2022-05-30T16:22:59.836Z"
   },
   {
    "duration": 242,
    "start_time": "2022-05-30T16:23:06.824Z"
   },
   {
    "duration": 367,
    "start_time": "2022-05-30T16:23:09.182Z"
   },
   {
    "duration": 215,
    "start_time": "2022-05-30T16:23:23.015Z"
   },
   {
    "duration": 188,
    "start_time": "2022-05-30T16:24:10.457Z"
   },
   {
    "duration": 172,
    "start_time": "2022-05-30T16:24:21.899Z"
   },
   {
    "duration": 167,
    "start_time": "2022-05-30T16:25:35.419Z"
   },
   {
    "duration": 175,
    "start_time": "2022-05-30T16:27:34.636Z"
   },
   {
    "duration": 180,
    "start_time": "2022-05-30T16:27:57.427Z"
   },
   {
    "duration": 191,
    "start_time": "2022-05-30T16:28:24.041Z"
   },
   {
    "duration": 238,
    "start_time": "2022-05-30T16:29:13.354Z"
   },
   {
    "duration": 169,
    "start_time": "2022-05-30T16:29:19.587Z"
   },
   {
    "duration": 182,
    "start_time": "2022-05-30T16:29:27.829Z"
   },
   {
    "duration": 173,
    "start_time": "2022-05-30T16:30:17.727Z"
   },
   {
    "duration": 197,
    "start_time": "2022-05-30T16:33:25.067Z"
   },
   {
    "duration": 192,
    "start_time": "2022-05-30T16:36:23.164Z"
   },
   {
    "duration": 226,
    "start_time": "2022-05-30T17:32:15.340Z"
   },
   {
    "duration": 224,
    "start_time": "2022-05-30T17:32:25.433Z"
   },
   {
    "duration": 260,
    "start_time": "2022-05-30T17:32:34.660Z"
   },
   {
    "duration": 204,
    "start_time": "2022-05-30T17:33:45.854Z"
   },
   {
    "duration": 305,
    "start_time": "2022-05-30T17:34:22.988Z"
   },
   {
    "duration": 302,
    "start_time": "2022-05-30T17:34:34.218Z"
   },
   {
    "duration": 285,
    "start_time": "2022-05-30T17:35:40.315Z"
   },
   {
    "duration": 248,
    "start_time": "2022-05-30T17:39:21.495Z"
   },
   {
    "duration": 171,
    "start_time": "2022-05-30T17:39:44.919Z"
   },
   {
    "duration": 178,
    "start_time": "2022-05-30T17:40:28.167Z"
   },
   {
    "duration": 175,
    "start_time": "2022-05-30T17:40:45.017Z"
   },
   {
    "duration": 309,
    "start_time": "2022-05-30T17:45:34.995Z"
   },
   {
    "duration": 284,
    "start_time": "2022-05-30T17:45:43.723Z"
   },
   {
    "duration": 307,
    "start_time": "2022-05-30T17:45:49.088Z"
   },
   {
    "duration": 255,
    "start_time": "2022-05-30T17:46:17.023Z"
   },
   {
    "duration": 320,
    "start_time": "2022-05-30T17:46:40.773Z"
   },
   {
    "duration": 252,
    "start_time": "2022-05-30T17:46:53.449Z"
   },
   {
    "duration": 288,
    "start_time": "2022-05-30T17:47:55.255Z"
   },
   {
    "duration": 1356,
    "start_time": "2022-05-31T08:05:28.073Z"
   },
   {
    "duration": 73,
    "start_time": "2022-05-31T08:05:30.098Z"
   },
   {
    "duration": 58,
    "start_time": "2022-05-31T08:05:30.874Z"
   },
   {
    "duration": 3,
    "start_time": "2022-05-31T08:05:31.402Z"
   },
   {
    "duration": 4,
    "start_time": "2022-05-31T08:05:31.695Z"
   },
   {
    "duration": 14,
    "start_time": "2022-05-31T08:05:32.323Z"
   },
   {
    "duration": 4,
    "start_time": "2022-05-31T08:05:32.919Z"
   },
   {
    "duration": 8,
    "start_time": "2022-05-31T08:05:33.220Z"
   },
   {
    "duration": 140,
    "start_time": "2022-05-31T08:05:35.096Z"
   },
   {
    "duration": 14,
    "start_time": "2022-05-31T08:05:35.351Z"
   },
   {
    "duration": 10,
    "start_time": "2022-05-31T08:05:35.567Z"
   },
   {
    "duration": 7,
    "start_time": "2022-05-31T08:05:35.810Z"
   },
   {
    "duration": 6,
    "start_time": "2022-05-31T08:05:36.049Z"
   },
   {
    "duration": 14,
    "start_time": "2022-05-31T08:05:36.286Z"
   },
   {
    "duration": 10,
    "start_time": "2022-05-31T08:05:36.509Z"
   },
   {
    "duration": 14,
    "start_time": "2022-05-31T08:05:36.715Z"
   },
   {
    "duration": 10,
    "start_time": "2022-05-31T08:05:36.941Z"
   },
   {
    "duration": 10,
    "start_time": "2022-05-31T08:05:37.206Z"
   },
   {
    "duration": 6,
    "start_time": "2022-05-31T08:05:37.602Z"
   },
   {
    "duration": 9,
    "start_time": "2022-05-31T08:05:37.828Z"
   },
   {
    "duration": 166,
    "start_time": "2022-05-31T08:05:38.068Z"
   },
   {
    "duration": 9,
    "start_time": "2022-05-31T08:05:38.307Z"
   },
   {
    "duration": 113,
    "start_time": "2022-05-31T08:05:38.571Z"
   },
   {
    "duration": 7,
    "start_time": "2022-05-31T08:05:38.723Z"
   },
   {
    "duration": 6,
    "start_time": "2022-05-31T08:05:38.968Z"
   },
   {
    "duration": 8,
    "start_time": "2022-05-31T08:05:39.197Z"
   },
   {
    "duration": 413,
    "start_time": "2022-05-31T08:05:39.650Z"
   },
   {
    "duration": 220,
    "start_time": "2022-05-31T08:05:40.701Z"
   },
   {
    "duration": 414,
    "start_time": "2022-05-31T08:05:41.984Z"
   },
   {
    "duration": 188,
    "start_time": "2022-05-31T08:05:43.538Z"
   },
   {
    "duration": 322,
    "start_time": "2022-05-31T08:05:45.122Z"
   },
   {
    "duration": 38,
    "start_time": "2022-05-31T09:02:39.396Z"
   },
   {
    "duration": 9,
    "start_time": "2022-05-31T09:04:25.486Z"
   },
   {
    "duration": 7,
    "start_time": "2022-05-31T09:04:53.954Z"
   },
   {
    "duration": 8,
    "start_time": "2022-05-31T09:05:02.670Z"
   },
   {
    "duration": 9,
    "start_time": "2022-05-31T09:05:59.442Z"
   },
   {
    "duration": 8,
    "start_time": "2022-05-31T09:06:21.315Z"
   },
   {
    "duration": 7,
    "start_time": "2022-05-31T09:06:59.743Z"
   },
   {
    "duration": 9,
    "start_time": "2022-05-31T09:07:00.405Z"
   },
   {
    "duration": 127,
    "start_time": "2022-05-31T09:07:23.556Z"
   },
   {
    "duration": 162,
    "start_time": "2022-05-31T09:07:52.722Z"
   },
   {
    "duration": 212,
    "start_time": "2022-05-31T09:09:23.630Z"
   },
   {
    "duration": 161,
    "start_time": "2022-05-31T09:09:30.644Z"
   },
   {
    "duration": 126,
    "start_time": "2022-05-31T09:20:11.854Z"
   },
   {
    "duration": 133,
    "start_time": "2022-05-31T09:21:19.231Z"
   },
   {
    "duration": 118,
    "start_time": "2022-05-31T09:21:27.274Z"
   },
   {
    "duration": 220,
    "start_time": "2022-05-31T09:21:37.363Z"
   },
   {
    "duration": 182,
    "start_time": "2022-05-31T09:21:41.420Z"
   },
   {
    "duration": 154,
    "start_time": "2022-05-31T09:22:05.318Z"
   },
   {
    "duration": 129,
    "start_time": "2022-05-31T09:23:15.997Z"
   },
   {
    "duration": 130,
    "start_time": "2022-05-31T09:23:36.287Z"
   },
   {
    "duration": 122,
    "start_time": "2022-05-31T09:23:45.409Z"
   },
   {
    "duration": 141,
    "start_time": "2022-05-31T09:23:55.338Z"
   },
   {
    "duration": 143,
    "start_time": "2022-05-31T09:24:09.698Z"
   },
   {
    "duration": 137,
    "start_time": "2022-05-31T09:24:26.747Z"
   },
   {
    "duration": 188,
    "start_time": "2022-05-31T09:24:46.166Z"
   },
   {
    "duration": 115,
    "start_time": "2022-05-31T09:27:41.490Z"
   },
   {
    "duration": 164,
    "start_time": "2022-05-31T09:27:45.913Z"
   },
   {
    "duration": 134,
    "start_time": "2022-05-31T09:27:50.714Z"
   },
   {
    "duration": 173,
    "start_time": "2022-05-31T09:28:25.236Z"
   },
   {
    "duration": 262,
    "start_time": "2022-05-31T09:29:25.880Z"
   },
   {
    "duration": 159,
    "start_time": "2022-05-31T09:29:36.243Z"
   },
   {
    "duration": 160,
    "start_time": "2022-05-31T09:32:50.266Z"
   },
   {
    "duration": 6,
    "start_time": "2022-05-31T09:36:35.772Z"
   },
   {
    "duration": 7,
    "start_time": "2022-05-31T09:36:58.712Z"
   },
   {
    "duration": 6,
    "start_time": "2022-05-31T09:37:36.927Z"
   },
   {
    "duration": 5,
    "start_time": "2022-05-31T09:38:26.881Z"
   },
   {
    "duration": 5,
    "start_time": "2022-05-31T09:38:30.873Z"
   },
   {
    "duration": 3,
    "start_time": "2022-05-31T09:39:07.140Z"
   },
   {
    "duration": 8,
    "start_time": "2022-05-31T09:39:11.466Z"
   },
   {
    "duration": 8,
    "start_time": "2022-05-31T09:40:30.984Z"
   },
   {
    "duration": 9,
    "start_time": "2022-05-31T09:40:34.495Z"
   },
   {
    "duration": 6,
    "start_time": "2022-05-31T09:40:49.092Z"
   },
   {
    "duration": 6,
    "start_time": "2022-05-31T09:40:49.573Z"
   },
   {
    "duration": 3,
    "start_time": "2022-05-31T09:42:55.743Z"
   },
   {
    "duration": 5,
    "start_time": "2022-05-31T09:42:59.554Z"
   },
   {
    "duration": 6,
    "start_time": "2022-05-31T09:43:08.349Z"
   },
   {
    "duration": 8,
    "start_time": "2022-05-31T09:43:13.479Z"
   },
   {
    "duration": 11,
    "start_time": "2022-05-31T09:45:15.646Z"
   },
   {
    "duration": 7,
    "start_time": "2022-05-31T09:45:22.344Z"
   },
   {
    "duration": 7,
    "start_time": "2022-05-31T09:45:23.095Z"
   },
   {
    "duration": 3,
    "start_time": "2022-05-31T09:45:23.903Z"
   },
   {
    "duration": 5,
    "start_time": "2022-05-31T09:45:24.928Z"
   },
   {
    "duration": 13,
    "start_time": "2022-05-31T09:45:25.451Z"
   },
   {
    "duration": 5,
    "start_time": "2022-05-31T09:45:37.471Z"
   },
   {
    "duration": 5,
    "start_time": "2022-05-31T09:46:00.134Z"
   },
   {
    "duration": 9,
    "start_time": "2022-05-31T09:46:05.934Z"
   },
   {
    "duration": 4,
    "start_time": "2022-05-31T09:48:43.794Z"
   },
   {
    "duration": 10,
    "start_time": "2022-05-31T09:48:44.395Z"
   },
   {
    "duration": 4,
    "start_time": "2022-05-31T09:48:51.636Z"
   },
   {
    "duration": 7,
    "start_time": "2022-05-31T09:48:52.264Z"
   },
   {
    "duration": 6,
    "start_time": "2022-05-31T09:56:35.410Z"
   },
   {
    "duration": 14,
    "start_time": "2022-05-31T10:23:28.617Z"
   },
   {
    "duration": 10,
    "start_time": "2022-05-31T10:25:17.891Z"
   },
   {
    "duration": 137,
    "start_time": "2022-05-31T10:26:15.491Z"
   },
   {
    "duration": 169,
    "start_time": "2022-05-31T10:26:45.977Z"
   },
   {
    "duration": 20,
    "start_time": "2022-05-31T10:27:22.083Z"
   },
   {
    "duration": 0,
    "start_time": "2022-05-31T10:32:26.045Z"
   },
   {
    "duration": 3,
    "start_time": "2022-05-31T10:32:42.749Z"
   },
   {
    "duration": 43,
    "start_time": "2022-05-31T10:32:44.018Z"
   },
   {
    "duration": 8,
    "start_time": "2022-05-31T10:32:44.873Z"
   },
   {
    "duration": 4,
    "start_time": "2022-05-31T10:32:45.434Z"
   },
   {
    "duration": 4,
    "start_time": "2022-05-31T10:32:45.742Z"
   },
   {
    "duration": 11,
    "start_time": "2022-05-31T10:32:46.273Z"
   },
   {
    "duration": 5,
    "start_time": "2022-05-31T10:32:46.746Z"
   },
   {
    "duration": 10,
    "start_time": "2022-05-31T10:32:46.956Z"
   },
   {
    "duration": 62,
    "start_time": "2022-05-31T10:32:48.635Z"
   },
   {
    "duration": 9,
    "start_time": "2022-05-31T10:32:48.859Z"
   },
   {
    "duration": 8,
    "start_time": "2022-05-31T10:32:49.088Z"
   },
   {
    "duration": 7,
    "start_time": "2022-05-31T10:32:49.331Z"
   },
   {
    "duration": 13502,
    "start_time": "2022-05-31T10:32:49.546Z"
   },
   {
    "duration": 34,
    "start_time": "2022-05-31T10:33:03.051Z"
   },
   {
    "duration": 22,
    "start_time": "2022-05-31T10:33:03.088Z"
   },
   {
    "duration": 30,
    "start_time": "2022-05-31T10:33:03.113Z"
   },
   {
    "duration": 17,
    "start_time": "2022-05-31T10:33:03.145Z"
   },
   {
    "duration": 15,
    "start_time": "2022-05-31T10:33:03.164Z"
   },
   {
    "duration": 12,
    "start_time": "2022-05-31T10:33:03.181Z"
   },
   {
    "duration": 14,
    "start_time": "2022-05-31T10:33:03.195Z"
   },
   {
    "duration": 181,
    "start_time": "2022-05-31T10:33:03.210Z"
   },
   {
    "duration": 9,
    "start_time": "2022-05-31T10:33:06.531Z"
   },
   {
    "duration": 150,
    "start_time": "2022-05-31T10:33:07.224Z"
   },
   {
    "duration": 9,
    "start_time": "2022-05-31T10:33:07.550Z"
   },
   {
    "duration": 10,
    "start_time": "2022-05-31T10:33:07.985Z"
   },
   {
    "duration": 12,
    "start_time": "2022-05-31T10:33:08.269Z"
   },
   {
    "duration": 262,
    "start_time": "2022-05-31T10:33:08.805Z"
   },
   {
    "duration": 256,
    "start_time": "2022-05-31T10:33:09.946Z"
   },
   {
    "duration": 306,
    "start_time": "2022-05-31T10:33:10.865Z"
   },
   {
    "duration": 231,
    "start_time": "2022-05-31T10:33:11.888Z"
   },
   {
    "duration": 363,
    "start_time": "2022-05-31T10:33:13.312Z"
   },
   {
    "duration": 8,
    "start_time": "2022-05-31T10:33:14.536Z"
   },
   {
    "duration": 11,
    "start_time": "2022-05-31T10:33:14.767Z"
   },
   {
    "duration": 159,
    "start_time": "2022-05-31T10:33:15.042Z"
   },
   {
    "duration": 164,
    "start_time": "2022-05-31T10:33:16.531Z"
   },
   {
    "duration": 5,
    "start_time": "2022-05-31T10:33:23.281Z"
   },
   {
    "duration": 12,
    "start_time": "2022-05-31T10:33:57.994Z"
   },
   {
    "duration": 181,
    "start_time": "2022-05-31T10:35:15.523Z"
   },
   {
    "duration": 111,
    "start_time": "2022-05-31T10:37:04.670Z"
   },
   {
    "duration": 3,
    "start_time": "2022-05-31T10:37:23.610Z"
   },
   {
    "duration": 5,
    "start_time": "2022-05-31T10:38:18.243Z"
   },
   {
    "duration": 64,
    "start_time": "2022-05-31T10:39:04.984Z"
   },
   {
    "duration": 5,
    "start_time": "2022-05-31T10:39:32.068Z"
   },
   {
    "duration": 4,
    "start_time": "2022-05-31T10:39:46.699Z"
   },
   {
    "duration": 4,
    "start_time": "2022-05-31T10:39:50.460Z"
   },
   {
    "duration": 5,
    "start_time": "2022-05-31T10:41:08.401Z"
   },
   {
    "duration": 5,
    "start_time": "2022-05-31T10:41:21.991Z"
   },
   {
    "duration": 157,
    "start_time": "2022-05-31T10:45:55.183Z"
   },
   {
    "duration": 186,
    "start_time": "2022-05-31T10:46:00.507Z"
   },
   {
    "duration": 197,
    "start_time": "2022-05-31T10:46:51.749Z"
   },
   {
    "duration": 538,
    "start_time": "2022-05-31T10:47:08.739Z"
   },
   {
    "duration": 188,
    "start_time": "2022-05-31T10:47:18.365Z"
   },
   {
    "duration": 510,
    "start_time": "2022-05-31T10:48:30.004Z"
   },
   {
    "duration": 28,
    "start_time": "2022-05-31T10:54:04.685Z"
   },
   {
    "duration": 60,
    "start_time": "2022-05-31T10:59:33.948Z"
   },
   {
    "duration": 1238,
    "start_time": "2022-05-31T10:59:41.942Z"
   },
   {
    "duration": 62,
    "start_time": "2022-05-31T10:59:44.079Z"
   },
   {
    "duration": 47,
    "start_time": "2022-05-31T10:59:44.816Z"
   },
   {
    "duration": 3,
    "start_time": "2022-05-31T10:59:45.362Z"
   },
   {
    "duration": 5,
    "start_time": "2022-05-31T10:59:45.708Z"
   },
   {
    "duration": 15,
    "start_time": "2022-05-31T10:59:46.257Z"
   },
   {
    "duration": 7,
    "start_time": "2022-05-31T10:59:46.756Z"
   },
   {
    "duration": 14,
    "start_time": "2022-05-31T10:59:46.990Z"
   },
   {
    "duration": 148,
    "start_time": "2022-05-31T10:59:48.550Z"
   },
   {
    "duration": 15,
    "start_time": "2022-05-31T10:59:48.771Z"
   },
   {
    "duration": 9,
    "start_time": "2022-05-31T10:59:48.995Z"
   },
   {
    "duration": 7,
    "start_time": "2022-05-31T10:59:49.256Z"
   },
   {
    "duration": 5,
    "start_time": "2022-05-31T10:59:49.472Z"
   },
   {
    "duration": 12,
    "start_time": "2022-05-31T10:59:49.682Z"
   },
   {
    "duration": 10,
    "start_time": "2022-05-31T10:59:49.883Z"
   },
   {
    "duration": 14,
    "start_time": "2022-05-31T10:59:50.093Z"
   },
   {
    "duration": 12,
    "start_time": "2022-05-31T10:59:50.313Z"
   },
   {
    "duration": 16,
    "start_time": "2022-05-31T10:59:50.548Z"
   },
   {
    "duration": 9,
    "start_time": "2022-05-31T10:59:50.965Z"
   },
   {
    "duration": 10,
    "start_time": "2022-05-31T10:59:51.169Z"
   },
   {
    "duration": 178,
    "start_time": "2022-05-31T10:59:51.413Z"
   },
   {
    "duration": 9,
    "start_time": "2022-05-31T10:59:51.649Z"
   },
   {
    "duration": 137,
    "start_time": "2022-05-31T10:59:51.899Z"
   },
   {
    "duration": 9,
    "start_time": "2022-05-31T10:59:52.147Z"
   },
   {
    "duration": 10,
    "start_time": "2022-05-31T10:59:52.370Z"
   },
   {
    "duration": 9,
    "start_time": "2022-05-31T10:59:52.634Z"
   },
   {
    "duration": 465,
    "start_time": "2022-05-31T10:59:53.121Z"
   },
   {
    "duration": 237,
    "start_time": "2022-05-31T10:59:54.165Z"
   },
   {
    "duration": 358,
    "start_time": "2022-05-31T10:59:55.095Z"
   },
   {
    "duration": 198,
    "start_time": "2022-05-31T10:59:56.045Z"
   },
   {
    "duration": 347,
    "start_time": "2022-05-31T10:59:56.946Z"
   },
   {
    "duration": 8,
    "start_time": "2022-05-31T10:59:57.854Z"
   },
   {
    "duration": 11,
    "start_time": "2022-05-31T10:59:58.105Z"
   },
   {
    "duration": 172,
    "start_time": "2022-05-31T10:59:58.348Z"
   },
   {
    "duration": 204,
    "start_time": "2022-05-31T10:59:59.412Z"
   },
   {
    "duration": 6,
    "start_time": "2022-05-31T11:00:00.514Z"
   },
   {
    "duration": 12,
    "start_time": "2022-05-31T11:00:01.683Z"
   },
   {
    "duration": 716,
    "start_time": "2022-05-31T11:00:02.198Z"
   },
   {
    "duration": 4,
    "start_time": "2022-05-31T11:00:02.916Z"
   },
   {
    "duration": 8,
    "start_time": "2022-05-31T11:00:06.484Z"
   },
   {
    "duration": 153,
    "start_time": "2022-05-31T11:01:05.340Z"
   },
   {
    "duration": 315,
    "start_time": "2022-05-31T11:01:14.448Z"
   },
   {
    "duration": 679,
    "start_time": "2022-05-31T11:01:22.810Z"
   },
   {
    "duration": 171,
    "start_time": "2022-05-31T11:01:36.571Z"
   },
   {
    "duration": 266,
    "start_time": "2022-05-31T11:02:36.322Z"
   },
   {
    "duration": 187,
    "start_time": "2022-05-31T11:02:46.252Z"
   },
   {
    "duration": 311,
    "start_time": "2022-05-31T11:02:49.834Z"
   },
   {
    "duration": 217,
    "start_time": "2022-05-31T11:02:59.007Z"
   },
   {
    "duration": 202,
    "start_time": "2022-05-31T11:03:02.219Z"
   },
   {
    "duration": 203,
    "start_time": "2022-05-31T11:03:36.259Z"
   },
   {
    "duration": 196,
    "start_time": "2022-05-31T11:03:46.932Z"
   },
   {
    "duration": 182,
    "start_time": "2022-05-31T11:03:50.940Z"
   },
   {
    "duration": 135,
    "start_time": "2022-05-31T11:04:07.790Z"
   },
   {
    "duration": 212,
    "start_time": "2022-05-31T11:48:03.053Z"
   },
   {
    "duration": 324,
    "start_time": "2022-05-31T11:49:03.491Z"
   },
   {
    "duration": 311,
    "start_time": "2022-05-31T11:49:09.671Z"
   },
   {
    "duration": 331,
    "start_time": "2022-05-31T11:49:52.498Z"
   },
   {
    "duration": 494,
    "start_time": "2022-05-31T11:50:25.423Z"
   },
   {
    "duration": 28,
    "start_time": "2022-05-31T11:52:09.965Z"
   },
   {
    "duration": 391,
    "start_time": "2022-05-31T11:55:59.092Z"
   },
   {
    "duration": 64,
    "start_time": "2022-05-31T11:57:34.562Z"
   },
   {
    "duration": 25,
    "start_time": "2022-05-31T11:57:38.897Z"
   },
   {
    "duration": 29,
    "start_time": "2022-05-31T11:57:47.048Z"
   },
   {
    "duration": 5,
    "start_time": "2022-05-31T11:58:16.028Z"
   },
   {
    "duration": 5,
    "start_time": "2022-05-31T11:58:26.670Z"
   },
   {
    "duration": 6,
    "start_time": "2022-05-31T11:58:33.291Z"
   },
   {
    "duration": 6,
    "start_time": "2022-05-31T11:58:41.832Z"
   },
   {
    "duration": 6,
    "start_time": "2022-05-31T11:58:54.186Z"
   },
   {
    "duration": 6,
    "start_time": "2022-05-31T11:59:16.781Z"
   },
   {
    "duration": 498,
    "start_time": "2022-05-31T12:01:02.482Z"
   },
   {
    "duration": 553,
    "start_time": "2022-05-31T12:01:08.757Z"
   },
   {
    "duration": 525,
    "start_time": "2022-05-31T12:01:13.658Z"
   },
   {
    "duration": 26,
    "start_time": "2022-05-31T12:01:48.044Z"
   },
   {
    "duration": 6,
    "start_time": "2022-05-31T12:02:34.117Z"
   },
   {
    "duration": 4,
    "start_time": "2022-05-31T12:02:39.448Z"
   },
   {
    "duration": 6,
    "start_time": "2022-05-31T12:04:36.464Z"
   },
   {
    "duration": 6,
    "start_time": "2022-05-31T12:04:40.732Z"
   },
   {
    "duration": 6,
    "start_time": "2022-05-31T12:04:52.361Z"
   },
   {
    "duration": 6,
    "start_time": "2022-05-31T12:05:07.413Z"
   },
   {
    "duration": 474,
    "start_time": "2022-05-31T12:05:49.068Z"
   },
   {
    "duration": 871,
    "start_time": "2022-05-31T12:05:55.487Z"
   },
   {
    "duration": 1018,
    "start_time": "2022-05-31T12:06:18.165Z"
   },
   {
    "duration": 968,
    "start_time": "2022-05-31T12:07:13.565Z"
   },
   {
    "duration": 1267,
    "start_time": "2022-05-31T12:07:21.681Z"
   },
   {
    "duration": 830,
    "start_time": "2022-05-31T12:07:30.444Z"
   },
   {
    "duration": 5,
    "start_time": "2022-05-31T12:10:05.458Z"
   },
   {
    "duration": 529,
    "start_time": "2022-05-31T12:11:40.393Z"
   },
   {
    "duration": 959,
    "start_time": "2022-05-31T12:12:16.522Z"
   },
   {
    "duration": 780,
    "start_time": "2022-05-31T12:12:31.926Z"
   },
   {
    "duration": 591,
    "start_time": "2022-05-31T12:12:46.161Z"
   },
   {
    "duration": 528,
    "start_time": "2022-05-31T12:12:51.565Z"
   },
   {
    "duration": 16781,
    "start_time": "2022-05-31T12:13:03.760Z"
   },
   {
    "duration": 3211,
    "start_time": "2022-05-31T12:14:04.231Z"
   },
   {
    "duration": 2488,
    "start_time": "2022-05-31T12:16:53.323Z"
   },
   {
    "duration": 5,
    "start_time": "2022-05-31T12:18:13.454Z"
   },
   {
    "duration": 4,
    "start_time": "2022-05-31T12:20:14.251Z"
   },
   {
    "duration": 5,
    "start_time": "2022-05-31T12:20:28.465Z"
   },
   {
    "duration": 5,
    "start_time": "2022-05-31T12:21:41.246Z"
   },
   {
    "duration": 5,
    "start_time": "2022-05-31T12:31:13.700Z"
   },
   {
    "duration": 13,
    "start_time": "2022-05-31T12:31:34.411Z"
   },
   {
    "duration": 9,
    "start_time": "2022-05-31T12:32:00.595Z"
   },
   {
    "duration": 79,
    "start_time": "2022-05-31T12:33:28.522Z"
   },
   {
    "duration": 53,
    "start_time": "2022-05-31T12:34:16.798Z"
   },
   {
    "duration": 22,
    "start_time": "2022-05-31T12:35:03.254Z"
   },
   {
    "duration": 11,
    "start_time": "2022-05-31T12:35:17.502Z"
   },
   {
    "duration": 27,
    "start_time": "2022-05-31T12:35:52.130Z"
   },
   {
    "duration": 31,
    "start_time": "2022-05-31T12:38:49.235Z"
   },
   {
    "duration": 33,
    "start_time": "2022-05-31T12:39:02.473Z"
   },
   {
    "duration": 28,
    "start_time": "2022-05-31T12:39:13.000Z"
   },
   {
    "duration": 41,
    "start_time": "2022-05-31T12:39:23.841Z"
   },
   {
    "duration": 33,
    "start_time": "2022-05-31T12:39:35.047Z"
   },
   {
    "duration": 29,
    "start_time": "2022-05-31T12:39:53.412Z"
   },
   {
    "duration": 39,
    "start_time": "2022-05-31T12:40:22.095Z"
   },
   {
    "duration": 93,
    "start_time": "2022-05-31T12:41:16.884Z"
   },
   {
    "duration": 13,
    "start_time": "2022-05-31T12:42:31.094Z"
   },
   {
    "duration": 89,
    "start_time": "2022-05-31T12:42:32.301Z"
   },
   {
    "duration": 26,
    "start_time": "2022-05-31T12:42:33.277Z"
   },
   {
    "duration": 53,
    "start_time": "2022-05-31T12:43:53.775Z"
   },
   {
    "duration": 8,
    "start_time": "2022-05-31T12:43:58.656Z"
   },
   {
    "duration": 100,
    "start_time": "2022-05-31T12:45:52.912Z"
   },
   {
    "duration": 23,
    "start_time": "2022-05-31T12:46:55.583Z"
   },
   {
    "duration": 15,
    "start_time": "2022-05-31T12:47:09.427Z"
   },
   {
    "duration": 10,
    "start_time": "2022-05-31T12:47:16.408Z"
   },
   {
    "duration": 7,
    "start_time": "2022-05-31T12:58:37.313Z"
   },
   {
    "duration": 23,
    "start_time": "2022-05-31T12:58:42.038Z"
   },
   {
    "duration": 10,
    "start_time": "2022-05-31T13:00:05.940Z"
   },
   {
    "duration": 63,
    "start_time": "2022-05-31T13:00:31.936Z"
   },
   {
    "duration": 9,
    "start_time": "2022-05-31T13:00:32.765Z"
   },
   {
    "duration": 8,
    "start_time": "2022-05-31T13:00:33.248Z"
   },
   {
    "duration": 8,
    "start_time": "2022-05-31T13:00:33.549Z"
   },
   {
    "duration": 5,
    "start_time": "2022-05-31T13:00:33.916Z"
   },
   {
    "duration": 11,
    "start_time": "2022-05-31T13:00:34.235Z"
   },
   {
    "duration": 11,
    "start_time": "2022-05-31T13:00:34.534Z"
   },
   {
    "duration": 19,
    "start_time": "2022-05-31T13:00:34.841Z"
   },
   {
    "duration": 14,
    "start_time": "2022-05-31T13:00:35.126Z"
   },
   {
    "duration": 11,
    "start_time": "2022-05-31T13:00:35.509Z"
   },
   {
    "duration": 6,
    "start_time": "2022-05-31T13:00:36.293Z"
   },
   {
    "duration": 8,
    "start_time": "2022-05-31T13:00:36.562Z"
   },
   {
    "duration": 162,
    "start_time": "2022-05-31T13:00:36.987Z"
   },
   {
    "duration": 9,
    "start_time": "2022-05-31T13:00:37.369Z"
   },
   {
    "duration": 142,
    "start_time": "2022-05-31T13:00:37.787Z"
   },
   {
    "duration": 9,
    "start_time": "2022-05-31T13:00:38.353Z"
   },
   {
    "duration": 9,
    "start_time": "2022-05-31T13:00:40.951Z"
   },
   {
    "duration": 9,
    "start_time": "2022-05-31T13:00:41.608Z"
   },
   {
    "duration": 252,
    "start_time": "2022-05-31T13:00:56.376Z"
   },
   {
    "duration": 258,
    "start_time": "2022-05-31T13:01:15.188Z"
   },
   {
    "duration": 341,
    "start_time": "2022-05-31T13:01:16.775Z"
   },
   {
    "duration": 228,
    "start_time": "2022-05-31T13:01:17.650Z"
   },
   {
    "duration": 330,
    "start_time": "2022-05-31T13:01:18.438Z"
   },
   {
    "duration": 8,
    "start_time": "2022-05-31T13:01:19.311Z"
   },
   {
    "duration": 9,
    "start_time": "2022-05-31T13:01:19.520Z"
   },
   {
    "duration": 153,
    "start_time": "2022-05-31T13:01:19.746Z"
   },
   {
    "duration": 408,
    "start_time": "2022-05-31T13:01:20.665Z"
   },
   {
    "duration": 6,
    "start_time": "2022-05-31T13:01:21.347Z"
   },
   {
    "duration": 11,
    "start_time": "2022-05-31T13:01:22.300Z"
   },
   {
    "duration": 715,
    "start_time": "2022-05-31T13:01:24.624Z"
   },
   {
    "duration": 6,
    "start_time": "2022-05-31T13:01:25.341Z"
   },
   {
    "duration": 11,
    "start_time": "2022-05-31T13:01:25.349Z"
   },
   {
    "duration": 6,
    "start_time": "2022-05-31T13:01:25.540Z"
   },
   {
    "duration": 2060,
    "start_time": "2022-05-31T13:01:26.166Z"
   },
   {
    "duration": 5,
    "start_time": "2022-05-31T13:01:29.133Z"
   },
   {
    "duration": 6,
    "start_time": "2022-05-31T13:01:29.651Z"
   },
   {
    "duration": 18,
    "start_time": "2022-05-31T13:01:30.811Z"
   },
   {
    "duration": 104,
    "start_time": "2022-05-31T13:01:32.324Z"
   },
   {
    "duration": 32,
    "start_time": "2022-05-31T13:01:32.875Z"
   },
   {
    "duration": 109,
    "start_time": "2022-05-31T13:01:33.381Z"
   },
   {
    "duration": 22,
    "start_time": "2022-05-31T13:01:34.837Z"
   },
   {
    "duration": 11,
    "start_time": "2022-05-31T13:01:36.416Z"
   },
   {
    "duration": 8,
    "start_time": "2022-05-31T13:01:37.316Z"
   },
   {
    "duration": 11,
    "start_time": "2022-05-31T13:04:14.876Z"
   },
   {
    "duration": 10,
    "start_time": "2022-05-31T13:05:07.400Z"
   },
   {
    "duration": 13,
    "start_time": "2022-05-31T13:26:32.999Z"
   },
   {
    "duration": 6,
    "start_time": "2022-05-31T13:28:19.960Z"
   },
   {
    "duration": 5,
    "start_time": "2022-05-31T13:30:19.373Z"
   },
   {
    "duration": 6,
    "start_time": "2022-05-31T13:31:24.842Z"
   },
   {
    "duration": 7,
    "start_time": "2022-05-31T13:36:33.420Z"
   },
   {
    "duration": 7,
    "start_time": "2022-05-31T13:36:37.102Z"
   },
   {
    "duration": 6,
    "start_time": "2022-05-31T13:36:41.900Z"
   },
   {
    "duration": 5,
    "start_time": "2022-05-31T13:36:45.596Z"
   },
   {
    "duration": 6,
    "start_time": "2022-05-31T13:37:09.865Z"
   },
   {
    "duration": 6,
    "start_time": "2022-05-31T13:37:32.159Z"
   },
   {
    "duration": 8,
    "start_time": "2022-05-31T13:39:27.405Z"
   },
   {
    "duration": 152,
    "start_time": "2022-05-31T13:45:02.589Z"
   },
   {
    "duration": 7,
    "start_time": "2022-05-31T13:45:26.710Z"
   },
   {
    "duration": 6,
    "start_time": "2022-05-31T13:48:37.710Z"
   },
   {
    "duration": 29,
    "start_time": "2022-05-31T13:50:21.280Z"
   },
   {
    "duration": 11,
    "start_time": "2022-05-31T14:15:31.645Z"
   },
   {
    "duration": 35,
    "start_time": "2022-05-31T14:16:30.295Z"
   },
   {
    "duration": 5,
    "start_time": "2022-05-31T14:17:32.463Z"
   },
   {
    "duration": 10,
    "start_time": "2022-05-31T14:17:37.252Z"
   },
   {
    "duration": 5,
    "start_time": "2022-05-31T14:17:44.048Z"
   },
   {
    "duration": 10,
    "start_time": "2022-05-31T14:17:44.989Z"
   },
   {
    "duration": 5,
    "start_time": "2022-05-31T14:20:13.041Z"
   },
   {
    "duration": 5,
    "start_time": "2022-05-31T14:20:13.956Z"
   },
   {
    "duration": 7,
    "start_time": "2022-05-31T14:20:14.851Z"
   },
   {
    "duration": 49,
    "start_time": "2022-05-31T14:20:15.609Z"
   },
   {
    "duration": 23,
    "start_time": "2022-05-31T14:20:16.570Z"
   },
   {
    "duration": 52,
    "start_time": "2022-05-31T14:20:17.506Z"
   },
   {
    "duration": 29,
    "start_time": "2022-05-31T14:20:18.481Z"
   },
   {
    "duration": 81,
    "start_time": "2022-05-31T14:20:19.666Z"
   },
   {
    "duration": 9,
    "start_time": "2022-05-31T14:20:22.460Z"
   },
   {
    "duration": 15,
    "start_time": "2022-05-31T14:20:23.235Z"
   },
   {
    "duration": 31,
    "start_time": "2022-05-31T14:23:45.909Z"
   },
   {
    "duration": 11,
    "start_time": "2022-05-31T14:23:46.957Z"
   },
   {
    "duration": 5,
    "start_time": "2022-05-31T14:23:47.460Z"
   },
   {
    "duration": 6,
    "start_time": "2022-05-31T14:23:47.652Z"
   },
   {
    "duration": 15,
    "start_time": "2022-05-31T14:23:48.042Z"
   },
   {
    "duration": 7,
    "start_time": "2022-05-31T14:23:48.445Z"
   },
   {
    "duration": 22,
    "start_time": "2022-05-31T14:23:48.643Z"
   },
   {
    "duration": 74,
    "start_time": "2022-05-31T14:23:50.043Z"
   },
   {
    "duration": 13,
    "start_time": "2022-05-31T14:23:50.253Z"
   },
   {
    "duration": 11,
    "start_time": "2022-05-31T14:23:50.439Z"
   },
   {
    "duration": 10,
    "start_time": "2022-05-31T14:23:50.657Z"
   },
   {
    "duration": 8,
    "start_time": "2022-05-31T14:23:50.848Z"
   },
   {
    "duration": 22,
    "start_time": "2022-05-31T14:23:51.063Z"
   },
   {
    "duration": 18,
    "start_time": "2022-05-31T14:23:51.259Z"
   },
   {
    "duration": 20,
    "start_time": "2022-05-31T14:23:51.445Z"
   },
   {
    "duration": 13,
    "start_time": "2022-05-31T14:23:51.622Z"
   },
   {
    "duration": 22,
    "start_time": "2022-05-31T14:23:51.814Z"
   },
   {
    "duration": 9,
    "start_time": "2022-05-31T14:23:52.217Z"
   },
   {
    "duration": 11,
    "start_time": "2022-05-31T14:23:52.424Z"
   },
   {
    "duration": 203,
    "start_time": "2022-05-31T14:23:52.615Z"
   },
   {
    "duration": 10,
    "start_time": "2022-05-31T14:23:52.825Z"
   },
   {
    "duration": 158,
    "start_time": "2022-05-31T14:23:53.041Z"
   },
   {
    "duration": 9,
    "start_time": "2022-05-31T14:23:53.240Z"
   },
   {
    "duration": 10,
    "start_time": "2022-05-31T14:23:53.450Z"
   },
   {
    "duration": 12,
    "start_time": "2022-05-31T14:23:53.656Z"
   },
   {
    "duration": 388,
    "start_time": "2022-05-31T14:23:54.069Z"
   },
   {
    "duration": 539,
    "start_time": "2022-05-31T14:23:55.322Z"
   },
   {
    "duration": 395,
    "start_time": "2022-05-31T14:24:03.305Z"
   },
   {
    "duration": 223,
    "start_time": "2022-05-31T14:24:04.708Z"
   },
   {
    "duration": 370,
    "start_time": "2022-05-31T14:24:06.088Z"
   },
   {
    "duration": 8,
    "start_time": "2022-05-31T14:24:07.348Z"
   },
   {
    "duration": 9,
    "start_time": "2022-05-31T14:24:07.635Z"
   },
   {
    "duration": 163,
    "start_time": "2022-05-31T14:24:07.933Z"
   },
   {
    "duration": 225,
    "start_time": "2022-05-31T14:24:09.299Z"
   },
   {
    "duration": 6,
    "start_time": "2022-05-31T14:24:10.312Z"
   },
   {
    "duration": 16,
    "start_time": "2022-05-31T14:24:12.051Z"
   },
   {
    "duration": 624,
    "start_time": "2022-05-31T14:24:12.743Z"
   },
   {
    "duration": 6,
    "start_time": "2022-05-31T14:24:13.374Z"
   },
   {
    "duration": 8,
    "start_time": "2022-05-31T14:24:16.592Z"
   },
   {
    "duration": 6,
    "start_time": "2022-05-31T14:24:17.709Z"
   },
   {
    "duration": 2115,
    "start_time": "2022-05-31T14:24:18.552Z"
   },
   {
    "duration": 7,
    "start_time": "2022-05-31T14:24:21.997Z"
   },
   {
    "duration": 6,
    "start_time": "2022-05-31T14:24:22.524Z"
   },
   {
    "duration": 12,
    "start_time": "2022-05-31T14:24:23.823Z"
   },
   {
    "duration": 340,
    "start_time": "2022-05-31T14:24:24.329Z"
   },
   {
    "duration": 58,
    "start_time": "2022-05-31T14:24:24.672Z"
   },
   {
    "duration": 123,
    "start_time": "2022-05-31T14:24:24.997Z"
   },
   {
    "duration": 22,
    "start_time": "2022-05-31T14:24:25.316Z"
   },
   {
    "duration": 15,
    "start_time": "2022-05-31T14:24:25.733Z"
   },
   {
    "duration": 7,
    "start_time": "2022-05-31T14:24:26.397Z"
   },
   {
    "duration": 14,
    "start_time": "2022-05-31T14:24:26.989Z"
   },
   {
    "duration": 168,
    "start_time": "2022-05-31T14:24:27.604Z"
   },
   {
    "duration": 8,
    "start_time": "2022-05-31T14:24:28.585Z"
   },
   {
    "duration": 38,
    "start_time": "2022-05-31T14:24:29.423Z"
   },
   {
    "duration": 10,
    "start_time": "2022-05-31T14:26:28.484Z"
   },
   {
    "duration": 9,
    "start_time": "2022-05-31T14:27:10.047Z"
   },
   {
    "duration": 9,
    "start_time": "2022-05-31T14:31:46.484Z"
   },
   {
    "duration": 13,
    "start_time": "2022-05-31T14:31:57.447Z"
   },
   {
    "duration": 599,
    "start_time": "2022-05-31T14:32:11.647Z"
   },
   {
    "duration": 441,
    "start_time": "2022-05-31T14:32:16.958Z"
   },
   {
    "duration": 461,
    "start_time": "2022-05-31T14:32:33.497Z"
   },
   {
    "duration": 14,
    "start_time": "2022-05-31T14:32:44.102Z"
   },
   {
    "duration": 22,
    "start_time": "2022-05-31T14:32:49.057Z"
   },
   {
    "duration": 27,
    "start_time": "2022-05-31T14:33:12.134Z"
   },
   {
    "duration": 8,
    "start_time": "2022-05-31T14:33:12.796Z"
   },
   {
    "duration": 3,
    "start_time": "2022-05-31T14:33:13.263Z"
   },
   {
    "duration": 4,
    "start_time": "2022-05-31T14:33:13.528Z"
   },
   {
    "duration": 11,
    "start_time": "2022-05-31T14:33:14.063Z"
   },
   {
    "duration": 6,
    "start_time": "2022-05-31T14:33:14.544Z"
   },
   {
    "duration": 10,
    "start_time": "2022-05-31T14:33:14.763Z"
   },
   {
    "duration": 64,
    "start_time": "2022-05-31T14:33:16.292Z"
   },
   {
    "duration": 13,
    "start_time": "2022-05-31T14:33:16.524Z"
   },
   {
    "duration": 12,
    "start_time": "2022-05-31T14:33:20.620Z"
   },
   {
    "duration": 9,
    "start_time": "2022-05-31T14:33:22.297Z"
   },
   {
    "duration": 8,
    "start_time": "2022-05-31T14:33:23.596Z"
   },
   {
    "duration": 22,
    "start_time": "2022-05-31T14:33:23.606Z"
   },
   {
    "duration": 15,
    "start_time": "2022-05-31T14:33:23.827Z"
   },
   {
    "duration": 18,
    "start_time": "2022-05-31T14:33:24.429Z"
   },
   {
    "duration": 12,
    "start_time": "2022-05-31T14:33:24.699Z"
   },
   {
    "duration": 12,
    "start_time": "2022-05-31T14:33:25.108Z"
   },
   {
    "duration": 7,
    "start_time": "2022-05-31T14:33:25.953Z"
   },
   {
    "duration": 7,
    "start_time": "2022-05-31T14:33:26.700Z"
   },
   {
    "duration": 163,
    "start_time": "2022-05-31T14:33:27.049Z"
   },
   {
    "duration": 8,
    "start_time": "2022-05-31T14:33:27.521Z"
   },
   {
    "duration": 119,
    "start_time": "2022-05-31T14:33:27.969Z"
   },
   {
    "duration": 8,
    "start_time": "2022-05-31T14:33:28.410Z"
   },
   {
    "duration": 8,
    "start_time": "2022-05-31T14:33:28.718Z"
   },
   {
    "duration": 10,
    "start_time": "2022-05-31T14:33:29.044Z"
   },
   {
    "duration": 239,
    "start_time": "2022-05-31T14:33:30.415Z"
   },
   {
    "duration": 256,
    "start_time": "2022-05-31T14:33:34.934Z"
   },
   {
    "duration": 319,
    "start_time": "2022-05-31T14:33:38.788Z"
   },
   {
    "duration": 200,
    "start_time": "2022-05-31T14:33:41.740Z"
   },
   {
    "duration": 342,
    "start_time": "2022-05-31T14:33:42.397Z"
   },
   {
    "duration": 8,
    "start_time": "2022-05-31T14:33:43.067Z"
   },
   {
    "duration": 8,
    "start_time": "2022-05-31T14:33:43.435Z"
   },
   {
    "duration": 158,
    "start_time": "2022-05-31T14:33:43.627Z"
   },
   {
    "duration": 210,
    "start_time": "2022-05-31T14:33:44.593Z"
   },
   {
    "duration": 7,
    "start_time": "2022-05-31T14:33:45.534Z"
   },
   {
    "duration": 13,
    "start_time": "2022-05-31T14:33:46.436Z"
   },
   {
    "duration": 599,
    "start_time": "2022-05-31T14:33:46.718Z"
   },
   {
    "duration": 8,
    "start_time": "2022-05-31T14:33:47.320Z"
   },
   {
    "duration": 6,
    "start_time": "2022-05-31T14:33:48.063Z"
   },
   {
    "duration": 5,
    "start_time": "2022-05-31T14:33:48.612Z"
   },
   {
    "duration": 2251,
    "start_time": "2022-05-31T14:33:49.288Z"
   },
   {
    "duration": 5,
    "start_time": "2022-05-31T14:33:54.365Z"
   },
   {
    "duration": 6,
    "start_time": "2022-05-31T14:33:55.210Z"
   },
   {
    "duration": 12,
    "start_time": "2022-05-31T14:33:56.630Z"
   },
   {
    "duration": 94,
    "start_time": "2022-05-31T14:33:57.089Z"
   },
   {
    "duration": 30,
    "start_time": "2022-05-31T14:33:57.329Z"
   },
   {
    "duration": 100,
    "start_time": "2022-05-31T14:33:57.616Z"
   },
   {
    "duration": 24,
    "start_time": "2022-05-31T14:33:57.845Z"
   },
   {
    "duration": 13,
    "start_time": "2022-05-31T14:33:58.097Z"
   },
   {
    "duration": 9,
    "start_time": "2022-05-31T14:33:58.890Z"
   },
   {
    "duration": 15,
    "start_time": "2022-05-31T14:34:02.490Z"
   },
   {
    "duration": 136,
    "start_time": "2022-05-31T14:34:04.838Z"
   },
   {
    "duration": 7,
    "start_time": "2022-05-31T14:34:06.336Z"
   },
   {
    "duration": 28,
    "start_time": "2022-05-31T14:34:07.192Z"
   },
   {
    "duration": 11,
    "start_time": "2022-05-31T14:34:24.466Z"
   },
   {
    "duration": 40,
    "start_time": "2022-05-31T14:34:35.496Z"
   },
   {
    "duration": 8,
    "start_time": "2022-05-31T14:35:00.322Z"
   },
   {
    "duration": 4,
    "start_time": "2022-05-31T14:51:07.929Z"
   },
   {
    "duration": 1246,
    "start_time": "2022-06-01T05:03:27.223Z"
   },
   {
    "duration": 62,
    "start_time": "2022-06-01T05:03:29.407Z"
   },
   {
    "duration": 41,
    "start_time": "2022-06-01T05:03:30.576Z"
   },
   {
    "duration": 4,
    "start_time": "2022-06-01T05:03:43.566Z"
   },
   {
    "duration": 4,
    "start_time": "2022-06-01T05:03:44.292Z"
   },
   {
    "duration": 9,
    "start_time": "2022-06-01T05:03:45.351Z"
   },
   {
    "duration": 4,
    "start_time": "2022-06-01T05:03:46.111Z"
   },
   {
    "duration": 10,
    "start_time": "2022-06-01T05:03:46.402Z"
   },
   {
    "duration": 3,
    "start_time": "2022-06-01T05:04:29.979Z"
   },
   {
    "duration": 28,
    "start_time": "2022-06-01T05:04:30.654Z"
   },
   {
    "duration": 6,
    "start_time": "2022-06-01T05:04:30.956Z"
   },
   {
    "duration": 2,
    "start_time": "2022-06-01T05:04:31.238Z"
   },
   {
    "duration": 4,
    "start_time": "2022-06-01T05:04:31.485Z"
   },
   {
    "duration": 9,
    "start_time": "2022-06-01T05:04:32.052Z"
   },
   {
    "duration": 5,
    "start_time": "2022-06-01T05:04:32.614Z"
   },
   {
    "duration": 8,
    "start_time": "2022-06-01T05:04:32.919Z"
   },
   {
    "duration": 144,
    "start_time": "2022-06-01T05:04:48.187Z"
   },
   {
    "duration": 10,
    "start_time": "2022-06-01T05:04:49.099Z"
   },
   {
    "duration": 7,
    "start_time": "2022-06-01T05:04:50.119Z"
   },
   {
    "duration": 6,
    "start_time": "2022-06-01T05:04:50.674Z"
   },
   {
    "duration": 7,
    "start_time": "2022-06-01T05:04:51.087Z"
   },
   {
    "duration": 10,
    "start_time": "2022-06-01T05:04:51.444Z"
   },
   {
    "duration": 9,
    "start_time": "2022-06-01T05:04:51.805Z"
   },
   {
    "duration": 12,
    "start_time": "2022-06-01T05:04:52.209Z"
   },
   {
    "duration": 9,
    "start_time": "2022-06-01T05:04:52.595Z"
   },
   {
    "duration": 9,
    "start_time": "2022-06-01T05:04:53.097Z"
   },
   {
    "duration": 6,
    "start_time": "2022-06-01T05:05:14.093Z"
   },
   {
    "duration": 7,
    "start_time": "2022-06-01T05:05:14.402Z"
   },
   {
    "duration": 175,
    "start_time": "2022-06-01T05:05:14.722Z"
   },
   {
    "duration": 8,
    "start_time": "2022-06-01T05:05:14.989Z"
   },
   {
    "duration": 121,
    "start_time": "2022-06-01T05:05:15.262Z"
   },
   {
    "duration": 8,
    "start_time": "2022-06-01T05:05:15.529Z"
   },
   {
    "duration": 8,
    "start_time": "2022-06-01T05:05:15.821Z"
   },
   {
    "duration": 8,
    "start_time": "2022-06-01T05:05:16.076Z"
   },
   {
    "duration": 491,
    "start_time": "2022-06-01T05:05:16.622Z"
   },
   {
    "duration": 222,
    "start_time": "2022-06-01T05:05:19.154Z"
   },
   {
    "duration": 381,
    "start_time": "2022-06-01T05:05:20.414Z"
   },
   {
    "duration": 218,
    "start_time": "2022-06-01T05:05:21.821Z"
   },
   {
    "duration": 276,
    "start_time": "2022-06-01T05:05:23.267Z"
   },
   {
    "duration": 6,
    "start_time": "2022-06-01T05:05:24.582Z"
   },
   {
    "duration": 9,
    "start_time": "2022-06-01T05:05:24.873Z"
   },
   {
    "duration": 135,
    "start_time": "2022-06-01T05:05:25.289Z"
   },
   {
    "duration": 150,
    "start_time": "2022-06-01T05:05:27.149Z"
   },
   {
    "duration": 6,
    "start_time": "2022-06-01T05:05:31.938Z"
   },
   {
    "duration": 10,
    "start_time": "2022-06-01T05:05:38.159Z"
   },
   {
    "duration": 667,
    "start_time": "2022-06-01T05:05:39.859Z"
   },
   {
    "duration": 5,
    "start_time": "2022-06-01T05:06:03.028Z"
   },
   {
    "duration": 5,
    "start_time": "2022-06-01T05:06:21.471Z"
   },
   {
    "duration": 6,
    "start_time": "2022-06-01T05:06:29.282Z"
   },
   {
    "duration": 1843,
    "start_time": "2022-06-01T05:06:34.272Z"
   },
   {
    "duration": 5,
    "start_time": "2022-06-01T05:07:08.749Z"
   },
   {
    "duration": 4,
    "start_time": "2022-06-01T05:07:28.912Z"
   },
   {
    "duration": 10,
    "start_time": "2022-06-01T05:07:33.486Z"
   },
   {
    "duration": 89,
    "start_time": "2022-06-01T05:07:34.315Z"
   },
   {
    "duration": 27,
    "start_time": "2022-06-01T05:07:34.880Z"
   },
   {
    "duration": 94,
    "start_time": "2022-06-01T05:07:35.512Z"
   },
   {
    "duration": 19,
    "start_time": "2022-06-01T05:07:35.958Z"
   },
   {
    "duration": 10,
    "start_time": "2022-06-01T05:07:36.508Z"
   },
   {
    "duration": 7,
    "start_time": "2022-06-01T05:07:37.189Z"
   },
   {
    "duration": 13,
    "start_time": "2022-06-01T05:07:37.821Z"
   },
   {
    "duration": 127,
    "start_time": "2022-06-01T05:07:47.482Z"
   },
   {
    "duration": 6,
    "start_time": "2022-06-01T05:07:48.702Z"
   },
   {
    "duration": 26,
    "start_time": "2022-06-01T05:07:49.919Z"
   },
   {
    "duration": 5,
    "start_time": "2022-06-01T05:08:00.387Z"
   },
   {
    "duration": 7,
    "start_time": "2022-06-01T05:08:19.620Z"
   },
   {
    "duration": 6,
    "start_time": "2022-06-01T05:08:22.209Z"
   },
   {
    "duration": 4,
    "start_time": "2022-06-01T05:15:31.219Z"
   },
   {
    "duration": 4,
    "start_time": "2022-06-01T05:15:35.308Z"
   },
   {
    "duration": 5,
    "start_time": "2022-06-01T05:15:58.008Z"
   },
   {
    "duration": 5,
    "start_time": "2022-06-01T05:19:15.739Z"
   },
   {
    "duration": 4,
    "start_time": "2022-06-01T05:19:19.345Z"
   },
   {
    "duration": 5,
    "start_time": "2022-06-01T05:19:38.424Z"
   },
   {
    "duration": 5,
    "start_time": "2022-06-01T05:19:39.187Z"
   },
   {
    "duration": 4,
    "start_time": "2022-06-01T05:21:26.304Z"
   },
   {
    "duration": 4,
    "start_time": "2022-06-01T05:22:19.300Z"
   },
   {
    "duration": 64,
    "start_time": "2022-06-01T05:24:15.313Z"
   },
   {
    "duration": 5,
    "start_time": "2022-06-01T05:24:37.399Z"
   },
   {
    "duration": 4,
    "start_time": "2022-06-01T05:24:44.372Z"
   },
   {
    "duration": 127,
    "start_time": "2022-06-01T05:25:01.448Z"
   },
   {
    "duration": 4,
    "start_time": "2022-06-01T05:25:08.657Z"
   },
   {
    "duration": 4,
    "start_time": "2022-06-01T05:25:44.041Z"
   },
   {
    "duration": 4,
    "start_time": "2022-06-01T05:27:20.279Z"
   },
   {
    "duration": 4,
    "start_time": "2022-06-01T05:27:24.075Z"
   },
   {
    "duration": 544,
    "start_time": "2022-06-01T05:30:50.091Z"
   },
   {
    "duration": 12,
    "start_time": "2022-06-01T05:31:06.458Z"
   },
   {
    "duration": 6,
    "start_time": "2022-06-01T05:31:23.284Z"
   },
   {
    "duration": 4,
    "start_time": "2022-06-01T05:31:42.521Z"
   },
   {
    "duration": 5,
    "start_time": "2022-06-01T05:34:44.860Z"
   },
   {
    "duration": 4,
    "start_time": "2022-06-01T05:34:53.258Z"
   },
   {
    "duration": 10,
    "start_time": "2022-06-01T05:35:47.097Z"
   },
   {
    "duration": 4,
    "start_time": "2022-06-01T05:35:50.013Z"
   },
   {
    "duration": 6,
    "start_time": "2022-06-01T05:35:50.548Z"
   },
   {
    "duration": 37,
    "start_time": "2022-06-01T05:35:59.719Z"
   },
   {
    "duration": 6,
    "start_time": "2022-06-01T05:36:00.374Z"
   },
   {
    "duration": 4,
    "start_time": "2022-06-01T05:36:00.974Z"
   },
   {
    "duration": 5,
    "start_time": "2022-06-01T05:36:01.247Z"
   },
   {
    "duration": 11,
    "start_time": "2022-06-01T05:36:01.762Z"
   },
   {
    "duration": 7,
    "start_time": "2022-06-01T05:36:02.310Z"
   },
   {
    "duration": 10,
    "start_time": "2022-06-01T05:36:02.507Z"
   },
   {
    "duration": 62,
    "start_time": "2022-06-01T05:36:04.147Z"
   },
   {
    "duration": 8,
    "start_time": "2022-06-01T05:36:04.385Z"
   },
   {
    "duration": 8,
    "start_time": "2022-06-01T05:36:04.608Z"
   },
   {
    "duration": 13,
    "start_time": "2022-06-01T05:36:04.843Z"
   },
   {
    "duration": 7,
    "start_time": "2022-06-01T05:36:05.077Z"
   },
   {
    "duration": 10,
    "start_time": "2022-06-01T05:36:05.345Z"
   },
   {
    "duration": 10,
    "start_time": "2022-06-01T05:36:05.557Z"
   },
   {
    "duration": 13,
    "start_time": "2022-06-01T05:36:05.786Z"
   },
   {
    "duration": 11,
    "start_time": "2022-06-01T05:36:06.044Z"
   },
   {
    "duration": 15,
    "start_time": "2022-06-01T05:36:06.289Z"
   },
   {
    "duration": 6,
    "start_time": "2022-06-01T05:36:06.784Z"
   },
   {
    "duration": 9,
    "start_time": "2022-06-01T05:36:07.020Z"
   },
   {
    "duration": 192,
    "start_time": "2022-06-01T05:36:07.270Z"
   },
   {
    "duration": 8,
    "start_time": "2022-06-01T05:36:07.511Z"
   },
   {
    "duration": 129,
    "start_time": "2022-06-01T05:36:07.769Z"
   },
   {
    "duration": 7,
    "start_time": "2022-06-01T05:36:07.984Z"
   },
   {
    "duration": 8,
    "start_time": "2022-06-01T05:36:08.221Z"
   },
   {
    "duration": 9,
    "start_time": "2022-06-01T05:36:08.454Z"
   },
   {
    "duration": 257,
    "start_time": "2022-06-01T05:36:08.969Z"
   },
   {
    "duration": 244,
    "start_time": "2022-06-01T05:36:10.346Z"
   },
   {
    "duration": 401,
    "start_time": "2022-06-01T05:36:11.710Z"
   },
   {
    "duration": 224,
    "start_time": "2022-06-01T05:36:12.951Z"
   },
   {
    "duration": 537,
    "start_time": "2022-06-01T05:36:14.145Z"
   },
   {
    "duration": 9,
    "start_time": "2022-06-01T05:36:15.365Z"
   },
   {
    "duration": 9,
    "start_time": "2022-06-01T05:36:15.644Z"
   },
   {
    "duration": 154,
    "start_time": "2022-06-01T05:36:15.943Z"
   },
   {
    "duration": 200,
    "start_time": "2022-06-01T05:36:17.159Z"
   },
   {
    "duration": 7,
    "start_time": "2022-06-01T05:36:17.812Z"
   },
   {
    "duration": 4,
    "start_time": "2022-06-01T05:36:18.964Z"
   },
   {
    "duration": 4,
    "start_time": "2022-06-01T05:36:19.306Z"
   },
   {
    "duration": 15,
    "start_time": "2022-06-01T05:36:19.910Z"
   },
   {
    "duration": 567,
    "start_time": "2022-06-01T05:36:20.238Z"
   },
   {
    "duration": 5,
    "start_time": "2022-06-01T05:36:20.807Z"
   },
   {
    "duration": 5,
    "start_time": "2022-06-01T05:36:22.111Z"
   },
   {
    "duration": 7,
    "start_time": "2022-06-01T05:36:22.715Z"
   },
   {
    "duration": 2077,
    "start_time": "2022-06-01T05:36:24.662Z"
   },
   {
    "duration": 5,
    "start_time": "2022-06-01T05:36:28.125Z"
   },
   {
    "duration": 5,
    "start_time": "2022-06-01T05:36:28.952Z"
   },
   {
    "duration": 3,
    "start_time": "2022-06-01T05:36:29.767Z"
   },
   {
    "duration": 4,
    "start_time": "2022-06-01T05:36:30.566Z"
   },
   {
    "duration": 12,
    "start_time": "2022-06-01T05:39:30.845Z"
   },
   {
    "duration": 98,
    "start_time": "2022-06-01T05:39:31.212Z"
   },
   {
    "duration": 46,
    "start_time": "2022-06-01T05:39:31.478Z"
   },
   {
    "duration": 145,
    "start_time": "2022-06-01T05:39:31.713Z"
   },
   {
    "duration": 31,
    "start_time": "2022-06-01T05:39:31.956Z"
   },
   {
    "duration": 10,
    "start_time": "2022-06-01T05:39:32.208Z"
   },
   {
    "duration": 8,
    "start_time": "2022-06-01T05:39:32.448Z"
   },
   {
    "duration": 13,
    "start_time": "2022-06-01T05:39:32.673Z"
   },
   {
    "duration": 170,
    "start_time": "2022-06-01T05:39:32.912Z"
   },
   {
    "duration": 7,
    "start_time": "2022-06-01T05:39:33.366Z"
   },
   {
    "duration": 26,
    "start_time": "2022-06-01T05:39:33.886Z"
   },
   {
    "duration": 5,
    "start_time": "2022-06-01T05:39:34.183Z"
   },
   {
    "duration": 9,
    "start_time": "2022-06-01T05:39:35.210Z"
   },
   {
    "duration": 7,
    "start_time": "2022-06-01T05:39:35.708Z"
   },
   {
    "duration": 5,
    "start_time": "2022-06-01T05:39:36.499Z"
   },
   {
    "duration": 6,
    "start_time": "2022-06-01T05:39:36.744Z"
   },
   {
    "duration": 4,
    "start_time": "2022-06-01T05:39:37.010Z"
   },
   {
    "duration": 8,
    "start_time": "2022-06-01T05:39:37.271Z"
   },
   {
    "duration": 5,
    "start_time": "2022-06-01T05:39:37.750Z"
   },
   {
    "duration": 4,
    "start_time": "2022-06-01T05:39:38.019Z"
   },
   {
    "duration": 6,
    "start_time": "2022-06-01T05:39:38.263Z"
   },
   {
    "duration": 4,
    "start_time": "2022-06-01T05:39:38.657Z"
   },
   {
    "duration": 5,
    "start_time": "2022-06-01T05:39:39.091Z"
   },
   {
    "duration": 1152,
    "start_time": "2022-06-01T05:42:05.821Z"
   },
   {
    "duration": 467,
    "start_time": "2022-06-01T05:42:21.584Z"
   },
   {
    "duration": 7,
    "start_time": "2022-06-01T05:43:30.446Z"
   },
   {
    "duration": 8,
    "start_time": "2022-06-01T05:44:05.174Z"
   },
   {
    "duration": 38,
    "start_time": "2022-06-01T05:45:33.565Z"
   },
   {
    "duration": 5,
    "start_time": "2022-06-01T05:47:19.158Z"
   },
   {
    "duration": 12,
    "start_time": "2022-06-01T05:53:59.522Z"
   },
   {
    "duration": 9,
    "start_time": "2022-06-01T05:54:29.214Z"
   },
   {
    "duration": 7,
    "start_time": "2022-06-01T06:44:53.276Z"
   },
   {
    "duration": 16,
    "start_time": "2022-06-01T06:46:36.181Z"
   },
   {
    "duration": 8,
    "start_time": "2022-06-01T06:46:50.653Z"
   },
   {
    "duration": 45,
    "start_time": "2022-06-01T06:49:21.518Z"
   },
   {
    "duration": 25,
    "start_time": "2022-06-01T06:49:34.550Z"
   },
   {
    "duration": 13,
    "start_time": "2022-06-01T06:49:46.578Z"
   },
   {
    "duration": 12,
    "start_time": "2022-06-01T06:51:00.300Z"
   },
   {
    "duration": 10,
    "start_time": "2022-06-01T06:52:01.546Z"
   },
   {
    "duration": 14,
    "start_time": "2022-06-01T06:52:26.053Z"
   },
   {
    "duration": 8,
    "start_time": "2022-06-01T06:52:29.193Z"
   },
   {
    "duration": 22,
    "start_time": "2022-06-01T06:57:35.155Z"
   },
   {
    "duration": 7,
    "start_time": "2022-06-01T06:59:07.617Z"
   },
   {
    "duration": 12,
    "start_time": "2022-06-01T06:59:13.446Z"
   },
   {
    "duration": 16,
    "start_time": "2022-06-01T07:00:34.226Z"
   },
   {
    "duration": 211,
    "start_time": "2022-06-01T07:10:09.597Z"
   },
   {
    "duration": 7,
    "start_time": "2022-06-01T07:11:42.092Z"
   },
   {
    "duration": 12,
    "start_time": "2022-06-01T07:11:49.581Z"
   },
   {
    "duration": 368,
    "start_time": "2022-06-01T07:17:48.555Z"
   },
   {
    "duration": 224,
    "start_time": "2022-06-01T07:18:14.519Z"
   },
   {
    "duration": 225,
    "start_time": "2022-06-01T07:19:05.670Z"
   },
   {
    "duration": 231,
    "start_time": "2022-06-01T07:19:12.949Z"
   },
   {
    "duration": 216,
    "start_time": "2022-06-01T07:20:32.744Z"
   },
   {
    "duration": 200,
    "start_time": "2022-06-01T07:21:46.613Z"
   },
   {
    "duration": 217,
    "start_time": "2022-06-01T07:22:06.990Z"
   },
   {
    "duration": 213,
    "start_time": "2022-06-01T07:22:14.090Z"
   },
   {
    "duration": 216,
    "start_time": "2022-06-01T07:22:25.325Z"
   },
   {
    "duration": 148,
    "start_time": "2022-06-01T07:22:54.104Z"
   },
   {
    "duration": 197,
    "start_time": "2022-06-01T07:23:21.921Z"
   },
   {
    "duration": 312,
    "start_time": "2022-06-01T07:23:25.916Z"
   },
   {
    "duration": 189,
    "start_time": "2022-06-01T07:26:49.321Z"
   },
   {
    "duration": 229,
    "start_time": "2022-06-01T07:26:57.121Z"
   },
   {
    "duration": 243,
    "start_time": "2022-06-01T07:27:18.247Z"
   },
   {
    "duration": 232,
    "start_time": "2022-06-01T07:27:36.745Z"
   },
   {
    "duration": 24,
    "start_time": "2022-06-01T07:29:22.723Z"
   },
   {
    "duration": 216,
    "start_time": "2022-06-01T07:29:38.711Z"
   },
   {
    "duration": 225,
    "start_time": "2022-06-01T07:30:11.376Z"
   },
   {
    "duration": 237,
    "start_time": "2022-06-01T07:30:26.408Z"
   },
   {
    "duration": 212,
    "start_time": "2022-06-01T07:30:35.552Z"
   },
   {
    "duration": 227,
    "start_time": "2022-06-01T07:35:17.004Z"
   },
   {
    "duration": 249,
    "start_time": "2022-06-01T07:36:29.296Z"
   },
   {
    "duration": 227,
    "start_time": "2022-06-01T07:36:55.460Z"
   },
   {
    "duration": 346,
    "start_time": "2022-06-01T08:02:57.414Z"
   },
   {
    "duration": 244,
    "start_time": "2022-06-01T08:03:17.748Z"
   },
   {
    "duration": 245,
    "start_time": "2022-06-01T08:04:44.468Z"
   },
   {
    "duration": 240,
    "start_time": "2022-06-01T08:04:57.265Z"
   },
   {
    "duration": 99,
    "start_time": "2022-06-01T08:05:01.171Z"
   },
   {
    "duration": 235,
    "start_time": "2022-06-01T08:05:42.283Z"
   },
   {
    "duration": 88,
    "start_time": "2022-06-01T08:06:04.878Z"
   },
   {
    "duration": 243,
    "start_time": "2022-06-01T08:06:07.766Z"
   },
   {
    "duration": 250,
    "start_time": "2022-06-01T08:06:46.556Z"
   },
   {
    "duration": 241,
    "start_time": "2022-06-01T08:07:32.967Z"
   },
   {
    "duration": 9,
    "start_time": "2022-06-01T08:08:19.351Z"
   },
   {
    "duration": 234,
    "start_time": "2022-06-01T08:17:36.143Z"
   },
   {
    "duration": 279,
    "start_time": "2022-06-01T08:19:03.905Z"
   },
   {
    "duration": 189,
    "start_time": "2022-06-01T08:19:09.955Z"
   },
   {
    "duration": 161,
    "start_time": "2022-06-01T08:19:14.949Z"
   },
   {
    "duration": 172,
    "start_time": "2022-06-01T08:19:23.830Z"
   },
   {
    "duration": 163,
    "start_time": "2022-06-01T08:19:32.550Z"
   },
   {
    "duration": 161,
    "start_time": "2022-06-01T08:19:39.354Z"
   },
   {
    "duration": 156,
    "start_time": "2022-06-01T08:19:58.852Z"
   },
   {
    "duration": 10,
    "start_time": "2022-06-01T08:21:44.946Z"
   },
   {
    "duration": 17,
    "start_time": "2022-06-01T08:22:44.971Z"
   },
   {
    "duration": 22,
    "start_time": "2022-06-01T08:25:10.052Z"
   },
   {
    "duration": 369,
    "start_time": "2022-06-01T08:25:13.348Z"
   },
   {
    "duration": 15,
    "start_time": "2022-06-01T08:25:38.895Z"
   },
   {
    "duration": 384,
    "start_time": "2022-06-01T08:25:40.071Z"
   },
   {
    "duration": 16,
    "start_time": "2022-06-01T08:25:48.906Z"
   },
   {
    "duration": 398,
    "start_time": "2022-06-01T08:25:49.604Z"
   },
   {
    "duration": 25,
    "start_time": "2022-06-01T08:26:10.364Z"
   },
   {
    "duration": 19,
    "start_time": "2022-06-01T08:26:17.454Z"
   },
   {
    "duration": 15,
    "start_time": "2022-06-01T08:27:13.703Z"
   },
   {
    "duration": 17,
    "start_time": "2022-06-01T08:27:14.135Z"
   },
   {
    "duration": 3,
    "start_time": "2022-06-01T08:27:25.050Z"
   },
   {
    "duration": 15,
    "start_time": "2022-06-01T08:27:34.878Z"
   },
   {
    "duration": 20,
    "start_time": "2022-06-01T08:27:45.164Z"
   },
   {
    "duration": 10,
    "start_time": "2022-06-01T08:27:58.114Z"
   },
   {
    "duration": 5,
    "start_time": "2022-06-01T08:28:00.750Z"
   },
   {
    "duration": 191,
    "start_time": "2022-06-01T08:28:33.753Z"
   },
   {
    "duration": 298,
    "start_time": "2022-06-01T08:28:49.651Z"
   },
   {
    "duration": 15,
    "start_time": "2022-06-01T08:32:29.219Z"
   },
   {
    "duration": 10,
    "start_time": "2022-06-01T08:32:33.559Z"
   },
   {
    "duration": 6,
    "start_time": "2022-06-01T08:34:54.392Z"
   },
   {
    "duration": 8,
    "start_time": "2022-06-01T08:34:58.096Z"
   },
   {
    "duration": 16,
    "start_time": "2022-06-01T08:38:05.852Z"
   },
   {
    "duration": 8,
    "start_time": "2022-06-01T08:38:21.463Z"
   },
   {
    "duration": 7,
    "start_time": "2022-06-01T08:38:29.568Z"
   },
   {
    "duration": 194,
    "start_time": "2022-06-01T08:39:05.295Z"
   },
   {
    "duration": 223,
    "start_time": "2022-06-01T08:39:40.870Z"
   },
   {
    "duration": 221,
    "start_time": "2022-06-01T08:40:29.482Z"
   },
   {
    "duration": 192,
    "start_time": "2022-06-01T08:40:39.273Z"
   },
   {
    "duration": 8,
    "start_time": "2022-06-01T08:41:16.454Z"
   },
   {
    "duration": 11,
    "start_time": "2022-06-01T08:41:17.389Z"
   },
   {
    "duration": 7,
    "start_time": "2022-06-01T08:41:18.503Z"
   },
   {
    "duration": 7,
    "start_time": "2022-06-01T08:41:19.385Z"
   },
   {
    "duration": 176,
    "start_time": "2022-06-01T08:41:21.025Z"
   },
   {
    "duration": 18,
    "start_time": "2022-06-01T08:43:27.372Z"
   },
   {
    "duration": 788,
    "start_time": "2022-06-01T08:43:38.679Z"
   },
   {
    "duration": 16,
    "start_time": "2022-06-01T08:43:57.800Z"
   },
   {
    "duration": 145,
    "start_time": "2022-06-01T08:47:40.400Z"
   },
   {
    "duration": 166,
    "start_time": "2022-06-01T08:48:54.158Z"
   },
   {
    "duration": 157,
    "start_time": "2022-06-01T08:49:00.445Z"
   },
   {
    "duration": 158,
    "start_time": "2022-06-01T08:49:05.348Z"
   },
   {
    "duration": 8,
    "start_time": "2022-06-01T08:49:36.282Z"
   },
   {
    "duration": 10,
    "start_time": "2022-06-01T08:49:37.828Z"
   },
   {
    "duration": 7,
    "start_time": "2022-06-01T08:49:40.908Z"
   },
   {
    "duration": 7,
    "start_time": "2022-06-01T08:49:41.680Z"
   },
   {
    "duration": 14,
    "start_time": "2022-06-01T08:49:42.670Z"
   },
   {
    "duration": 172,
    "start_time": "2022-06-01T08:49:44.397Z"
   },
   {
    "duration": 8,
    "start_time": "2022-06-01T09:37:19.873Z"
   },
   {
    "duration": 237,
    "start_time": "2022-06-01T09:42:02.625Z"
   },
   {
    "duration": 8,
    "start_time": "2022-06-01T09:42:30.836Z"
   },
   {
    "duration": 12,
    "start_time": "2022-06-01T09:42:32.493Z"
   },
   {
    "duration": 42,
    "start_time": "2022-06-01T09:44:04.518Z"
   },
   {
    "duration": 367,
    "start_time": "2022-06-01T09:44:07.603Z"
   },
   {
    "duration": 258,
    "start_time": "2022-06-01T09:44:23.166Z"
   },
   {
    "duration": 336,
    "start_time": "2022-06-01T09:47:12.524Z"
   },
   {
    "duration": 351,
    "start_time": "2022-06-01T09:47:41.303Z"
   },
   {
    "duration": 292,
    "start_time": "2022-06-01T09:48:25.864Z"
   },
   {
    "duration": 312,
    "start_time": "2022-06-01T09:48:46.647Z"
   },
   {
    "duration": 307,
    "start_time": "2022-06-01T09:49:22.583Z"
   },
   {
    "duration": 323,
    "start_time": "2022-06-01T09:52:20.212Z"
   },
   {
    "duration": 264,
    "start_time": "2022-06-01T09:53:30.873Z"
   },
   {
    "duration": 281,
    "start_time": "2022-06-01T09:55:31.165Z"
   },
   {
    "duration": 328,
    "start_time": "2022-06-01T09:56:19.696Z"
   },
   {
    "duration": 307,
    "start_time": "2022-06-01T09:57:16.937Z"
   },
   {
    "duration": 325,
    "start_time": "2022-06-01T09:58:51.915Z"
   },
   {
    "duration": 455,
    "start_time": "2022-06-01T09:59:18.007Z"
   },
   {
    "duration": 303,
    "start_time": "2022-06-01T10:04:23.158Z"
   },
   {
    "duration": 332,
    "start_time": "2022-06-01T10:06:21.322Z"
   },
   {
    "duration": 352,
    "start_time": "2022-06-01T10:06:39.764Z"
   },
   {
    "duration": 3,
    "start_time": "2022-06-01T10:10:08.070Z"
   },
   {
    "duration": 27,
    "start_time": "2022-06-01T10:10:08.630Z"
   },
   {
    "duration": 9,
    "start_time": "2022-06-01T10:10:10.543Z"
   },
   {
    "duration": 3,
    "start_time": "2022-06-01T10:10:11.359Z"
   },
   {
    "duration": 3,
    "start_time": "2022-06-01T10:10:11.773Z"
   },
   {
    "duration": 9,
    "start_time": "2022-06-01T10:10:12.982Z"
   },
   {
    "duration": 5,
    "start_time": "2022-06-01T10:10:13.636Z"
   },
   {
    "duration": 9,
    "start_time": "2022-06-01T10:10:19.202Z"
   },
   {
    "duration": 62,
    "start_time": "2022-06-01T10:10:24.854Z"
   },
   {
    "duration": 9,
    "start_time": "2022-06-01T10:10:26.749Z"
   },
   {
    "duration": 8,
    "start_time": "2022-06-01T10:13:01.058Z"
   },
   {
    "duration": 7,
    "start_time": "2022-06-01T10:14:26.051Z"
   },
   {
    "duration": 5,
    "start_time": "2022-06-01T10:14:26.588Z"
   },
   {
    "duration": 10,
    "start_time": "2022-06-01T10:14:26.903Z"
   },
   {
    "duration": 11,
    "start_time": "2022-06-01T10:14:27.255Z"
   },
   {
    "duration": 12,
    "start_time": "2022-06-01T10:14:27.777Z"
   },
   {
    "duration": 10,
    "start_time": "2022-06-01T10:14:27.959Z"
   },
   {
    "duration": 10,
    "start_time": "2022-06-01T10:14:28.220Z"
   },
   {
    "duration": 5,
    "start_time": "2022-06-01T10:14:28.941Z"
   },
   {
    "duration": 8,
    "start_time": "2022-06-01T10:14:29.167Z"
   },
   {
    "duration": 152,
    "start_time": "2022-06-01T10:14:29.462Z"
   },
   {
    "duration": 8,
    "start_time": "2022-06-01T10:14:29.731Z"
   },
   {
    "duration": 113,
    "start_time": "2022-06-01T10:14:29.967Z"
   },
   {
    "duration": 7,
    "start_time": "2022-06-01T10:14:30.296Z"
   },
   {
    "duration": 6,
    "start_time": "2022-06-01T10:14:30.582Z"
   },
   {
    "duration": 9,
    "start_time": "2022-06-01T10:14:30.833Z"
   },
   {
    "duration": 232,
    "start_time": "2022-06-01T10:14:31.355Z"
   },
   {
    "duration": 210,
    "start_time": "2022-06-01T10:14:32.629Z"
   },
   {
    "duration": 326,
    "start_time": "2022-06-01T10:14:33.829Z"
   },
   {
    "duration": 183,
    "start_time": "2022-06-01T10:14:35.119Z"
   },
   {
    "duration": 329,
    "start_time": "2022-06-01T10:14:36.286Z"
   },
   {
    "duration": 6,
    "start_time": "2022-06-01T10:14:37.501Z"
   },
   {
    "duration": 7,
    "start_time": "2022-06-01T10:14:37.786Z"
   },
   {
    "duration": 132,
    "start_time": "2022-06-01T10:14:38.162Z"
   },
   {
    "duration": 157,
    "start_time": "2022-06-01T10:14:39.498Z"
   },
   {
    "duration": 5,
    "start_time": "2022-06-01T10:14:40.457Z"
   },
   {
    "duration": 4,
    "start_time": "2022-06-01T10:14:41.459Z"
   },
   {
    "duration": 3,
    "start_time": "2022-06-01T10:14:41.747Z"
   },
   {
    "duration": 9,
    "start_time": "2022-06-01T10:14:42.318Z"
   },
   {
    "duration": 628,
    "start_time": "2022-06-01T10:14:42.613Z"
   },
   {
    "duration": 4,
    "start_time": "2022-06-01T10:14:43.244Z"
   },
   {
    "duration": 5,
    "start_time": "2022-06-01T10:14:44.131Z"
   },
   {
    "duration": 5,
    "start_time": "2022-06-01T10:14:44.756Z"
   },
   {
    "duration": 1908,
    "start_time": "2022-06-01T10:14:45.301Z"
   },
   {
    "duration": 4,
    "start_time": "2022-06-01T10:14:47.212Z"
   },
   {
    "duration": 4,
    "start_time": "2022-06-01T10:14:47.227Z"
   },
   {
    "duration": 9,
    "start_time": "2022-06-01T10:14:47.233Z"
   },
   {
    "duration": 17,
    "start_time": "2022-06-01T10:14:47.243Z"
   },
   {
    "duration": 10,
    "start_time": "2022-06-01T10:14:48.191Z"
   },
   {
    "duration": 88,
    "start_time": "2022-06-01T10:14:48.554Z"
   },
   {
    "duration": 25,
    "start_time": "2022-06-01T10:14:48.864Z"
   },
   {
    "duration": 94,
    "start_time": "2022-06-01T10:14:49.166Z"
   },
   {
    "duration": 20,
    "start_time": "2022-06-01T10:14:49.437Z"
   },
   {
    "duration": 10,
    "start_time": "2022-06-01T10:14:49.728Z"
   },
   {
    "duration": 10,
    "start_time": "2022-06-01T10:14:50.020Z"
   },
   {
    "duration": 12,
    "start_time": "2022-06-01T10:14:50.321Z"
   },
   {
    "duration": 143,
    "start_time": "2022-06-01T10:14:50.625Z"
   },
   {
    "duration": 6,
    "start_time": "2022-06-01T10:14:51.265Z"
   },
   {
    "duration": 25,
    "start_time": "2022-06-01T10:14:51.794Z"
   },
   {
    "duration": 4,
    "start_time": "2022-06-01T10:14:52.127Z"
   },
   {
    "duration": 7,
    "start_time": "2022-06-01T10:14:53.343Z"
   },
   {
    "duration": 7,
    "start_time": "2022-06-01T10:14:54.062Z"
   },
   {
    "duration": 3,
    "start_time": "2022-06-01T10:14:54.932Z"
   },
   {
    "duration": 4,
    "start_time": "2022-06-01T10:14:55.214Z"
   },
   {
    "duration": 3,
    "start_time": "2022-06-01T10:14:55.503Z"
   },
   {
    "duration": 6,
    "start_time": "2022-06-01T10:14:55.784Z"
   },
   {
    "duration": 4,
    "start_time": "2022-06-01T10:14:56.095Z"
   },
   {
    "duration": 5,
    "start_time": "2022-06-01T10:14:56.359Z"
   },
   {
    "duration": 5,
    "start_time": "2022-06-01T10:14:56.647Z"
   },
   {
    "duration": 5,
    "start_time": "2022-06-01T10:14:56.909Z"
   },
   {
    "duration": 5,
    "start_time": "2022-06-01T10:14:57.218Z"
   },
   {
    "duration": 6,
    "start_time": "2022-06-01T10:14:57.803Z"
   },
   {
    "duration": 6,
    "start_time": "2022-06-01T10:14:58.064Z"
   },
   {
    "duration": 25,
    "start_time": "2022-06-01T10:14:58.347Z"
   },
   {
    "duration": 4,
    "start_time": "2022-06-01T10:14:58.637Z"
   },
   {
    "duration": 10,
    "start_time": "2022-06-01T10:14:59.788Z"
   },
   {
    "duration": 9,
    "start_time": "2022-06-01T10:15:00.455Z"
   },
   {
    "duration": 5,
    "start_time": "2022-06-01T10:15:02.315Z"
   },
   {
    "duration": 124,
    "start_time": "2022-06-01T10:15:02.681Z"
   },
   {
    "duration": 7,
    "start_time": "2022-06-01T10:15:03.354Z"
   },
   {
    "duration": 13,
    "start_time": "2022-06-01T10:15:03.718Z"
   },
   {
    "duration": 246,
    "start_time": "2022-06-01T10:15:04.123Z"
   },
   {
    "duration": 337,
    "start_time": "2022-06-01T10:15:04.730Z"
   },
   {
    "duration": 237,
    "start_time": "2022-06-01T10:15:05.447Z"
   },
   {
    "duration": 368,
    "start_time": "2022-06-01T10:15:08.721Z"
   },
   {
    "duration": 1128,
    "start_time": "2022-06-01T12:28:45.178Z"
   },
   {
    "duration": 57,
    "start_time": "2022-06-01T12:28:46.308Z"
   },
   {
    "duration": 45,
    "start_time": "2022-06-01T12:28:46.366Z"
   },
   {
    "duration": 3,
    "start_time": "2022-06-01T12:28:46.413Z"
   },
   {
    "duration": 7,
    "start_time": "2022-06-01T12:28:46.417Z"
   },
   {
    "duration": 10,
    "start_time": "2022-06-01T12:28:46.425Z"
   },
   {
    "duration": 4,
    "start_time": "2022-06-01T12:28:46.436Z"
   },
   {
    "duration": 10,
    "start_time": "2022-06-01T12:28:46.441Z"
   },
   {
    "duration": 132,
    "start_time": "2022-06-01T12:28:46.453Z"
   },
   {
    "duration": 10,
    "start_time": "2022-06-01T12:28:46.588Z"
   },
   {
    "duration": 6,
    "start_time": "2022-06-01T12:28:46.599Z"
   },
   {
    "duration": 6,
    "start_time": "2022-06-01T12:28:46.607Z"
   },
   {
    "duration": 5,
    "start_time": "2022-06-01T12:28:46.615Z"
   },
   {
    "duration": 10,
    "start_time": "2022-06-01T12:28:46.621Z"
   },
   {
    "duration": 11,
    "start_time": "2022-06-01T12:28:46.633Z"
   },
   {
    "duration": 42,
    "start_time": "2022-06-01T12:28:46.645Z"
   },
   {
    "duration": 11,
    "start_time": "2022-06-01T12:28:46.689Z"
   },
   {
    "duration": 12,
    "start_time": "2022-06-01T12:28:46.702Z"
   },
   {
    "duration": 6,
    "start_time": "2022-06-01T12:28:46.715Z"
   },
   {
    "duration": 7,
    "start_time": "2022-06-01T12:28:46.723Z"
   },
   {
    "duration": 182,
    "start_time": "2022-06-01T12:28:46.731Z"
   },
   {
    "duration": 7,
    "start_time": "2022-06-01T12:28:46.915Z"
   },
   {
    "duration": 132,
    "start_time": "2022-06-01T12:28:46.924Z"
   },
   {
    "duration": 8,
    "start_time": "2022-06-01T12:28:47.058Z"
   },
   {
    "duration": 17,
    "start_time": "2022-06-01T12:28:47.068Z"
   },
   {
    "duration": 11,
    "start_time": "2022-06-01T12:28:47.086Z"
   },
   {
    "duration": 411,
    "start_time": "2022-06-01T12:28:47.099Z"
   },
   {
    "duration": 242,
    "start_time": "2022-06-01T12:28:47.516Z"
   },
   {
    "duration": 353,
    "start_time": "2022-06-01T12:28:47.759Z"
   },
   {
    "duration": 210,
    "start_time": "2022-06-01T12:28:48.114Z"
   },
   {
    "duration": 306,
    "start_time": "2022-06-01T12:28:48.326Z"
   },
   {
    "duration": 7,
    "start_time": "2022-06-01T12:28:48.633Z"
   },
   {
    "duration": 9,
    "start_time": "2022-06-01T12:28:48.641Z"
   },
   {
    "duration": 166,
    "start_time": "2022-06-01T12:28:48.652Z"
   },
   {
    "duration": 170,
    "start_time": "2022-06-01T12:28:48.819Z"
   },
   {
    "duration": 5,
    "start_time": "2022-06-01T12:28:48.991Z"
   },
   {
    "duration": 5,
    "start_time": "2022-06-01T12:28:48.998Z"
   },
   {
    "duration": 8,
    "start_time": "2022-06-01T12:28:49.005Z"
   },
   {
    "duration": 11,
    "start_time": "2022-06-01T12:28:49.015Z"
   },
   {
    "duration": 727,
    "start_time": "2022-06-01T12:28:49.028Z"
   },
   {
    "duration": 6,
    "start_time": "2022-06-01T12:28:49.757Z"
   },
   {
    "duration": 10,
    "start_time": "2022-06-01T12:28:49.765Z"
   },
   {
    "duration": 10,
    "start_time": "2022-06-01T12:28:49.776Z"
   },
   {
    "duration": 2029,
    "start_time": "2022-06-01T12:28:49.787Z"
   },
   {
    "duration": 4,
    "start_time": "2022-06-01T12:28:51.818Z"
   },
   {
    "duration": 7,
    "start_time": "2022-06-01T12:28:51.824Z"
   },
   {
    "duration": 4,
    "start_time": "2022-06-01T12:28:51.833Z"
   },
   {
    "duration": 6,
    "start_time": "2022-06-01T12:28:51.839Z"
   },
   {
    "duration": 35,
    "start_time": "2022-06-01T12:28:51.846Z"
   },
   {
    "duration": 117,
    "start_time": "2022-06-01T12:28:51.882Z"
   },
   {
    "duration": 30,
    "start_time": "2022-06-01T12:28:52.001Z"
   },
   {
    "duration": 115,
    "start_time": "2022-06-01T12:28:52.033Z"
   },
   {
    "duration": 36,
    "start_time": "2022-06-01T12:28:52.150Z"
   },
   {
    "duration": 11,
    "start_time": "2022-06-01T12:28:52.187Z"
   },
   {
    "duration": 7,
    "start_time": "2022-06-01T12:28:52.200Z"
   },
   {
    "duration": 16,
    "start_time": "2022-06-01T12:28:52.209Z"
   },
   {
    "duration": 216,
    "start_time": "2022-06-01T12:28:52.227Z"
   },
   {
    "duration": 8,
    "start_time": "2022-06-01T12:28:52.445Z"
   },
   {
    "duration": 51,
    "start_time": "2022-06-01T12:28:52.455Z"
   },
   {
    "duration": 5,
    "start_time": "2022-06-01T12:28:52.507Z"
   },
   {
    "duration": 13,
    "start_time": "2022-06-01T12:28:52.514Z"
   },
   {
    "duration": 25,
    "start_time": "2022-06-01T12:28:52.529Z"
   },
   {
    "duration": 13,
    "start_time": "2022-06-01T12:28:52.556Z"
   },
   {
    "duration": 17,
    "start_time": "2022-06-01T12:28:52.580Z"
   },
   {
    "duration": 6,
    "start_time": "2022-06-01T12:28:52.599Z"
   },
   {
    "duration": 7,
    "start_time": "2022-06-01T12:28:52.606Z"
   },
   {
    "duration": 6,
    "start_time": "2022-06-01T12:28:52.614Z"
   },
   {
    "duration": 5,
    "start_time": "2022-06-01T12:28:52.622Z"
   },
   {
    "duration": 6,
    "start_time": "2022-06-01T12:28:52.629Z"
   },
   {
    "duration": 7,
    "start_time": "2022-06-01T12:28:52.636Z"
   },
   {
    "duration": 41,
    "start_time": "2022-06-01T12:28:52.645Z"
   },
   {
    "duration": 10,
    "start_time": "2022-06-01T12:28:52.688Z"
   },
   {
    "duration": 15,
    "start_time": "2022-06-01T12:28:52.700Z"
   },
   {
    "duration": 39,
    "start_time": "2022-06-01T12:28:52.718Z"
   },
   {
    "duration": 21,
    "start_time": "2022-06-01T12:28:52.759Z"
   },
   {
    "duration": 10,
    "start_time": "2022-06-01T12:28:52.782Z"
   },
   {
    "duration": 9,
    "start_time": "2022-06-01T12:28:52.793Z"
   },
   {
    "duration": 7,
    "start_time": "2022-06-01T12:28:52.803Z"
   },
   {
    "duration": 149,
    "start_time": "2022-06-01T12:28:52.812Z"
   },
   {
    "duration": 7,
    "start_time": "2022-06-01T12:28:52.963Z"
   },
   {
    "duration": 13,
    "start_time": "2022-06-01T12:28:52.980Z"
   },
   {
    "duration": 292,
    "start_time": "2022-06-01T12:28:52.998Z"
   },
   {
    "duration": 356,
    "start_time": "2022-06-01T12:28:53.291Z"
   },
   {
    "duration": 269,
    "start_time": "2022-06-01T12:28:53.649Z"
   },
   {
    "duration": 387,
    "start_time": "2022-06-01T12:28:53.920Z"
   },
   {
    "duration": 1534,
    "start_time": "2022-06-01T13:39:48.094Z"
   },
   {
    "duration": 56,
    "start_time": "2022-06-01T13:39:49.630Z"
   },
   {
    "duration": 41,
    "start_time": "2022-06-01T13:39:50.575Z"
   },
   {
    "duration": 4,
    "start_time": "2022-06-01T13:39:50.944Z"
   },
   {
    "duration": 5,
    "start_time": "2022-06-01T13:39:51.243Z"
   },
   {
    "duration": 10,
    "start_time": "2022-06-01T13:39:51.707Z"
   },
   {
    "duration": 4,
    "start_time": "2022-06-01T13:39:52.217Z"
   },
   {
    "duration": 8,
    "start_time": "2022-06-01T13:39:52.484Z"
   },
   {
    "duration": 135,
    "start_time": "2022-06-01T13:39:55.339Z"
   },
   {
    "duration": 9,
    "start_time": "2022-06-01T13:39:55.658Z"
   },
   {
    "duration": 7,
    "start_time": "2022-06-01T13:39:56.490Z"
   },
   {
    "duration": 6,
    "start_time": "2022-06-01T13:39:57.025Z"
   },
   {
    "duration": 5,
    "start_time": "2022-06-01T13:39:57.269Z"
   },
   {
    "duration": 10,
    "start_time": "2022-06-01T13:39:57.526Z"
   },
   {
    "duration": 8,
    "start_time": "2022-06-01T13:39:57.818Z"
   },
   {
    "duration": 12,
    "start_time": "2022-06-01T13:39:58.043Z"
   },
   {
    "duration": 9,
    "start_time": "2022-06-01T13:39:58.378Z"
   },
   {
    "duration": 10,
    "start_time": "2022-06-01T13:39:58.645Z"
   },
   {
    "duration": 6,
    "start_time": "2022-06-01T13:40:00.504Z"
   },
   {
    "duration": 7,
    "start_time": "2022-06-01T13:40:01.036Z"
   },
   {
    "duration": 159,
    "start_time": "2022-06-01T13:40:01.752Z"
   },
   {
    "duration": 8,
    "start_time": "2022-06-01T13:40:03.162Z"
   },
   {
    "duration": 118,
    "start_time": "2022-06-01T13:40:03.800Z"
   },
   {
    "duration": 8,
    "start_time": "2022-06-01T13:40:04.417Z"
   },
   {
    "duration": 6,
    "start_time": "2022-06-01T13:40:05.045Z"
   },
   {
    "duration": 8,
    "start_time": "2022-06-01T13:40:05.519Z"
   },
   {
    "duration": 469,
    "start_time": "2022-06-01T13:41:28.667Z"
   },
   {
    "duration": 204,
    "start_time": "2022-06-01T13:41:57.047Z"
   },
   {
    "duration": 199,
    "start_time": "2022-06-01T13:44:19.313Z"
   },
   {
    "duration": 198,
    "start_time": "2022-06-01T13:44:27.365Z"
   },
   {
    "duration": 230,
    "start_time": "2022-06-01T13:49:45.116Z"
   },
   {
    "duration": 392,
    "start_time": "2022-06-01T13:51:27.350Z"
   },
   {
    "duration": 198,
    "start_time": "2022-06-01T13:54:50.206Z"
   },
   {
    "duration": 204,
    "start_time": "2022-06-01T13:56:05.687Z"
   },
   {
    "duration": 202,
    "start_time": "2022-06-01T13:56:59.277Z"
   },
   {
    "duration": 206,
    "start_time": "2022-06-01T13:57:12.491Z"
   },
   {
    "duration": 327,
    "start_time": "2022-06-01T13:57:54.476Z"
   },
   {
    "duration": 373,
    "start_time": "2022-06-01T13:58:06.232Z"
   },
   {
    "duration": 313,
    "start_time": "2022-06-01T13:59:00.062Z"
   },
   {
    "duration": 187,
    "start_time": "2022-06-01T14:00:24.601Z"
   },
   {
    "duration": 173,
    "start_time": "2022-06-01T14:05:47.059Z"
   },
   {
    "duration": 301,
    "start_time": "2022-06-01T14:07:28.394Z"
   },
   {
    "duration": 6,
    "start_time": "2022-06-01T14:07:37.536Z"
   },
   {
    "duration": 7,
    "start_time": "2022-06-01T14:07:37.918Z"
   },
   {
    "duration": 136,
    "start_time": "2022-06-01T14:10:03.794Z"
   },
   {
    "duration": 203,
    "start_time": "2022-06-01T14:11:27.271Z"
   },
   {
    "duration": 3,
    "start_time": "2022-06-01T15:12:17.841Z"
   },
   {
    "duration": 25,
    "start_time": "2022-06-01T15:12:18.769Z"
   },
   {
    "duration": 7,
    "start_time": "2022-06-01T15:12:19.205Z"
   },
   {
    "duration": 3,
    "start_time": "2022-06-01T15:12:19.677Z"
   },
   {
    "duration": 5,
    "start_time": "2022-06-01T15:12:19.969Z"
   },
   {
    "duration": 9,
    "start_time": "2022-06-01T15:12:20.538Z"
   },
   {
    "duration": 4,
    "start_time": "2022-06-01T15:12:21.064Z"
   },
   {
    "duration": 8,
    "start_time": "2022-06-01T15:12:21.273Z"
   },
   {
    "duration": 2,
    "start_time": "2022-06-01T15:13:13.522Z"
   },
   {
    "duration": 25,
    "start_time": "2022-06-01T15:13:13.957Z"
   },
   {
    "duration": 6,
    "start_time": "2022-06-01T15:13:14.174Z"
   },
   {
    "duration": 3,
    "start_time": "2022-06-01T15:13:14.409Z"
   },
   {
    "duration": 4,
    "start_time": "2022-06-01T15:13:14.623Z"
   },
   {
    "duration": 9,
    "start_time": "2022-06-01T15:13:15.088Z"
   },
   {
    "duration": 4,
    "start_time": "2022-06-01T15:13:15.537Z"
   },
   {
    "duration": 8,
    "start_time": "2022-06-01T15:13:15.765Z"
   },
   {
    "duration": 58,
    "start_time": "2022-06-01T15:13:18.448Z"
   },
   {
    "duration": 7,
    "start_time": "2022-06-01T15:13:18.790Z"
   },
   {
    "duration": 7,
    "start_time": "2022-06-01T15:13:19.460Z"
   },
   {
    "duration": 6,
    "start_time": "2022-06-01T15:13:20.222Z"
   },
   {
    "duration": 5,
    "start_time": "2022-06-01T15:13:20.606Z"
   },
   {
    "duration": 9,
    "start_time": "2022-06-01T15:13:21.091Z"
   },
   {
    "duration": 9,
    "start_time": "2022-06-01T15:13:21.552Z"
   },
   {
    "duration": 11,
    "start_time": "2022-06-01T15:13:21.923Z"
   },
   {
    "duration": 10,
    "start_time": "2022-06-01T15:13:22.291Z"
   },
   {
    "duration": 11,
    "start_time": "2022-06-01T15:13:22.623Z"
   },
   {
    "duration": 6,
    "start_time": "2022-06-01T15:13:24.992Z"
   },
   {
    "duration": 6,
    "start_time": "2022-06-01T15:13:32.749Z"
   },
   {
    "duration": 151,
    "start_time": "2022-06-01T15:13:33.204Z"
   },
   {
    "duration": 8,
    "start_time": "2022-06-01T15:13:33.955Z"
   },
   {
    "duration": 111,
    "start_time": "2022-06-01T15:13:34.234Z"
   },
   {
    "duration": 7,
    "start_time": "2022-06-01T15:13:34.540Z"
   },
   {
    "duration": 7,
    "start_time": "2022-06-01T15:13:34.855Z"
   },
   {
    "duration": 8,
    "start_time": "2022-06-01T15:13:35.141Z"
   },
   {
    "duration": 200,
    "start_time": "2022-06-01T15:13:35.711Z"
   },
   {
    "duration": 203,
    "start_time": "2022-06-01T15:14:33.221Z"
   },
   {
    "duration": 271,
    "start_time": "2022-06-01T15:15:06.937Z"
   },
   {
    "duration": 303,
    "start_time": "2022-06-01T15:15:22.209Z"
   },
   {
    "duration": 209,
    "start_time": "2022-06-01T15:15:41.113Z"
   },
   {
    "duration": 463,
    "start_time": "2022-06-01T15:16:10.693Z"
   },
   {
    "duration": 6,
    "start_time": "2022-06-01T15:16:14.396Z"
   },
   {
    "duration": 7,
    "start_time": "2022-06-01T15:16:14.730Z"
   },
   {
    "duration": 136,
    "start_time": "2022-06-01T15:16:32.733Z"
   },
   {
    "duration": 142,
    "start_time": "2022-06-01T15:16:37.908Z"
   },
   {
    "duration": 133,
    "start_time": "2022-06-01T15:17:28.583Z"
   },
   {
    "duration": 5,
    "start_time": "2022-06-01T15:17:31.415Z"
   },
   {
    "duration": 3,
    "start_time": "2022-06-01T15:17:37.262Z"
   },
   {
    "duration": 3,
    "start_time": "2022-06-01T15:17:37.506Z"
   },
   {
    "duration": 9,
    "start_time": "2022-06-01T15:17:38.113Z"
   },
   {
    "duration": 635,
    "start_time": "2022-06-01T15:18:20.812Z"
   },
   {
    "duration": 4,
    "start_time": "2022-06-01T15:18:26.497Z"
   },
   {
    "duration": 5,
    "start_time": "2022-06-01T15:18:27.594Z"
   },
   {
    "duration": 4,
    "start_time": "2022-06-01T15:18:28.865Z"
   },
   {
    "duration": 1870,
    "start_time": "2022-06-01T15:19:04.287Z"
   },
   {
    "duration": 4,
    "start_time": "2022-06-01T15:19:12.905Z"
   },
   {
    "duration": 5,
    "start_time": "2022-06-01T15:19:15.891Z"
   },
   {
    "duration": 3,
    "start_time": "2022-06-01T15:19:16.988Z"
   },
   {
    "duration": 4,
    "start_time": "2022-06-01T15:19:17.438Z"
   },
   {
    "duration": 25,
    "start_time": "2022-06-01T15:31:28.187Z"
   },
   {
    "duration": 212,
    "start_time": "2022-06-01T15:32:03.868Z"
   },
   {
    "duration": 347,
    "start_time": "2022-06-01T15:32:13.692Z"
   },
   {
    "duration": 172,
    "start_time": "2022-06-01T15:32:15.810Z"
   },
   {
    "duration": 291,
    "start_time": "2022-06-01T15:32:18.611Z"
   },
   {
    "duration": 6,
    "start_time": "2022-06-01T15:32:23.904Z"
   },
   {
    "duration": 9,
    "start_time": "2022-06-01T15:32:24.499Z"
   },
   {
    "duration": 147,
    "start_time": "2022-06-01T15:32:25.405Z"
   },
   {
    "duration": 139,
    "start_time": "2022-06-01T15:32:28.283Z"
   },
   {
    "duration": 4,
    "start_time": "2022-06-01T15:32:31.016Z"
   },
   {
    "duration": 3,
    "start_time": "2022-06-01T15:32:35.559Z"
   },
   {
    "duration": 3,
    "start_time": "2022-06-01T15:32:35.811Z"
   },
   {
    "duration": 9,
    "start_time": "2022-06-01T15:32:36.786Z"
   },
   {
    "duration": 503,
    "start_time": "2022-06-01T15:32:37.557Z"
   },
   {
    "duration": 4,
    "start_time": "2022-06-01T15:32:39.600Z"
   },
   {
    "duration": 4,
    "start_time": "2022-06-01T15:32:41.348Z"
   },
   {
    "duration": 4,
    "start_time": "2022-06-01T15:32:42.381Z"
   },
   {
    "duration": 1770,
    "start_time": "2022-06-01T15:32:43.908Z"
   },
   {
    "duration": 5,
    "start_time": "2022-06-01T15:32:45.902Z"
   },
   {
    "duration": 5,
    "start_time": "2022-06-01T15:32:46.679Z"
   },
   {
    "duration": 3,
    "start_time": "2022-06-01T15:32:47.636Z"
   },
   {
    "duration": 4,
    "start_time": "2022-06-01T15:32:48.015Z"
   },
   {
    "duration": 10,
    "start_time": "2022-06-01T15:33:20.824Z"
   },
   {
    "duration": 94,
    "start_time": "2022-06-01T15:33:21.183Z"
   },
   {
    "duration": 25,
    "start_time": "2022-06-01T15:33:21.565Z"
   },
   {
    "duration": 96,
    "start_time": "2022-06-01T15:33:21.950Z"
   },
   {
    "duration": 18,
    "start_time": "2022-06-01T15:33:22.560Z"
   },
   {
    "duration": 10,
    "start_time": "2022-06-01T15:33:23.317Z"
   },
   {
    "duration": 6,
    "start_time": "2022-06-01T15:33:25.722Z"
   },
   {
    "duration": 12,
    "start_time": "2022-06-01T15:33:26.935Z"
   },
   {
    "duration": 145,
    "start_time": "2022-06-01T15:33:29.970Z"
   },
   {
    "duration": 6,
    "start_time": "2022-06-01T15:33:32.375Z"
   },
   {
    "duration": 23,
    "start_time": "2022-06-01T15:33:32.900Z"
   },
   {
    "duration": 4,
    "start_time": "2022-06-01T15:33:39.533Z"
   },
   {
    "duration": 8,
    "start_time": "2022-06-01T15:33:57.306Z"
   },
   {
    "duration": 5,
    "start_time": "2022-06-01T15:33:57.843Z"
   },
   {
    "duration": 3,
    "start_time": "2022-06-01T15:34:01.057Z"
   },
   {
    "duration": 5,
    "start_time": "2022-06-01T15:34:01.236Z"
   },
   {
    "duration": 3,
    "start_time": "2022-06-01T15:34:01.419Z"
   },
   {
    "duration": 5,
    "start_time": "2022-06-01T15:34:01.595Z"
   },
   {
    "duration": 5,
    "start_time": "2022-06-01T15:34:02.097Z"
   },
   {
    "duration": 4,
    "start_time": "2022-06-01T15:34:02.317Z"
   },
   {
    "duration": 4,
    "start_time": "2022-06-01T15:34:02.515Z"
   },
   {
    "duration": 4,
    "start_time": "2022-06-01T15:34:02.741Z"
   },
   {
    "duration": 5,
    "start_time": "2022-06-01T15:34:03.488Z"
   },
   {
    "duration": 5,
    "start_time": "2022-06-01T15:34:07.997Z"
   },
   {
    "duration": 6,
    "start_time": "2022-06-01T15:34:08.300Z"
   },
   {
    "duration": 24,
    "start_time": "2022-06-01T15:34:08.865Z"
   },
   {
    "duration": 3,
    "start_time": "2022-06-01T15:34:09.108Z"
   },
   {
    "duration": 9,
    "start_time": "2022-06-01T15:34:12.720Z"
   },
   {
    "duration": 7,
    "start_time": "2022-06-01T15:34:13.986Z"
   },
   {
    "duration": 6,
    "start_time": "2022-06-01T15:34:16.498Z"
   },
   {
    "duration": 121,
    "start_time": "2022-06-01T15:34:17.007Z"
   },
   {
    "duration": 7,
    "start_time": "2022-06-01T15:34:17.506Z"
   },
   {
    "duration": 12,
    "start_time": "2022-06-01T15:34:17.839Z"
   },
   {
    "duration": 225,
    "start_time": "2022-06-01T15:34:47.278Z"
   },
   {
    "duration": 457,
    "start_time": "2022-06-01T15:35:27.450Z"
   },
   {
    "duration": 216,
    "start_time": "2022-06-01T15:35:29.399Z"
   },
   {
    "duration": 322,
    "start_time": "2022-06-01T15:36:09.161Z"
   },
   {
    "duration": 222,
    "start_time": "2022-06-01T15:36:42.607Z"
   },
   {
    "duration": 353,
    "start_time": "2022-06-01T15:37:19.516Z"
   }
  ],
  "kernelspec": {
   "display_name": "Python 3 (ipykernel)",
   "language": "python",
   "name": "python3"
  },
  "language_info": {
   "codemirror_mode": {
    "name": "ipython",
    "version": 3
   },
   "file_extension": ".py",
   "mimetype": "text/x-python",
   "name": "python",
   "nbconvert_exporter": "python",
   "pygments_lexer": "ipython3",
   "version": "3.8.12"
  },
  "toc": {
   "base_numbering": 1,
   "nav_menu": {},
   "number_sections": false,
   "sideBar": true,
   "skip_h1_title": false,
   "title_cell": "Table of Contents",
   "title_sidebar": "Contents",
   "toc_cell": true,
   "toc_position": {},
   "toc_section_display": true,
   "toc_window_display": true
  }
 },
 "nbformat": 4,
 "nbformat_minor": 2
}
